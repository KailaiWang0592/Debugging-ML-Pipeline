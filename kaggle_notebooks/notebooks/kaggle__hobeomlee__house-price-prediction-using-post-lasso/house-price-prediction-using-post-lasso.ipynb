{
 "cells": [
  {
   "cell_type": "code",
   "execution_count": null,
   "metadata": {
    "_cell_guid": "b1076dfc-b9ad-4769-8c92-a6c4dae69d19",
    "_uuid": "8f2839f25d086af736a60e9eeb907d3b93b6e0e5",
    "execution": {
     "iopub.execute_input": "2023-10-29T18:04:57.268695Z",
     "iopub.status.busy": "2023-10-29T18:04:57.268289Z",
     "iopub.status.idle": "2023-10-29T18:04:57.774293Z",
     "shell.execute_reply": "2023-10-29T18:04:57.773419Z",
     "shell.execute_reply.started": "2023-10-29T18:04:57.268636Z"
    }
   },
   "outputs": [],
   "source": [
    "# This Python 3 environment comes with many helpful analytics libraries installed\n",
    "# It is defined by the kaggle/python Docker image: https://github.com/kaggle/docker-python\n",
    "# For example, here's several helpful packages to load\n",
    "\n",
    "import numpy as np # linear algebra\n",
    "import pandas as pd # data processing, CSV file I/O (e.g. pd.read_csv)\n",
    "\n",
    "# Input data files are available in the read-only \"/share/dutta/eyao/dataset/kaggle/\" directory\n",
    "# For example, running this (by clicking run or pressing Shift+Enter) will list all files under the input directory\n",
    "\n",
    "import os\n",
    "for dirname, _, filenames in os.walk('/share/dutta/eyao/dataset/kaggle'):\n",
    "    for filename in filenames:\n",
    "        print(os.path.join(dirname, filename))\n",
    "\n",
    "# You can write up to 20GB to the current directory () that gets preserved as output when you create a version using \"Save & Run All\" \n",
    "# You can also write temporary files to /kaggle/temp/, but they won't be saved outside of the current session"
   ]
  },
  {
   "cell_type": "code",
   "execution_count": null,
   "metadata": {
    "execution": {
     "iopub.execute_input": "2023-10-29T18:12:32.263099Z",
     "iopub.status.busy": "2023-10-29T18:12:32.262676Z",
     "iopub.status.idle": "2023-10-29T18:12:33.772684Z",
     "shell.execute_reply": "2023-10-29T18:12:33.771425Z",
     "shell.execute_reply.started": "2023-10-29T18:12:32.263068Z"
    }
   },
   "outputs": [],
   "source": [
    "import pandas as pd\n",
    "import numpy as np\n",
    "import matplotlib.pyplot as plt\n",
    "import seaborn as sns\n",
    "from sklearn.linear_model import LassoCV, LinearRegression, Lasso, Ridge, ElasticNet\n",
    "from sklearn.metrics import mean_squared_error, r2_score\n",
    "from sklearn.model_selection import train_test_split, cross_val_score, GridSearchCV\n",
    "from sklearn.preprocessing import StandardScaler\n",
    "from sklearn.svm import SVR"
   ]
  },
  {
   "cell_type": "markdown",
   "metadata": {},
   "source": [
    "House Price Prediction\n",
    "=======================\n",
    "\n",
    "## 00. Abstract\n",
    "This study focuses on predicting house prices using the \"House Prices - Advanced Regression Techniques\" dataset from Kaggle, employing a suite of linear and non-linear regression models. Our methodology encompassed key preprocessing steps: post-Lasso feature selection, standardization, and One-Hot Encoding to handle categorical variables effectively. The models applied in this analysis were Linear Regression, Lasso, Ridge, Elastic Net, and Support Vector Machine (SVM).\n",
    "\n",
    "The performance of each model was rigorously assessed based on two primary metrics: Mean Squared Error (MSE) and R-Squared (R²). The results were as follows: The Linear Regression model showed an MSE of 0.013932 and an R² of 0.885240, demonstrating a solid baseline for performance. The Lasso regression, benefiting from post-Lasso feature selection, achieved a marginally better MSE of 0.013429 and an R² of 0.889384. Ridge regression posted an MSE of 0.013825 and an R² of 0.886124, indicating its reliability in handling multicollinearity among predictor variables.\n",
    "\n",
    "Further, the Elastic Net model, which combines features of both Lasso and Ridge, recorded an MSE of 0.013514 and an R² of 0.888686. This outcome suggests its effectiveness in model regularization and feature selection. Notably, the SVM model outperformed the other techniques, yielding the lowest MSE of 0.012983 and the highest R² of 0.893061. This superior performance underscores SVM's robustness in capturing complex, non-linear relationships within the dataset.\n",
    "\n",
    "These findings highlight the nuanced strengths of each regression model in the context of house price prediction. They also emphasize the importance of appropriate feature selection and data preprocessing methods like standardization and encoding in enhancing model performance. The comparative success of the SVM model particularly underlines the potential of more sophisticated, non-linear models in predictive accuracy for real estate market analysis."
   ]
  },
  {
   "cell_type": "markdown",
   "metadata": {},
   "source": [
    "**Tools / Libraries**: Python / Pandas, Numpy, Matplotlib, Seaborn, Scikit-learn\n",
    "<br/>\n",
    "**Dataset**: Kaggle Competition - House Prices - Advanced Regression Techniques\n",
    "<br/>\n",
    "**Data Preprocessing**: Feature Selection using \"Post-Lasso\", One-Hot Encoding, Standardization\n",
    "<br/>\n",
    "**Analysis Performed**: Correlation, Linear Regression, Lasso, Ridge, Elastic Net, Support Vector Machine"
   ]
  },
  {
   "cell_type": "code",
   "execution_count": null,
   "metadata": {
    "execution": {
     "iopub.execute_input": "2023-10-29T18:21:23.677807Z",
     "iopub.status.busy": "2023-10-29T18:21:23.677366Z",
     "iopub.status.idle": "2023-10-29T18:21:23.711916Z",
     "shell.execute_reply": "2023-10-29T18:21:23.710669Z",
     "shell.execute_reply.started": "2023-10-29T18:21:23.677775Z"
    }
   },
   "outputs": [],
   "source": [
    "df = pd.read_csv('/share/dutta/eyao/dataset/kaggle/house-prices-advanced-regression-techniques/train.csv')\n",
    "df.shape # 1460 Columns, 81 Rows"
   ]
  },
  {
   "cell_type": "code",
   "execution_count": null,
   "metadata": {
    "execution": {
     "iopub.execute_input": "2023-10-29T18:21:25.16533Z",
     "iopub.status.busy": "2023-10-29T18:21:25.164954Z",
     "iopub.status.idle": "2023-10-29T18:21:25.19214Z",
     "shell.execute_reply": "2023-10-29T18:21:25.190886Z",
     "shell.execute_reply.started": "2023-10-29T18:21:25.165301Z"
    }
   },
   "outputs": [],
   "source": [
    "df.head(5)"
   ]
  },
  {
   "cell_type": "code",
   "execution_count": null,
   "metadata": {
    "execution": {
     "iopub.execute_input": "2023-10-29T18:21:27.19254Z",
     "iopub.status.busy": "2023-10-29T18:21:27.192146Z",
     "iopub.status.idle": "2023-10-29T18:21:27.306348Z",
     "shell.execute_reply": "2023-10-29T18:21:27.304961Z",
     "shell.execute_reply.started": "2023-10-29T18:21:27.192501Z"
    }
   },
   "outputs": [],
   "source": [
    "df.describe()"
   ]
  },
  {
   "cell_type": "markdown",
   "metadata": {},
   "source": [
    "## 01. Data Preprocessing\n",
    "### 01) Null Vallues"
   ]
  },
  {
   "cell_type": "code",
   "execution_count": null,
   "metadata": {
    "execution": {
     "iopub.execute_input": "2023-10-29T18:21:29.759474Z",
     "iopub.status.busy": "2023-10-29T18:21:29.759029Z",
     "iopub.status.idle": "2023-10-29T18:21:29.785372Z",
     "shell.execute_reply": "2023-10-29T18:21:29.784488Z",
     "shell.execute_reply.started": "2023-10-29T18:21:29.759441Z"
    }
   },
   "outputs": [],
   "source": [
    "df_na = df.isna().sum().to_frame().reset_index()\n",
    "df_na.columns = [\"Column Name\", \"Null Count\"]\n",
    "df_na[\"Null Percentage\"] = round((df_na[\"Null Count\"] / len(df))*100, 2)\n",
    "df_na"
   ]
  },
  {
   "cell_type": "code",
   "execution_count": null,
   "metadata": {
    "execution": {
     "iopub.execute_input": "2023-10-29T18:21:34.441366Z",
     "iopub.status.busy": "2023-10-29T18:21:34.440969Z",
     "iopub.status.idle": "2023-10-29T18:21:34.451331Z",
     "shell.execute_reply": "2023-10-29T18:21:34.450005Z",
     "shell.execute_reply.started": "2023-10-29T18:21:34.441336Z"
    }
   },
   "outputs": [],
   "source": [
    "df_many_na_columns = df_na[df_na[\"Null Count\"] >= 200][\"Column Name\"].tolist()\n",
    "df_many_na_columns"
   ]
  },
  {
   "cell_type": "code",
   "execution_count": null,
   "metadata": {
    "execution": {
     "iopub.execute_input": "2023-10-29T18:21:55.925936Z",
     "iopub.status.busy": "2023-10-29T18:21:55.924744Z",
     "iopub.status.idle": "2023-10-29T18:21:55.936057Z",
     "shell.execute_reply": "2023-10-29T18:21:55.934726Z",
     "shell.execute_reply.started": "2023-10-29T18:21:55.925886Z"
    }
   },
   "outputs": [],
   "source": [
    "df_v1 = df.drop(columns=df_many_na_columns, axis=1)\n",
    "df_v1.shape # 1460 Rows 74 Columns (81 Columns -> 74 Columns)"
   ]
  },
  {
   "cell_type": "code",
   "execution_count": null,
   "metadata": {
    "execution": {
     "iopub.execute_input": "2023-10-29T18:22:08.81363Z",
     "iopub.status.busy": "2023-10-29T18:22:08.813218Z",
     "iopub.status.idle": "2023-10-29T18:22:08.831323Z",
     "shell.execute_reply": "2023-10-29T18:22:08.829913Z",
     "shell.execute_reply.started": "2023-10-29T18:22:08.813599Z"
    }
   },
   "outputs": [],
   "source": [
    "df_few_na_columns = df_na[(df_na[\"Null Count\"] < 200) & (df_na[\"Null Count\"] > 0)][\"Column Name\"].tolist()\n",
    "df_na[df_na[\"Column Name\"].isin(df_few_na_columns)]"
   ]
  },
  {
   "cell_type": "code",
   "execution_count": null,
   "metadata": {
    "execution": {
     "iopub.execute_input": "2023-10-29T18:22:12.332118Z",
     "iopub.status.busy": "2023-10-29T18:22:12.331729Z",
     "iopub.status.idle": "2023-10-29T18:22:12.349037Z",
     "shell.execute_reply": "2023-10-29T18:22:12.347542Z",
     "shell.execute_reply.started": "2023-10-29T18:22:12.33209Z"
    }
   },
   "outputs": [],
   "source": [
    "df_v2 = df_v1.dropna()\n",
    "df_v2.shape # 1338 Rows 74 Columns (1460 Rows -> 1338 Rows)"
   ]
  },
  {
   "cell_type": "markdown",
   "metadata": {},
   "source": [
    "### 02) Useless Columns\n",
    "#### [01] Id\n",
    "Id Column did not contain meaningful value since it was solely for \"Numbering\" the observations (rows)."
   ]
  },
  {
   "cell_type": "code",
   "execution_count": null,
   "metadata": {
    "execution": {
     "iopub.execute_input": "2023-10-29T18:22:18.625798Z",
     "iopub.status.busy": "2023-10-29T18:22:18.624865Z",
     "iopub.status.idle": "2023-10-29T18:22:18.636873Z",
     "shell.execute_reply": "2023-10-29T18:22:18.635577Z",
     "shell.execute_reply.started": "2023-10-29T18:22:18.625747Z"
    }
   },
   "outputs": [],
   "source": [
    "df_v3 = df_v2.drop(\"Id\", axis=1)\n",
    "df_v3.shape # 1338 Rows 73 Columns (75 Columns -> 73 Columns)"
   ]
  },
  {
   "cell_type": "markdown",
   "metadata": {},
   "source": [
    "#### [02] Utilities\n",
    "Vast majority of observations are in \"AllPub\", meaning that this column couldn't contribute to our model.\n",
    "<br/>Thus, we dropped this column."
   ]
  },
  {
   "cell_type": "code",
   "execution_count": null,
   "metadata": {
    "execution": {
     "iopub.execute_input": "2023-10-29T18:22:24.500955Z",
     "iopub.status.busy": "2023-10-29T18:22:24.499274Z",
     "iopub.status.idle": "2023-10-29T18:22:24.750134Z",
     "shell.execute_reply": "2023-10-29T18:22:24.748927Z",
     "shell.execute_reply.started": "2023-10-29T18:22:24.500878Z"
    }
   },
   "outputs": [],
   "source": [
    "plt.figure(figsize=(10, 6))\n",
    "sns.boxplot(data=df_v3, x=\"Utilities\", y=\"SalePrice\")\n",
    "plt.title(\"House Prices by Utilities\")\n",
    "plt.show()"
   ]
  },
  {
   "cell_type": "code",
   "execution_count": null,
   "metadata": {
    "execution": {
     "iopub.execute_input": "2023-10-29T18:22:27.960434Z",
     "iopub.status.busy": "2023-10-29T18:22:27.959991Z",
     "iopub.status.idle": "2023-10-29T18:22:27.969928Z",
     "shell.execute_reply": "2023-10-29T18:22:27.968939Z",
     "shell.execute_reply.started": "2023-10-29T18:22:27.960402Z"
    }
   },
   "outputs": [],
   "source": [
    "df_v4 = df_v3.drop(\"Utilities\", axis = 1)\n",
    "df_v4.shape # 1338 Rows 72 Columns (74 Columns -> 72 Columns)"
   ]
  },
  {
   "cell_type": "markdown",
   "metadata": {},
   "source": [
    "### 03) Outliers\n",
    "Removing outliers for every variable could lead to significant decrease in the size of dataset, hence we decided to remove outliers from our dependent variable."
   ]
  },
  {
   "cell_type": "code",
   "execution_count": null,
   "metadata": {
    "execution": {
     "iopub.execute_input": "2023-10-29T18:22:34.484831Z",
     "iopub.status.busy": "2023-10-29T18:22:34.484307Z",
     "iopub.status.idle": "2023-10-29T18:22:34.49619Z",
     "shell.execute_reply": "2023-10-29T18:22:34.494907Z",
     "shell.execute_reply.started": "2023-10-29T18:22:34.484792Z"
    }
   },
   "outputs": [],
   "source": [
    "print(df_v4.sort_values(by=\"SalePrice\", ascending=False)[\"SalePrice\"].head(10))"
   ]
  },
  {
   "cell_type": "code",
   "execution_count": null,
   "metadata": {
    "execution": {
     "iopub.execute_input": "2023-10-29T18:22:37.399571Z",
     "iopub.status.busy": "2023-10-29T18:22:37.399166Z",
     "iopub.status.idle": "2023-10-29T18:22:37.410063Z",
     "shell.execute_reply": "2023-10-29T18:22:37.408621Z",
     "shell.execute_reply.started": "2023-10-29T18:22:37.399542Z"
    }
   },
   "outputs": [],
   "source": [
    "print(df_v4.sort_values(by=\"SalePrice\", ascending=True)[\"SalePrice\"].head(10))"
   ]
  },
  {
   "cell_type": "code",
   "execution_count": null,
   "metadata": {
    "execution": {
     "iopub.execute_input": "2023-10-29T18:22:40.532315Z",
     "iopub.status.busy": "2023-10-29T18:22:40.531873Z",
     "iopub.status.idle": "2023-10-29T18:22:40.548383Z",
     "shell.execute_reply": "2023-10-29T18:22:40.547124Z",
     "shell.execute_reply.started": "2023-10-29T18:22:40.532283Z"
    }
   },
   "outputs": [],
   "source": [
    "expensive_top2 = df_v4.sort_values(by=\"SalePrice\", ascending=False).head(2).index\n",
    "cheap_top2 = df_v4.sort_values(by=\"SalePrice\", ascending=True).head(2).index\n",
    "drop_index = expensive_top2.union(cheap_top2)\n",
    "\n",
    "df_v5 = df_v4.drop(drop_index)\n",
    "df_v5.shape # 1334 Rows 72 Columns (1338 Rows -> 1334 Rows)"
   ]
  },
  {
   "cell_type": "markdown",
   "metadata": {},
   "source": [
    "### 04) Correlation Matrix"
   ]
  },
  {
   "cell_type": "code",
   "execution_count": null,
   "metadata": {
    "execution": {
     "iopub.execute_input": "2023-10-29T18:22:45.573855Z",
     "iopub.status.busy": "2023-10-29T18:22:45.573387Z",
     "iopub.status.idle": "2023-10-29T18:22:45.582621Z",
     "shell.execute_reply": "2023-10-29T18:22:45.581335Z",
     "shell.execute_reply.started": "2023-10-29T18:22:45.573821Z"
    }
   },
   "outputs": [],
   "source": [
    "# Numerical Variables\n",
    "numerical_columns = df_v5.select_dtypes(include=np.number).columns.tolist()\n",
    "print(numerical_columns)\n",
    "print(len(numerical_columns)) # 36 Columns"
   ]
  },
  {
   "cell_type": "code",
   "execution_count": null,
   "metadata": {
    "execution": {
     "iopub.execute_input": "2023-10-29T18:22:49.17378Z",
     "iopub.status.busy": "2023-10-29T18:22:49.173209Z",
     "iopub.status.idle": "2023-10-29T18:22:49.187526Z",
     "shell.execute_reply": "2023-10-29T18:22:49.186664Z",
     "shell.execute_reply.started": "2023-10-29T18:22:49.173735Z"
    }
   },
   "outputs": [],
   "source": [
    "corr_matrix = df_v5[numerical_columns].corr()"
   ]
  },
  {
   "cell_type": "markdown",
   "metadata": {},
   "source": [
    "Pearson Coefficient with the value less than 0.2 is considered to be tricial correlation, so that we decided to remove the variables with low coefficient to enhance our model. "
   ]
  },
  {
   "cell_type": "code",
   "execution_count": null,
   "metadata": {
    "execution": {
     "iopub.execute_input": "2023-10-29T18:22:51.535899Z",
     "iopub.status.busy": "2023-10-29T18:22:51.535495Z",
     "iopub.status.idle": "2023-10-29T18:22:51.543517Z",
     "shell.execute_reply": "2023-10-29T18:22:51.542713Z",
     "shell.execute_reply.started": "2023-10-29T18:22:51.535866Z"
    }
   },
   "outputs": [],
   "source": [
    "# Low Correaltion ( < 0.2)\n",
    "low_corr = corr_matrix[corr_matrix[\"SalePrice\"].abs() < 0.2].index.tolist()\n",
    "print(low_corr)\n",
    "print(len(low_corr)) # 15 Columns"
   ]
  },
  {
   "cell_type": "code",
   "execution_count": null,
   "metadata": {
    "execution": {
     "iopub.execute_input": "2023-10-29T18:22:53.830224Z",
     "iopub.status.busy": "2023-10-29T18:22:53.829839Z",
     "iopub.status.idle": "2023-10-29T18:22:53.841038Z",
     "shell.execute_reply": "2023-10-29T18:22:53.839554Z",
     "shell.execute_reply.started": "2023-10-29T18:22:53.830195Z"
    }
   },
   "outputs": [],
   "source": [
    "df_v6 = df_v5.drop(columns=low_corr, axis=1)\n",
    "df_v6.shape # 1334 Rows 57 Columns (73 Columns -> 57 Columns)"
   ]
  },
  {
   "cell_type": "markdown",
   "metadata": {},
   "source": [
    "In an analysis of **multicollinearity** within a housing dataset, high correlations (Pearson's correlation coefficient above 0.8) were identified between three pairs of independent variables. To address this, the variable in each pair with the lower correlation to the sale price (SalePrice) was removed. The pairs and their likely reasons for multicollinearity are summarized as follows:\n",
    "\n",
    "**TotalBsmtSF and 1stFlrSF (Correlation: 0.83)**\n",
    "<br/>TotalBsmtSF: Total square feet of basement area.\n",
    "1stFlrSF: First floor square feet.\n",
    "The high correlation is logical since the area of the first floor (1stFlrSF) is often similar or identical to the basement area (TotalBsmtSF), especially in houses where the basement covers the entire footprint of the first floor.\n",
    "GarageYrBlt and YearBuilt (Correlation: 0.82)\n",
    "\n",
    "**YearBuilt: Original construction date.**\n",
    "<br/>GarageYrBlt: Year garage was built.\n",
    "This correlation is reasonable because garages are typically built at the same time as the house, leading to a close association between the construction year of the house (YearBuilt) and the year the garage was built (GarageYrBlt).\n",
    "TotRmsAbvGrd and GrLivArea (Correlation: 0.83)\n",
    "\n",
    "**TotRmsAbvGrd: Total rooms above grade (excluding bathrooms).**\n",
    "<br/>GrLivArea: Above grade (ground) living area square feet.\n",
    "The correlation here can be explained by the fact that a larger living area (GrLivArea) usually contains more rooms (TotRmsAbvGrd). Hence, as the living area increases, the number of rooms above grade typically increases as well."
   ]
  },
  {
   "cell_type": "code",
   "execution_count": null,
   "metadata": {
    "execution": {
     "iopub.execute_input": "2023-10-29T18:23:01.584205Z",
     "iopub.status.busy": "2023-10-29T18:23:01.58382Z",
     "iopub.status.idle": "2023-10-29T18:23:01.592995Z",
     "shell.execute_reply": "2023-10-29T18:23:01.591722Z",
     "shell.execute_reply.started": "2023-10-29T18:23:01.584176Z"
    }
   },
   "outputs": [],
   "source": [
    "# high Correlation ( >= 0.2)\n",
    "high_corr = corr_matrix[corr_matrix[\"SalePrice\"].abs() >= 0.2].index.tolist()\n",
    "print(high_corr)\n",
    "print(len(high_corr)) # 21 Columns"
   ]
  },
  {
   "cell_type": "code",
   "execution_count": null,
   "metadata": {
    "execution": {
     "iopub.execute_input": "2023-10-29T18:23:03.761139Z",
     "iopub.status.busy": "2023-10-29T18:23:03.760527Z",
     "iopub.status.idle": "2023-10-29T18:23:05.760261Z",
     "shell.execute_reply": "2023-10-29T18:23:05.758862Z",
     "shell.execute_reply.started": "2023-10-29T18:23:03.761093Z"
    }
   },
   "outputs": [],
   "source": [
    "high_correlation = df_v6[high_corr].corr()\n",
    "\n",
    "plt.figure(figsize=(12, 9))\n",
    "sns.heatmap(high_correlation, annot=True, cmap=\"coolwarm\", vmin=-1, vmax=1)\n",
    "plt.title(\"High Correlation Heatmap\")\n",
    "plt.show()"
   ]
  },
  {
   "cell_type": "code",
   "execution_count": null,
   "metadata": {
    "execution": {
     "iopub.execute_input": "2023-10-29T18:23:09.124988Z",
     "iopub.status.busy": "2023-10-29T18:23:09.124522Z",
     "iopub.status.idle": "2023-10-29T18:23:09.136027Z",
     "shell.execute_reply": "2023-10-29T18:23:09.134576Z",
     "shell.execute_reply.started": "2023-10-29T18:23:09.124954Z"
    }
   },
   "outputs": [],
   "source": [
    "df_v7 = df_v6.drop(columns=[\"TotalBsmtSF\", \"GarageYrBlt\", \"TotRmsAbvGrd\"], axis=1)\n",
    "df_v7.shape # 1334 Rows 54 Columns (58 columns -> 54 columns)"
   ]
  },
  {
   "cell_type": "markdown",
   "metadata": {},
   "source": [
    "### 05) Log Transformation - Dependent Variable"
   ]
  },
  {
   "cell_type": "code",
   "execution_count": null,
   "metadata": {
    "execution": {
     "iopub.execute_input": "2023-10-29T18:23:16.049487Z",
     "iopub.status.busy": "2023-10-29T18:23:16.049016Z",
     "iopub.status.idle": "2023-10-29T18:23:16.559787Z",
     "shell.execute_reply": "2023-10-29T18:23:16.558158Z",
     "shell.execute_reply.started": "2023-10-29T18:23:16.049449Z"
    }
   },
   "outputs": [],
   "source": [
    "plt.figure(figsize=(10,6))\n",
    "sns.histplot(df_v7[\"SalePrice\"], kde=True, bins=50)\n",
    "plt.title(\"Distribution of SalePrice\")\n",
    "plt.grid(True)\n",
    "plt.show()\n",
    "\n",
    "# Right-Skewed"
   ]
  },
  {
   "cell_type": "code",
   "execution_count": null,
   "metadata": {
    "execution": {
     "iopub.execute_input": "2023-10-29T18:23:19.076789Z",
     "iopub.status.busy": "2023-10-29T18:23:19.076335Z",
     "iopub.status.idle": "2023-10-29T18:23:19.08708Z",
     "shell.execute_reply": "2023-10-29T18:23:19.08561Z",
     "shell.execute_reply.started": "2023-10-29T18:23:19.076754Z"
    }
   },
   "outputs": [],
   "source": [
    "df_v7[\"Log_SalePrice\"] = np.log(df_v7[\"SalePrice\"])\n",
    "df_v7.shape # 1334 Rows 55 Columns (54 Columns -> 55 Columns)"
   ]
  },
  {
   "cell_type": "code",
   "execution_count": null,
   "metadata": {
    "execution": {
     "iopub.execute_input": "2023-10-29T18:23:27.460523Z",
     "iopub.status.busy": "2023-10-29T18:23:27.460137Z",
     "iopub.status.idle": "2023-10-29T18:23:27.933809Z",
     "shell.execute_reply": "2023-10-29T18:23:27.932873Z",
     "shell.execute_reply.started": "2023-10-29T18:23:27.460492Z"
    }
   },
   "outputs": [],
   "source": [
    "# After Log Transformation\n",
    "plt.figure(figsize=(10,6))\n",
    "sns.histplot(df_v7[\"Log_SalePrice\"], kde=True, bins=50)\n",
    "plt.title(\"Distribution of Log_SalePrice\")\n",
    "plt.grid(True)\n",
    "plt.show()"
   ]
  },
  {
   "cell_type": "markdown",
   "metadata": {},
   "source": [
    "### 06) One-Hot Encoing (Creating Dummy Variables)"
   ]
  },
  {
   "cell_type": "code",
   "execution_count": null,
   "metadata": {
    "execution": {
     "iopub.execute_input": "2023-10-29T18:23:45.173458Z",
     "iopub.status.busy": "2023-10-29T18:23:45.173033Z",
     "iopub.status.idle": "2023-10-29T18:23:45.183076Z",
     "shell.execute_reply": "2023-10-29T18:23:45.181614Z",
     "shell.execute_reply.started": "2023-10-29T18:23:45.173427Z"
    }
   },
   "outputs": [],
   "source": [
    "# Categorical Variables\n",
    "categorical_columns = df_v7.select_dtypes(include=['object']).columns.tolist()\n",
    "print(categorical_columns)\n",
    "print(len(categorical_columns)) # 36"
   ]
  },
  {
   "cell_type": "code",
   "execution_count": null,
   "metadata": {
    "execution": {
     "iopub.execute_input": "2023-10-29T18:23:54.459811Z",
     "iopub.status.busy": "2023-10-29T18:23:54.459039Z",
     "iopub.status.idle": "2023-10-29T18:23:54.502754Z",
     "shell.execute_reply": "2023-10-29T18:23:54.501494Z",
     "shell.execute_reply.started": "2023-10-29T18:23:54.459772Z"
    }
   },
   "outputs": [],
   "source": [
    "df_v8 = pd.get_dummies(df_v7, columns=categorical_columns, drop_first=True)\n",
    "df_v8.shape # 1334 Rows 206 Columns (56 Columns -> 206 Columns)"
   ]
  },
  {
   "cell_type": "markdown",
   "metadata": {},
   "source": [
    "## 02. Post Lasso\n",
    "\n",
    "**\"Post Lasso\"** is a methodology used in linear regression analysis, particularly effective in high-dimensional datasets with a large number of potential predictors. It encompasses a two-step process aimed at improving model accuracy and interpretability.\n",
    "\n",
    "The first step involves applying Lasso (Least Absolute Shrinkage and Selection Operator) regression, which integrates both variable selection and regularization. Lasso's key feature is its penalty on the absolute size of coefficients, leading to some coefficients being entirely reduced to zero. This attribute allows Lasso to exclude irrelevant variables, thus selecting a more manageable subset of significant predictors from a vast array.\n",
    "\n",
    "The subsequent step is refitting a traditional linear regression model, but only with the variables identified by the Lasso step. This action is crucial because Lasso, while effective for variable selection, can introduce bias due to its coefficient shrinkage. Refitting with linear regression aims to address this bias, thereby potentially enhancing the accuracy of parameter estimates.\n",
    "\n",
    "Post Lasso is especially useful in scenarios where the number of variables surpasses the number of observations, or the data complexity is high. It offers a balanced approach: reducing model variance by eliminating insignificant predictors through Lasso and then decreasing bias with linear regression on the selected predictors. The result is a model that is both simplified and less prone to overfitting, without sacrificing interpretability or robustness."
   ]
  },
  {
   "cell_type": "code",
   "execution_count": null,
   "metadata": {
    "execution": {
     "iopub.execute_input": "2023-10-29T18:24:44.080369Z",
     "iopub.status.busy": "2023-10-29T18:24:44.079908Z",
     "iopub.status.idle": "2023-10-29T18:24:44.138303Z",
     "shell.execute_reply": "2023-10-29T18:24:44.137413Z",
     "shell.execute_reply.started": "2023-10-29T18:24:44.080337Z"
    }
   },
   "outputs": [],
   "source": [
    "# Dataset\n",
    "X = df_v8.drop(columns=[\"SalePrice\", \"Log_SalePrice\"], axis=1)\n",
    "y = df_v8[\"Log_SalePrice\"]\n",
    "\n",
    "# Split\n",
    "X_train, X_test, y_train, y_test = train_test_split(X, y, test_size=0.2, random_state=42)\n",
    "\n",
    "# Standardization\n",
    "scaler = StandardScaler()\n",
    "X_train_scaled = scaler.fit_transform(X_train)\n",
    "X_test_scaled = scaler.fit_transform(X_test)"
   ]
  },
  {
   "cell_type": "code",
   "execution_count": null,
   "metadata": {
    "execution": {
     "iopub.execute_input": "2023-10-29T18:24:54.081872Z",
     "iopub.status.busy": "2023-10-29T18:24:54.081348Z",
     "iopub.status.idle": "2023-10-29T18:24:55.503356Z",
     "shell.execute_reply": "2023-10-29T18:24:55.502163Z",
     "shell.execute_reply.started": "2023-10-29T18:24:54.081835Z"
    }
   },
   "outputs": [],
   "source": [
    "# LassoCV\n",
    "alphas = np.logspace(-4, 4, 50)\n",
    "lasso_cv = LassoCV(alphas=alphas, cv=5, max_iter=10000, random_state=42)\n",
    "lasso_cv.fit(X_train_scaled, y_train)"
   ]
  },
  {
   "cell_type": "code",
   "execution_count": null,
   "metadata": {
    "execution": {
     "iopub.execute_input": "2023-10-29T18:25:01.923676Z",
     "iopub.status.busy": "2023-10-29T18:25:01.92323Z",
     "iopub.status.idle": "2023-10-29T18:25:01.930521Z",
     "shell.execute_reply": "2023-10-29T18:25:01.929153Z",
     "shell.execute_reply.started": "2023-10-29T18:25:01.923628Z"
    }
   },
   "outputs": [],
   "source": [
    "print(f\"Optimal Alpha Value: {lasso_cv.alpha_}\") # Optimal Alpha Value: 0.004291934260128779"
   ]
  },
  {
   "cell_type": "code",
   "execution_count": null,
   "metadata": {
    "execution": {
     "iopub.execute_input": "2023-10-29T18:25:07.975783Z",
     "iopub.status.busy": "2023-10-29T18:25:07.975362Z",
     "iopub.status.idle": "2023-10-29T18:25:07.983984Z",
     "shell.execute_reply": "2023-10-29T18:25:07.982407Z",
     "shell.execute_reply.started": "2023-10-29T18:25:07.975753Z"
    }
   },
   "outputs": [],
   "source": [
    "remove_features = np.array(X.columns)[lasso_cv.coef_ == 0]\n",
    "print(remove_features)\n",
    "print(len(remove_features)) # 109"
   ]
  },
  {
   "cell_type": "code",
   "execution_count": null,
   "metadata": {
    "execution": {
     "iopub.execute_input": "2023-10-29T18:25:19.530059Z",
     "iopub.status.busy": "2023-10-29T18:25:19.529673Z",
     "iopub.status.idle": "2023-10-29T18:25:19.542037Z",
     "shell.execute_reply": "2023-10-29T18:25:19.540357Z",
     "shell.execute_reply.started": "2023-10-29T18:25:19.530029Z"
    }
   },
   "outputs": [],
   "source": [
    "df_lasso = df_v8.drop(columns=remove_features, axis=1)\n",
    "df_lasso.shape # 1334 Rows 97 Columns (206 Columns -> 97 Columns)"
   ]
  },
  {
   "cell_type": "markdown",
   "metadata": {},
   "source": [
    "## 03.Modeling\n",
    "### 01) Linear Regression"
   ]
  },
  {
   "cell_type": "code",
   "execution_count": null,
   "metadata": {
    "execution": {
     "iopub.execute_input": "2023-10-29T18:26:10.603966Z",
     "iopub.status.busy": "2023-10-29T18:26:10.603547Z",
     "iopub.status.idle": "2023-10-29T18:26:10.643114Z",
     "shell.execute_reply": "2023-10-29T18:26:10.642033Z",
     "shell.execute_reply.started": "2023-10-29T18:26:10.603934Z"
    }
   },
   "outputs": [],
   "source": [
    "# Data\n",
    "X = df_lasso.drop(columns = [\"SalePrice\", \"Log_SalePrice\"])\n",
    "y = df_lasso[\"Log_SalePrice\"]\n",
    "\n",
    "# Split\n",
    "X_train, X_test, y_train, y_test = train_test_split(X, y, test_size=0.2, random_state=42)\n",
    "\n",
    "# Standardization\n",
    "scaler = StandardScaler()\n",
    "X_train_scaled = scaler.fit_transform(X_train)\n",
    "X_test_scaled = scaler.fit_transform(X_test)"
   ]
  },
  {
   "cell_type": "code",
   "execution_count": null,
   "metadata": {
    "execution": {
     "iopub.execute_input": "2023-10-29T18:26:12.322445Z",
     "iopub.status.busy": "2023-10-29T18:26:12.322039Z",
     "iopub.status.idle": "2023-10-29T18:26:12.551588Z",
     "shell.execute_reply": "2023-10-29T18:26:12.549959Z",
     "shell.execute_reply.started": "2023-10-29T18:26:12.322414Z"
    }
   },
   "outputs": [],
   "source": [
    "# Model\n",
    "linear_model = LinearRegression()\n",
    "\n",
    "# Cross Validation\n",
    "cv_score = cross_val_score(linear_model, X_train_scaled, y_train, cv=5, scoring='neg_mean_squared_error')\n",
    "\n",
    "# Training\n",
    "linear_model.fit(X_train_scaled, y_train)\n",
    "y_pred = linear_model.predict(X_test_scaled)\n",
    "linear_mse = mean_squared_error(y_test, y_pred)\n",
    "linear_r2 = r2_score(y_test, y_pred)"
   ]
  },
  {
   "cell_type": "code",
   "execution_count": null,
   "metadata": {
    "execution": {
     "iopub.execute_input": "2023-10-29T18:26:43.74321Z",
     "iopub.status.busy": "2023-10-29T18:26:43.742829Z",
     "iopub.status.idle": "2023-10-29T18:26:43.749742Z",
     "shell.execute_reply": "2023-10-29T18:26:43.748617Z",
     "shell.execute_reply.started": "2023-10-29T18:26:43.743181Z"
    }
   },
   "outputs": [],
   "source": [
    "print(linear_mse) # 0.013932131659777207\n",
    "print(linear_r2) # 0.8852401953026643"
   ]
  },
  {
   "cell_type": "markdown",
   "metadata": {},
   "source": [
    "### 02) Lasso"
   ]
  },
  {
   "cell_type": "code",
   "execution_count": null,
   "metadata": {
    "execution": {
     "iopub.execute_input": "2023-10-29T18:27:04.483754Z",
     "iopub.status.busy": "2023-10-29T18:27:04.483346Z",
     "iopub.status.idle": "2023-10-29T18:27:04.962353Z",
     "shell.execute_reply": "2023-10-29T18:27:04.960816Z",
     "shell.execute_reply.started": "2023-10-29T18:27:04.48371Z"
    }
   },
   "outputs": [],
   "source": [
    "# parameters\n",
    "alphas = [0.001, 0.01, 0.1, 1, 10]\n",
    "best_alpha = None\n",
    "best_score = float('inf')\n",
    "\n",
    "for alpha in alphas:\n",
    "  lasso = Lasso(alpha=alpha)\n",
    "  cv_scores = cross_val_score(lasso, X_train_scaled, y_train, cv=5, scoring='neg_mean_squared_error')\n",
    "  mean_cv_scores = -cv_scores.mean()\n",
    "\n",
    "  if mean_cv_scores < best_score:\n",
    "    best_score = mean_cv_scores\n",
    "    best_alpha = alpha"
   ]
  },
  {
   "cell_type": "code",
   "execution_count": null,
   "metadata": {
    "execution": {
     "iopub.execute_input": "2023-10-29T18:27:09.691168Z",
     "iopub.status.busy": "2023-10-29T18:27:09.690765Z",
     "iopub.status.idle": "2023-10-29T18:27:09.696733Z",
     "shell.execute_reply": "2023-10-29T18:27:09.695899Z",
     "shell.execute_reply.started": "2023-10-29T18:27:09.691136Z"
    }
   },
   "outputs": [],
   "source": [
    "print(best_alpha) # 0.001\n",
    "print(best_score) # 0.019635386910392665"
   ]
  },
  {
   "cell_type": "code",
   "execution_count": null,
   "metadata": {
    "execution": {
     "iopub.execute_input": "2023-10-29T18:27:15.493726Z",
     "iopub.status.busy": "2023-10-29T18:27:15.493298Z",
     "iopub.status.idle": "2023-10-29T18:27:15.538286Z",
     "shell.execute_reply": "2023-10-29T18:27:15.53557Z",
     "shell.execute_reply.started": "2023-10-29T18:27:15.493693Z"
    }
   },
   "outputs": [],
   "source": [
    "# Best Lasso Model\n",
    "lasso_best = Lasso(alpha=best_alpha)\n",
    "lasso_best.fit(X_train_scaled, y_train)\n",
    "\n",
    "y_pred = lasso_best.predict(X_test_scaled)\n",
    "lasso_mse = mean_squared_error(y_test, y_pred)\n",
    "lasso_r2 = r2_score(y_test, y_pred)"
   ]
  },
  {
   "cell_type": "code",
   "execution_count": null,
   "metadata": {
    "execution": {
     "iopub.execute_input": "2023-10-29T18:27:19.618075Z",
     "iopub.status.busy": "2023-10-29T18:27:19.617688Z",
     "iopub.status.idle": "2023-10-29T18:27:19.62436Z",
     "shell.execute_reply": "2023-10-29T18:27:19.62317Z",
     "shell.execute_reply.started": "2023-10-29T18:27:19.618045Z"
    }
   },
   "outputs": [],
   "source": [
    "print(lasso_mse) # 0.013429016176088117\n",
    "print(lasso_r2) # 0.8893843877391352"
   ]
  },
  {
   "cell_type": "markdown",
   "metadata": {},
   "source": [
    "### 03) Ridge"
   ]
  },
  {
   "cell_type": "code",
   "execution_count": null,
   "metadata": {
    "execution": {
     "iopub.execute_input": "2023-10-29T18:27:30.090162Z",
     "iopub.status.busy": "2023-10-29T18:27:30.089721Z",
     "iopub.status.idle": "2023-10-29T18:27:30.596958Z",
     "shell.execute_reply": "2023-10-29T18:27:30.595484Z",
     "shell.execute_reply.started": "2023-10-29T18:27:30.090121Z"
    }
   },
   "outputs": [],
   "source": [
    "ridge = Ridge()\n",
    "parameters = {'alpha': alphas}\n",
    "\n",
    "ridge_model = GridSearchCV(ridge, parameters, scoring='neg_mean_squared_error', cv=5)\n",
    "ridge_model.fit(X_train_scaled, y_train)"
   ]
  },
  {
   "cell_type": "code",
   "execution_count": null,
   "metadata": {
    "execution": {
     "iopub.execute_input": "2023-10-29T18:27:35.111791Z",
     "iopub.status.busy": "2023-10-29T18:27:35.111328Z",
     "iopub.status.idle": "2023-10-29T18:27:35.124351Z",
     "shell.execute_reply": "2023-10-29T18:27:35.122702Z",
     "shell.execute_reply.started": "2023-10-29T18:27:35.111757Z"
    }
   },
   "outputs": [],
   "source": [
    "best_ridge = ridge_model.best_estimator_\n",
    "y_pred = best_ridge.predict(X_test_scaled)\n",
    "ridge_mse = mean_squared_error(y_test, y_pred)\n",
    "ridge_r2 = r2_score(y_test, y_pred)"
   ]
  },
  {
   "cell_type": "code",
   "execution_count": null,
   "metadata": {
    "execution": {
     "iopub.execute_input": "2023-10-29T18:27:39.561401Z",
     "iopub.status.busy": "2023-10-29T18:27:39.560992Z",
     "iopub.status.idle": "2023-10-29T18:27:39.567022Z",
     "shell.execute_reply": "2023-10-29T18:27:39.566047Z",
     "shell.execute_reply.started": "2023-10-29T18:27:39.56137Z"
    }
   },
   "outputs": [],
   "source": [
    "print(ridge_mse) # 0.013824855747062038\n",
    "print(ridge_r2) # 0.8861238334344703"
   ]
  },
  {
   "cell_type": "markdown",
   "metadata": {},
   "source": [
    "### 04) Elastic Net "
   ]
  },
  {
   "cell_type": "code",
   "execution_count": null,
   "metadata": {
    "execution": {
     "iopub.execute_input": "2023-10-29T18:27:53.65077Z",
     "iopub.status.busy": "2023-10-29T18:27:53.650339Z",
     "iopub.status.idle": "2023-10-29T18:27:54.743997Z",
     "shell.execute_reply": "2023-10-29T18:27:54.742136Z",
     "shell.execute_reply.started": "2023-10-29T18:27:53.650737Z"
    }
   },
   "outputs": [],
   "source": [
    "l1_ratios = [0.2, 0.5, 0.8]\n",
    "elastic_net = ElasticNet()\n",
    "parameters = {'alpha':alphas, 'l1_ratio': l1_ratios}\n",
    "\n",
    "elastic_net_model = GridSearchCV(elastic_net, parameters, scoring='neg_mean_squared_error', cv=5)\n",
    "elastic_net_model.fit(X_train_scaled, y_train)"
   ]
  },
  {
   "cell_type": "code",
   "execution_count": null,
   "metadata": {
    "execution": {
     "iopub.execute_input": "2023-10-29T18:27:57.536231Z",
     "iopub.status.busy": "2023-10-29T18:27:57.535804Z",
     "iopub.status.idle": "2023-10-29T18:27:57.550426Z",
     "shell.execute_reply": "2023-10-29T18:27:57.547937Z",
     "shell.execute_reply.started": "2023-10-29T18:27:57.53619Z"
    }
   },
   "outputs": [],
   "source": [
    "best_elastic_net = elastic_net_model.best_estimator_\n",
    "y_pred = best_elastic_net.predict(X_test_scaled)\n",
    "elastic_net_mse = mean_squared_error(y_test, y_pred)\n",
    "elastic_net_r2 = r2_score(y_test, y_pred)"
   ]
  },
  {
   "cell_type": "code",
   "execution_count": null,
   "metadata": {
    "execution": {
     "iopub.execute_input": "2023-10-29T18:28:01.930296Z",
     "iopub.status.busy": "2023-10-29T18:28:01.929884Z",
     "iopub.status.idle": "2023-10-29T18:28:01.937024Z",
     "shell.execute_reply": "2023-10-29T18:28:01.935769Z",
     "shell.execute_reply.started": "2023-10-29T18:28:01.930265Z"
    }
   },
   "outputs": [],
   "source": [
    "print(elastic_net_mse) # 0.013513780328747907\n",
    "print(elastic_net_r2) # 0.888686180326076"
   ]
  },
  {
   "cell_type": "markdown",
   "metadata": {},
   "source": [
    "### 05) Support Vector Machine (SVM)"
   ]
  },
  {
   "cell_type": "code",
   "execution_count": null,
   "metadata": {
    "execution": {
     "iopub.execute_input": "2023-10-29T18:28:23.29308Z",
     "iopub.status.busy": "2023-10-29T18:28:23.292678Z",
     "iopub.status.idle": "2023-10-29T18:28:33.037149Z",
     "shell.execute_reply": "2023-10-29T18:28:33.035928Z",
     "shell.execute_reply.started": "2023-10-29T18:28:23.29305Z"
    }
   },
   "outputs": [],
   "source": [
    "svr = SVR()\n",
    "parameters = {'C': [0.1, 1, 10, 100, 1000], 'gamma': [1, 0.1, 0.01, 0.001, 0.0001]}\n",
    "svr_model = GridSearchCV(svr, parameters, scoring='neg_mean_squared_error', cv=5)\n",
    "svr_model.fit(X_train_scaled, y_train)"
   ]
  },
  {
   "cell_type": "code",
   "execution_count": null,
   "metadata": {
    "execution": {
     "iopub.execute_input": "2023-10-29T18:28:35.370878Z",
     "iopub.status.busy": "2023-10-29T18:28:35.370424Z",
     "iopub.status.idle": "2023-10-29T18:28:35.392191Z",
     "shell.execute_reply": "2023-10-29T18:28:35.390975Z",
     "shell.execute_reply.started": "2023-10-29T18:28:35.370844Z"
    }
   },
   "outputs": [],
   "source": [
    "best_svr = svr_model.best_estimator_\n",
    "y_pred = best_svr.predict(X_test_scaled)\n",
    "svr_mse = mean_squared_error(y_test, y_pred)\n",
    "svr_r2 = r2_score(y_test, y_pred)"
   ]
  },
  {
   "cell_type": "code",
   "execution_count": null,
   "metadata": {
    "execution": {
     "iopub.execute_input": "2023-10-29T18:28:38.219278Z",
     "iopub.status.busy": "2023-10-29T18:28:38.218341Z",
     "iopub.status.idle": "2023-10-29T18:28:38.225286Z",
     "shell.execute_reply": "2023-10-29T18:28:38.22393Z",
     "shell.execute_reply.started": "2023-10-29T18:28:38.219238Z"
    }
   },
   "outputs": [],
   "source": [
    "print(svr_mse) # 0.012982683368125891\n",
    "print(svr_r2) # 0.8930608578675101"
   ]
  },
  {
   "cell_type": "markdown",
   "metadata": {},
   "source": [
    "## 04. Summary"
   ]
  },
  {
   "cell_type": "code",
   "execution_count": null,
   "metadata": {
    "execution": {
     "iopub.execute_input": "2023-10-29T18:28:55.027886Z",
     "iopub.status.busy": "2023-10-29T18:28:55.027434Z",
     "iopub.status.idle": "2023-10-29T18:28:55.046591Z",
     "shell.execute_reply": "2023-10-29T18:28:55.04503Z",
     "shell.execute_reply.started": "2023-10-29T18:28:55.027853Z"
    }
   },
   "outputs": [],
   "source": [
    "final_results = pd.DataFrame({\"Model\": [\"Linear Regression\", \"Lasso\", \"Ridge\", \"Elastic Net\", \"SVM\"],\n",
    "                              \"MSE\": [linear_mse, lasso_mse, ridge_mse, elastic_net_mse, svr_mse],\n",
    "                              \"R-Squared\": [linear_r2, lasso_r2, ridge_r2, elastic_net_r2, svr_r2]})\n",
    "final_results"
   ]
  },
  {
   "cell_type": "code",
   "execution_count": null,
   "metadata": {
    "execution": {
     "iopub.execute_input": "2023-10-29T18:29:02.387601Z",
     "iopub.status.busy": "2023-10-29T18:29:02.387179Z",
     "iopub.status.idle": "2023-10-29T18:29:03.111142Z",
     "shell.execute_reply": "2023-10-29T18:29:03.109733Z",
     "shell.execute_reply.started": "2023-10-29T18:29:02.387571Z"
    }
   },
   "outputs": [],
   "source": [
    "# Visualization\n",
    "plt.figure(figsize=(12, 6))\n",
    "\n",
    "plt.subplot(1, 2, 1)\n",
    "plt.bar(final_results[\"Model\"], final_results[\"MSE\"], color='skyblue')\n",
    "plt.title(\"MSE Score per Model\")\n",
    "plt.ylabel(\"MSE\")\n",
    "plt.xticks(rotation=45)\n",
    "mse_min, mse_max = final_results[\"MSE\"].min(), final_results[\"MSE\"].max()\n",
    "plt.ylim(mse_min - 0.0001, mse_max + 0.0001)\n",
    "\n",
    "plt.subplot(1, 2, 2)\n",
    "plt.bar(final_results[\"Model\"], final_results[\"R-Squared\"], color='salmon')\n",
    "plt.title(\"R-Squared Score per Model\")\n",
    "plt.ylabel('R-Squared')\n",
    "plt.xticks(rotation=45)\n",
    "r2_min, r2_max = final_results[\"R-Squared\"].min(), final_results[\"R-Squared\"].max()\n",
    "plt.ylim(r2_min - 0.005, r2_max + 0.005)\n",
    "\n",
    "plt.tight_layout()\n",
    "plt.show()"
   ]
  }
 ],
 "metadata": {
  "kaggle": {
   "accelerator": "none",
   "dataSources": [
    {
     "databundleVersionId": 868283,
     "sourceId": 5407,
     "sourceType": "competition"
    }
   ],
   "dockerImageVersionId": 30558,
   "isGpuEnabled": false,
   "isInternetEnabled": true,
   "language": "python",
   "sourceType": "notebook"
  },
  "kernelspec": {
   "display_name": "Python 3",
   "language": "python",
   "name": "python3"
  },
  "language_info": {
   "codemirror_mode": {
    "name": "ipython",
    "version": 3
   },
   "file_extension": ".py",
   "mimetype": "text/x-python",
   "name": "python",
   "nbconvert_exporter": "python",
   "pygments_lexer": "ipython3",
   "version": "3.10.12"
  }
 },
 "nbformat": 4,
 "nbformat_minor": 4
}
