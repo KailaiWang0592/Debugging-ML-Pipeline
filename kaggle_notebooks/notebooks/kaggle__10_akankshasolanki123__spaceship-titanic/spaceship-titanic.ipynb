{
 "cells": [
  {
   "cell_type": "code",
   "execution_count": null,
   "metadata": {
    "_cell_guid": "b1076dfc-b9ad-4769-8c92-a6c4dae69d19",
    "_uuid": "8f2839f25d086af736a60e9eeb907d3b93b6e0e5",
    "execution": {
     "iopub.execute_input": "2024-02-16T07:15:54.075293Z",
     "iopub.status.busy": "2024-02-16T07:15:54.074645Z",
     "iopub.status.idle": "2024-02-16T07:15:55.464908Z",
     "shell.execute_reply": "2024-02-16T07:15:55.464006Z",
     "shell.execute_reply.started": "2024-02-16T07:15:54.075256Z"
    }
   },
   "outputs": [],
   "source": [
    "# This Python 3 environment comes with many helpful analytics libraries installed\n",
    "# It is defined by the kaggle/python Docker image: https://github.com/kaggle/docker-python\n",
    "# For example, here's several helpful packages to load\n",
    "\n",
    "import numpy as np # linear algebra\n",
    "import pandas as pd # data processing, CSV file I/O (e.g. pd.read_csv)\n",
    "\n",
    "# Input data files are available in the read-only \"/share/dutta/eyao/dataset/kaggle/\" directory\n",
    "# For example, running this (by clicking run or pressing Shift+Enter) will list all files under the input directory\n",
    "\n",
    "import os\n",
    "for dirname, _, filenames in os.walk('/share/dutta/eyao/dataset/kaggle'):\n",
    "    for filename in filenames:\n",
    "        print(os.path.join(dirname, filename))\n",
    "\n",
    "# You can write up to 20GB to the current directory () that gets preserved as output when you create a version using \"Save & Run All\" \n",
    "# You can also write temporary files to /kaggle/temp/, but they won't be saved outside of the current session"
   ]
  },
  {
   "cell_type": "code",
   "execution_count": null,
   "metadata": {
    "execution": {
     "iopub.execute_input": "2024-02-16T07:16:41.113759Z",
     "iopub.status.busy": "2024-02-16T07:16:41.113368Z",
     "iopub.status.idle": "2024-02-16T07:16:49.44242Z",
     "shell.execute_reply": "2024-02-16T07:16:49.4408Z",
     "shell.execute_reply.started": "2024-02-16T07:16:41.113728Z"
    }
   },
   "outputs": [],
   "source": [
    "import pandas as pd\n",
    "from sklearn.model_selection import train_test_split\n",
    "from sklearn.preprocessing import StandardScaler\n",
    "from sklearn.metrics import accuracy_score\n",
    "from tensorflow import keras\n",
    "from tensorflow.keras import layers\n",
    "from sklearn.preprocessing import LabelEncoder\n",
    "\n",
    "\n",
    "# Load the training data\n",
    "train_data = pd.read_csv('/share/dutta/eyao/dataset/kaggle/spaceship-titanic/train.csv')\n",
    "\n",
    "# Data Preprocessing\n",
    "train_data.fillna(0, inplace=True)  # Replace NaN values with 0 for simplicity\n",
    "\n",
    "# Convert categorical variables to numerical representations\n",
    "le = LabelEncoder()\n",
    "train_data['CryoSleep'] = le.fit_transform(train_data['CryoSleep'])\n",
    "# Repeat the above step for other categorical variables if needed\n",
    "\n",
    "# Feature selection\n",
    "features = ['CryoSleep', 'Age', 'VIP', 'RoomService', 'FoodCourt', 'ShoppingMall', 'Spa', 'VRDeck']\n",
    "X = train_data[features]\n",
    "y = train_data['Transported']\n",
    "\n",
    "# Split the data into training and validation sets\n",
    "X_train, X_valid, y_train, y_valid = train_test_split(X, y, test_size=0.2, random_state=42)\n",
    "\n",
    "# Standardize numerical features\n",
    "scaler = StandardScaler()\n",
    "X_train = scaler.fit_transform(X_train)\n",
    "X_valid = scaler.transform(X_valid)\n",
    "\n",
    "# Build a small neural network model\n",
    "model = keras.Sequential([\n",
    "    layers.Dense(16, activation='relu', input_shape=(X_train.shape[1],)),\n",
    "    layers.Dense(8, activation='relu'),\n",
    "    layers.Dense(1, activation='sigmoid')\n",
    "])\n",
    "\n",
    "# Compile the model\n",
    "model.compile(optimizer='adam', loss='binary_crossentropy', metrics=['accuracy'])\n",
    "\n",
    "# Train the model\n",
    "model.fit(X_train, y_train, epochs=10, batch_size=32, validation_data=(X_valid, y_valid))\n",
    "\n",
    "# Model Evaluation on Validation Set\n",
    "y_pred_prob = model.predict(X_valid)\n",
    "y_pred = (y_pred_prob > 0.5).astype(int)  # Convert probabilities to binary predictions\n",
    "accuracy = accuracy_score(y_valid, y_pred)\n",
    "print(f\"Validation Accuracy: {accuracy}\")\n",
    "\n",
    "# Predictions on Test Set\n",
    "test_data = pd.read_csv('/share/dutta/eyao/dataset/kaggle/spaceship-titanic/test.csv')\n",
    "# Perform the same data preprocessing steps on the test data\n",
    "test_data.fillna(0, inplace=True)\n",
    "test_data['CryoSleep'] = le.transform(test_data['CryoSleep'])\n",
    "# Repeat the above steps for other categorical variables if needed\n",
    "\n",
    "X_test = test_data[features]\n",
    "X_test = scaler.transform(X_test)\n",
    "\n",
    "# Make predictions\n",
    "test_predictions_prob = model.predict(X_test)\n",
    "test_predictions = (test_predictions_prob > 0.5).astype(int)  # Convert probabilities to binary predictions\n",
    "\n",
    "# Prepare submission file\n",
    "submission = pd.DataFrame({'PassengerId': test_data['PassengerId'], 'Transported': test_predictions.flatten()})\n",
    "submission.to_csv('submission_small_neural_network.csv', index=False)\n"
   ]
  }
 ],
 "metadata": {
  "kaggle": {
   "accelerator": "none",
   "dataSources": [
    {
     "databundleVersionId": 3220602,
     "sourceId": 34377,
     "sourceType": "competition"
    }
   ],
   "dockerImageVersionId": 30646,
   "isGpuEnabled": false,
   "isInternetEnabled": true,
   "language": "python",
   "sourceType": "notebook"
  },
  "kernelspec": {
   "display_name": "Python 3",
   "language": "python",
   "name": "python3"
  },
  "language_info": {
   "codemirror_mode": {
    "name": "ipython",
    "version": 3
   },
   "file_extension": ".py",
   "mimetype": "text/x-python",
   "name": "python",
   "nbconvert_exporter": "python",
   "pygments_lexer": "ipython3",
   "version": "3.10.13"
  }
 },
 "nbformat": 4,
 "nbformat_minor": 4
}
