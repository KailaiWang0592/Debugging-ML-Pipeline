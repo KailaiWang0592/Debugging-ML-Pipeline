{
 "cells": [
  {
   "cell_type": "markdown",
   "metadata": {},
   "source": [
    "# Ahmed Gaitani Code 📃 ⭐"
   ]
  },
  {
   "cell_type": "markdown",
   "metadata": {},
   "source": [
    "**Import libraries**"
   ]
  },
  {
   "cell_type": "code",
   "execution_count": null,
   "metadata": {
    "execution": {
     "iopub.execute_input": "2024-07-05T15:23:09.332462Z",
     "iopub.status.busy": "2024-07-05T15:23:09.331995Z",
     "iopub.status.idle": "2024-07-05T15:23:09.341464Z",
     "shell.execute_reply": "2024-07-05T15:23:09.339851Z",
     "shell.execute_reply.started": "2024-07-05T15:23:09.332426Z"
    }
   },
   "outputs": [],
   "source": [
    "import pandas as pd\n",
    "import numpy as np\n",
    "import seaborn as sns\n",
    "import matplotlib.pyplot as plt\n",
    "# from sklearn.preprocessing import OneHotEncoder\n",
    "from sklearn.model_selection import train_test_split\n",
    "from sklearn.preprocessing import LabelEncoder\n",
    "from sklearn.metrics import accuracy_score\n",
    "from sklearn.metrics import classification_report\n",
    "import xgboost as xgb"
   ]
  },
  {
   "cell_type": "markdown",
   "metadata": {},
   "source": [
    "**Load the datasets**"
   ]
  },
  {
   "cell_type": "code",
   "execution_count": null,
   "metadata": {
    "execution": {
     "iopub.execute_input": "2024-07-05T15:23:11.616302Z",
     "iopub.status.busy": "2024-07-05T15:23:11.615894Z",
     "iopub.status.idle": "2024-07-05T15:23:11.683056Z",
     "shell.execute_reply": "2024-07-05T15:23:11.681513Z",
     "shell.execute_reply.started": "2024-07-05T15:23:11.616268Z"
    }
   },
   "outputs": [],
   "source": [
    "train_df = pd.read_csv('/share/dutta/eyao/dataset/kaggle/spaceship-titanic/train.csv')\n",
    "test_df = pd.read_csv('/share/dutta/eyao/dataset/kaggle/spaceship-titanic/test.csv')"
   ]
  },
  {
   "cell_type": "code",
   "execution_count": null,
   "metadata": {
    "execution": {
     "iopub.execute_input": "2024-07-05T15:23:13.372508Z",
     "iopub.status.busy": "2024-07-05T15:23:13.372084Z",
     "iopub.status.idle": "2024-07-05T15:23:13.388668Z",
     "shell.execute_reply": "2024-07-05T15:23:13.387059Z",
     "shell.execute_reply.started": "2024-07-05T15:23:13.372473Z"
    }
   },
   "outputs": [],
   "source": [
    "# Display the first few rows of the training data\n",
    "print(\"Training Data Head:\")\n",
    "print(train_df.head())"
   ]
  },
  {
   "cell_type": "code",
   "execution_count": null,
   "metadata": {
    "execution": {
     "iopub.execute_input": "2024-07-05T15:23:13.727785Z",
     "iopub.status.busy": "2024-07-05T15:23:13.727345Z",
     "iopub.status.idle": "2024-07-05T15:23:13.750625Z",
     "shell.execute_reply": "2024-07-05T15:23:13.749424Z",
     "shell.execute_reply.started": "2024-07-05T15:23:13.72775Z"
    }
   },
   "outputs": [],
   "source": [
    "print(\"\\nTraining Data Info:\")\n",
    "print(train_df.info())"
   ]
  },
  {
   "cell_type": "markdown",
   "metadata": {},
   "source": [
    "**Data Exploration**"
   ]
  },
  {
   "cell_type": "code",
   "execution_count": null,
   "metadata": {
    "execution": {
     "iopub.execute_input": "2024-07-05T15:23:15.733453Z",
     "iopub.status.busy": "2024-07-05T15:23:15.732979Z",
     "iopub.status.idle": "2024-07-05T15:23:15.765949Z",
     "shell.execute_reply": "2024-07-05T15:23:15.764397Z",
     "shell.execute_reply.started": "2024-07-05T15:23:15.733416Z"
    }
   },
   "outputs": [],
   "source": [
    "print(\"\\nSummary Statistics:\")\n",
    "print(train_df.describe())"
   ]
  },
  {
   "cell_type": "code",
   "execution_count": null,
   "metadata": {
    "execution": {
     "iopub.execute_input": "2024-07-05T15:23:16.591291Z",
     "iopub.status.busy": "2024-07-05T15:23:16.590875Z",
     "iopub.status.idle": "2024-07-05T15:23:16.609974Z",
     "shell.execute_reply": "2024-07-05T15:23:16.608592Z",
     "shell.execute_reply.started": "2024-07-05T15:23:16.591258Z"
    }
   },
   "outputs": [],
   "source": [
    "print(\"\\nMissing Values:\")\n",
    "print(train_df.isnull().sum())"
   ]
  },
  {
   "cell_type": "markdown",
   "metadata": {},
   "source": [
    "**Visualize the Data**"
   ]
  },
  {
   "cell_type": "code",
   "execution_count": null,
   "metadata": {
    "execution": {
     "iopub.execute_input": "2024-07-05T15:23:20.300499Z",
     "iopub.status.busy": "2024-07-05T15:23:20.300059Z",
     "iopub.status.idle": "2024-07-05T15:23:20.564705Z",
     "shell.execute_reply": "2024-07-05T15:23:20.563341Z",
     "shell.execute_reply.started": "2024-07-05T15:23:20.300464Z"
    }
   },
   "outputs": [],
   "source": [
    "# 1. Distribution of the Target Variable (Transported)\n",
    "plt.figure(figsize=(8, 6))\n",
    "sns.countplot(x='Transported', data=train_df)\n",
    "plt.title('Distribution of Target Variable (Transported)')\n",
    "plt.show()"
   ]
  },
  {
   "cell_type": "code",
   "execution_count": null,
   "metadata": {
    "execution": {
     "iopub.execute_input": "2024-07-05T15:23:25.345212Z",
     "iopub.status.busy": "2024-07-05T15:23:25.344781Z",
     "iopub.status.idle": "2024-07-05T15:23:25.77912Z",
     "shell.execute_reply": "2024-07-05T15:23:25.777615Z",
     "shell.execute_reply.started": "2024-07-05T15:23:25.345177Z"
    }
   },
   "outputs": [],
   "source": [
    "# 2. Age Distribution\n",
    "plt.figure(figsize=(8, 6))\n",
    "sns.histplot(train_df['Age'].dropna(), bins=30, kde=True)\n",
    "plt.title('Age Distribution')\n",
    "plt.show()"
   ]
  },
  {
   "cell_type": "code",
   "execution_count": null,
   "metadata": {
    "execution": {
     "iopub.execute_input": "2024-07-05T15:23:31.794115Z",
     "iopub.status.busy": "2024-07-05T15:23:31.793712Z",
     "iopub.status.idle": "2024-07-05T15:24:48.350946Z",
     "shell.execute_reply": "2024-07-05T15:24:48.34962Z",
     "shell.execute_reply.started": "2024-07-05T15:23:31.794085Z"
    }
   },
   "outputs": [],
   "source": [
    "# 3. Cabin Class Distribution\n",
    "plt.figure(figsize=(8, 6))\n",
    "sns.countplot(x='Cabin', data=train_df)\n",
    "plt.title('Cabin Class Distribution')\n",
    "plt.show()"
   ]
  },
  {
   "cell_type": "markdown",
   "metadata": {},
   "source": [
    "**Data Cleaning and Feature Engineering**"
   ]
  },
  {
   "cell_type": "code",
   "execution_count": null,
   "metadata": {
    "execution": {
     "iopub.execute_input": "2024-07-05T15:25:13.343289Z",
     "iopub.status.busy": "2024-07-05T15:25:13.342816Z",
     "iopub.status.idle": "2024-07-05T15:25:13.506032Z",
     "shell.execute_reply": "2024-07-05T15:25:13.504487Z",
     "shell.execute_reply.started": "2024-07-05T15:25:13.343205Z"
    }
   },
   "outputs": [],
   "source": [
    "def fill_missing_values(df):\n",
    "    df['HomePlanet'] = df['HomePlanet'].fillna('Earth')\n",
    "    df['CryoSleep'] = df['CryoSleep'].fillna(False).infer_objects(copy=False)\n",
    "    df['Cabin'] = df['Cabin'].fillna('Unknown')\n",
    "    df['Destination'] = df['Destination'].fillna('TRAPPIST-1e')\n",
    "    df['Age'] = df['Age'].fillna(df['Age'].median())\n",
    "    df['VIP'] = df['VIP'].fillna(False).infer_objects(copy=False)\n",
    "    df = df.fillna(0)\n",
    "    return df\n",
    "\n",
    "# Apply missing value filling\n",
    "train_df = fill_missing_values(train_df)\n",
    "test_df = fill_missing_values(test_df)\n",
    "\n",
    "# Convert columns to string type to ensure uniformity\n",
    "label_cols = ['HomePlanet', 'CryoSleep', 'Cabin', 'Destination', 'VIP']\n",
    "for col in label_cols:\n",
    "    train_df[col] = train_df[col].astype(str)\n",
    "    test_df[col] = test_df[col].astype(str)\n",
    "\n",
    "# Combine data from both datasets for fitting the encoder\n",
    "combined_data = pd.concat([train_df[label_cols], test_df[label_cols]], axis=0)\n",
    "\n",
    "# Label encoding using combined data\n",
    "label_encoders = {col: LabelEncoder().fit(combined_data[col]) for col in label_cols}\n",
    "\n",
    "# Apply label encoding to the train and test sets\n",
    "for col, le in label_encoders.items():\n",
    "    train_df[col] = le.transform(train_df[col])\n",
    "    test_df[col] = le.transform(test_df[col])\n",
    "\n",
    "# Prepare features and target\n",
    "X = train_df.drop(['PassengerId', 'Name', 'Transported'], axis=1)\n",
    "y = train_df['Transported'].astype(int)\n",
    "X_test = test_df.drop(['PassengerId', 'Name'], axis=1)\n"
   ]
  },
  {
   "cell_type": "markdown",
   "metadata": {},
   "source": [
    "**Model Training**"
   ]
  },
  {
   "cell_type": "code",
   "execution_count": null,
   "metadata": {
    "execution": {
     "iopub.execute_input": "2024-07-05T15:25:16.988039Z",
     "iopub.status.busy": "2024-07-05T15:25:16.98759Z",
     "iopub.status.idle": "2024-07-05T15:25:17.000386Z",
     "shell.execute_reply": "2024-07-05T15:25:16.999031Z",
     "shell.execute_reply.started": "2024-07-05T15:25:16.988002Z"
    }
   },
   "outputs": [],
   "source": [
    "# Split the data into train and validation sets\n",
    "X_train, X_val, y_train, y_val = train_test_split(X, y, test_size=0.2, random_state=42)"
   ]
  },
  {
   "cell_type": "code",
   "execution_count": null,
   "metadata": {
    "execution": {
     "iopub.execute_input": "2024-07-05T15:27:18.211268Z",
     "iopub.status.busy": "2024-07-05T15:27:18.210818Z",
     "iopub.status.idle": "2024-07-05T15:27:18.472423Z",
     "shell.execute_reply": "2024-07-05T15:27:18.471464Z",
     "shell.execute_reply.started": "2024-07-05T15:27:18.211233Z"
    }
   },
   "outputs": [],
   "source": [
    "# Train the model\n",
    "model = xgb.XGBClassifier( n_estimators= 200, learning_rate= 0.1, max_depth = 5)\n",
    "model.fit(X_train, y_train)"
   ]
  },
  {
   "cell_type": "code",
   "execution_count": null,
   "metadata": {
    "execution": {
     "iopub.execute_input": "2024-07-05T15:27:18.627972Z",
     "iopub.status.busy": "2024-07-05T15:27:18.627514Z",
     "iopub.status.idle": "2024-07-05T15:27:18.642979Z",
     "shell.execute_reply": "2024-07-05T15:27:18.641673Z",
     "shell.execute_reply.started": "2024-07-05T15:27:18.627936Z"
    }
   },
   "outputs": [],
   "source": [
    "# Predict on validation set\n",
    "y_pred = model.predict(X_val)"
   ]
  },
  {
   "cell_type": "code",
   "execution_count": null,
   "metadata": {
    "execution": {
     "iopub.execute_input": "2024-07-05T15:27:18.985799Z",
     "iopub.status.busy": "2024-07-05T15:27:18.985357Z",
     "iopub.status.idle": "2024-07-05T15:27:19.006082Z",
     "shell.execute_reply": "2024-07-05T15:27:19.00462Z",
     "shell.execute_reply.started": "2024-07-05T15:27:18.985763Z"
    }
   },
   "outputs": [],
   "source": [
    "# Calculate accuracy\n",
    "print('Classification Report:')\n",
    "print(classification_report(y_val, y_pred))"
   ]
  },
  {
   "cell_type": "markdown",
   "metadata": {},
   "source": [
    "**Submission**"
   ]
  },
  {
   "cell_type": "code",
   "execution_count": null,
   "metadata": {
    "execution": {
     "iopub.execute_input": "2024-07-05T15:27:20.273812Z",
     "iopub.status.busy": "2024-07-05T15:27:20.273372Z",
     "iopub.status.idle": "2024-07-05T15:27:20.292635Z",
     "shell.execute_reply": "2024-07-05T15:27:20.291445Z",
     "shell.execute_reply.started": "2024-07-05T15:27:20.273775Z"
    }
   },
   "outputs": [],
   "source": [
    "# Predict on the test set\n",
    "test_pred = model.predict(X_test)"
   ]
  },
  {
   "cell_type": "code",
   "execution_count": null,
   "metadata": {
    "execution": {
     "iopub.execute_input": "2024-07-05T15:27:21.11893Z",
     "iopub.status.busy": "2024-07-05T15:27:21.118514Z",
     "iopub.status.idle": "2024-07-05T15:27:21.126752Z",
     "shell.execute_reply": "2024-07-05T15:27:21.12526Z",
     "shell.execute_reply.started": "2024-07-05T15:27:21.118897Z"
    }
   },
   "outputs": [],
   "source": [
    "# Prepare submission file\n",
    "submission = pd.DataFrame({\n",
    "    'PassengerId': test_df['PassengerId'],\n",
    "    'Transported': test_pred\n",
    "})"
   ]
  },
  {
   "cell_type": "code",
   "execution_count": null,
   "metadata": {
    "execution": {
     "iopub.execute_input": "2024-07-05T15:27:22.123608Z",
     "iopub.status.busy": "2024-07-05T15:27:22.123129Z",
     "iopub.status.idle": "2024-07-05T15:27:22.130909Z",
     "shell.execute_reply": "2024-07-05T15:27:22.129565Z",
     "shell.execute_reply.started": "2024-07-05T15:27:22.123576Z"
    }
   },
   "outputs": [],
   "source": [
    "# Convert boolean predictions to string (True/False)\n",
    "submission['Transported'] = submission['Transported'].map({1: True, 0: False})"
   ]
  },
  {
   "cell_type": "code",
   "execution_count": null,
   "metadata": {
    "execution": {
     "iopub.execute_input": "2024-07-05T15:27:22.942749Z",
     "iopub.status.busy": "2024-07-05T15:27:22.942325Z",
     "iopub.status.idle": "2024-07-05T15:27:22.959234Z",
     "shell.execute_reply": "2024-07-05T15:27:22.957833Z",
     "shell.execute_reply.started": "2024-07-05T15:27:22.942715Z"
    }
   },
   "outputs": [],
   "source": [
    "# Save the submission file\n",
    "submission.to_csv('submission.csv', index=False)\n",
    "print('Submission file saved as submission.csv')"
   ]
  },
  {
   "cell_type": "code",
   "execution_count": null,
   "metadata": {},
   "outputs": [],
   "source": []
  }
 ],
 "metadata": {
  "kaggle": {
   "accelerator": "none",
   "dataSources": [
    {
     "databundleVersionId": 3220602,
     "sourceId": 34377,
     "sourceType": "competition"
    }
   ],
   "dockerImageVersionId": 30732,
   "isGpuEnabled": false,
   "isInternetEnabled": true,
   "language": "python",
   "sourceType": "notebook"
  },
  "kernelspec": {
   "display_name": "Python 3",
   "language": "python",
   "name": "python3"
  },
  "language_info": {
   "codemirror_mode": {
    "name": "ipython",
    "version": 3
   },
   "file_extension": ".py",
   "mimetype": "text/x-python",
   "name": "python",
   "nbconvert_exporter": "python",
   "pygments_lexer": "ipython3",
   "version": "3.10.13"
  }
 },
 "nbformat": 4,
 "nbformat_minor": 4
}
