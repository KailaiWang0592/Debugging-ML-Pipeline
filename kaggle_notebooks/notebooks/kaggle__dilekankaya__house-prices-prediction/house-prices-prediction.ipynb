{
 "cells": [
  {
   "cell_type": "markdown",
   "metadata": {
    "_cell_guid": "b1076dfc-b9ad-4769-8c92-a6c4dae69d19",
    "_uuid": "8f2839f25d086af736a60e9eeb907d3b93b6e0e5"
   },
   "source": [
    "# Importing Necessary Libraries"
   ]
  },
  {
   "cell_type": "code",
   "execution_count": null,
   "metadata": {
    "execution": {
     "iopub.execute_input": "2024-07-14T17:21:11.425305Z",
     "iopub.status.busy": "2024-07-14T17:21:11.424777Z",
     "iopub.status.idle": "2024-07-14T17:21:11.434555Z",
     "shell.execute_reply": "2024-07-14T17:21:11.432772Z",
     "shell.execute_reply.started": "2024-07-14T17:21:11.425268Z"
    }
   },
   "outputs": [],
   "source": [
    "import numpy as np\n",
    "import pandas as pd\n",
    "import matplotlib.pyplot as plt\n",
    "import seaborn as sns\n",
    "import warnings\n",
    "from catboost import CatBoostRegressor\n",
    "from lightgbm import LGBMRegressor\n",
    "from sklearn.ensemble import RandomForestRegressor, GradientBoostingRegressor\n",
    "from sklearn.exceptions import ConvergenceWarning\n",
    "from sklearn.linear_model import LinearRegression, Ridge, Lasso, ElasticNet\n",
    "from sklearn.neighbors import KNeighborsRegressor\n",
    "from sklearn.svm import SVR\n",
    "from sklearn.tree import DecisionTreeRegressor\n",
    "from xgboost import XGBRegressor\n",
    "from sklearn.preprocessing import LabelEncoder\n",
    "from sklearn.metrics import mean_absolute_error, mean_squared_error, r2_score\n",
    "from sklearn.model_selection import train_test_split, cross_val_score, GridSearchCV"
   ]
  },
  {
   "cell_type": "markdown",
   "metadata": {},
   "source": [
    "# Suppressing warnings"
   ]
  },
  {
   "cell_type": "code",
   "execution_count": null,
   "metadata": {
    "execution": {
     "iopub.execute_input": "2024-07-14T17:21:11.4383Z",
     "iopub.status.busy": "2024-07-14T17:21:11.437878Z",
     "iopub.status.idle": "2024-07-14T17:21:11.448973Z",
     "shell.execute_reply": "2024-07-14T17:21:11.447688Z",
     "shell.execute_reply.started": "2024-07-14T17:21:11.438267Z"
    }
   },
   "outputs": [],
   "source": [
    "warnings.simplefilter(action='ignore', category=FutureWarning)\n",
    "warnings.simplefilter(\"ignore\", category=ConvergenceWarning)"
   ]
  },
  {
   "cell_type": "markdown",
   "metadata": {},
   "source": [
    "# Setting display options for pandas"
   ]
  },
  {
   "cell_type": "markdown",
   "metadata": {},
   "source": []
  },
  {
   "cell_type": "code",
   "execution_count": null,
   "metadata": {
    "execution": {
     "iopub.execute_input": "2024-07-14T17:21:11.450837Z",
     "iopub.status.busy": "2024-07-14T17:21:11.450469Z",
     "iopub.status.idle": "2024-07-14T17:21:11.46503Z",
     "shell.execute_reply": "2024-07-14T17:21:11.463646Z",
     "shell.execute_reply.started": "2024-07-14T17:21:11.450807Z"
    }
   },
   "outputs": [],
   "source": [
    "pd.set_option('display.max_columns', None)\n",
    "pd.set_option('display.width', None)\n",
    "pd.set_option('display.float_format', lambda x: '%.3f' % x)"
   ]
  },
  {
   "cell_type": "markdown",
   "metadata": {},
   "source": [
    "# Loading Datasets"
   ]
  },
  {
   "cell_type": "code",
   "execution_count": null,
   "metadata": {
    "execution": {
     "iopub.execute_input": "2024-07-14T17:21:11.468751Z",
     "iopub.status.busy": "2024-07-14T17:21:11.468298Z",
     "iopub.status.idle": "2024-07-14T17:21:11.544413Z",
     "shell.execute_reply": "2024-07-14T17:21:11.543104Z",
     "shell.execute_reply.started": "2024-07-14T17:21:11.46871Z"
    }
   },
   "outputs": [],
   "source": [
    "train = pd.read_csv(\"/share/dutta/eyao/dataset/kaggle/house-prices-advanced-regression-techniques/train.csv\")\n",
    "test = pd.read_csv(\"/share/dutta/eyao/dataset/kaggle/house-prices-advanced-regression-techniques/test.csv\")\n",
    "df = pd.concat([train, test], ignore_index=True).reset_index(drop=True)"
   ]
  },
  {
   "cell_type": "markdown",
   "metadata": {},
   "source": [
    "# Exploratory Data Analysis"
   ]
  },
  {
   "cell_type": "code",
   "execution_count": null,
   "metadata": {
    "execution": {
     "iopub.execute_input": "2024-07-14T17:21:11.546363Z",
     "iopub.status.busy": "2024-07-14T17:21:11.54591Z",
     "iopub.status.idle": "2024-07-14T17:21:11.631398Z",
     "shell.execute_reply": "2024-07-14T17:21:11.630001Z",
     "shell.execute_reply.started": "2024-07-14T17:21:11.546303Z"
    }
   },
   "outputs": [],
   "source": [
    "def check_df(dataframe):\n",
    "    print(\"##################### Shape #####################\")\n",
    "    print(dataframe.shape)\n",
    "    print(\"##################### Types #####################\")\n",
    "    print(dataframe.dtypes)\n",
    "    print(\"##################### Head #####################\")\n",
    "    print(dataframe.head(3))\n",
    "    print(\"##################### Tail #####################\")\n",
    "    print(dataframe.tail(3))\n",
    "    print(\"##################### NA #####################\")\n",
    "    print(dataframe.isnull().sum())\n",
    "    print(\"##################### Quantiles #####################\")\n",
    "    numeric_columns = dataframe.select_dtypes(include=['number']).columns\n",
    "    print(dataframe[numeric_columns].quantile([0, 0.05, 0.50, 0.95, 0.99, 1]).T)\n",
    "\n",
    "check_df(df)"
   ]
  },
  {
   "cell_type": "markdown",
   "metadata": {},
   "source": [
    "# Grabbing Column Names"
   ]
  },
  {
   "cell_type": "code",
   "execution_count": null,
   "metadata": {
    "execution": {
     "iopub.execute_input": "2024-07-14T17:21:11.633333Z",
     "iopub.status.busy": "2024-07-14T17:21:11.632906Z",
     "iopub.status.idle": "2024-07-14T17:21:11.684871Z",
     "shell.execute_reply": "2024-07-14T17:21:11.683484Z",
     "shell.execute_reply.started": "2024-07-14T17:21:11.633299Z"
    }
   },
   "outputs": [],
   "source": [
    "def grab_col_names(dataframe, cat_th=10, car_th=20):\n",
    "    cat_cols = [col for col in dataframe.columns if dataframe[col].dtypes == \"O\"]\n",
    "    num_but_cat = [col for col in dataframe.columns if dataframe[col].nunique() < cat_th and dataframe[col].dtypes != \"O\"]\n",
    "    cat_but_car = [col for col in dataframe.columns if dataframe[col].nunique() > car_th and dataframe[col].dtypes == \"O\"]\n",
    "    cat_cols = cat_cols + num_but_cat\n",
    "    cat_cols = [col for col in cat_cols if col not in cat_but_car]\n",
    "    num_cols = [col for col in dataframe.columns if dataframe[col].dtypes != \"O\"]\n",
    "    num_cols = [col for col in num_cols if col not in num_but_cat]\n",
    "    print(f\"Observations: {dataframe.shape[0]}\")\n",
    "    print(f\"Variables: {dataframe.shape[1]}\")\n",
    "    print(f'cat_cols: {len(cat_cols)}')\n",
    "    print(f'num_cols: {len(num_cols)}')\n",
    "    print(f'cat_but_car: {len(cat_but_car)}')\n",
    "    print(f'num_but_cat: {len(num_but_cat)}')\n",
    "    return cat_cols, cat_but_car, num_cols\n",
    "\n",
    "cat_cols, cat_but_car, num_cols = grab_col_names(df)\n"
   ]
  },
  {
   "cell_type": "markdown",
   "metadata": {},
   "source": [
    "# Summary of Categorical Variables"
   ]
  },
  {
   "cell_type": "code",
   "execution_count": null,
   "metadata": {
    "execution": {
     "iopub.execute_input": "2024-07-14T17:21:11.687469Z",
     "iopub.status.busy": "2024-07-14T17:21:11.686695Z",
     "iopub.status.idle": "2024-07-14T17:21:11.901629Z",
     "shell.execute_reply": "2024-07-14T17:21:11.900418Z",
     "shell.execute_reply.started": "2024-07-14T17:21:11.687409Z"
    }
   },
   "outputs": [],
   "source": [
    "def cat_summary(dataframe, col_name, plot=False):\n",
    "    print(pd.DataFrame({col_name: dataframe[col_name].value_counts(), \"Ratio\": 100 * dataframe[col_name].value_counts() / len(dataframe)}))\n",
    "    if plot:\n",
    "        sns.countplot(x=dataframe[col_name], data=dataframe)\n",
    "        plt.show()\n",
    "\n",
    "for col in cat_cols:\n",
    "    cat_summary(df, col)"
   ]
  },
  {
   "cell_type": "markdown",
   "metadata": {},
   "source": [
    "# Summary of Numerical Variables"
   ]
  },
  {
   "cell_type": "code",
   "execution_count": null,
   "metadata": {
    "execution": {
     "iopub.execute_input": "2024-07-14T17:21:11.903594Z",
     "iopub.status.busy": "2024-07-14T17:21:11.903224Z",
     "iopub.status.idle": "2024-07-14T17:21:26.128147Z",
     "shell.execute_reply": "2024-07-14T17:21:26.126736Z",
     "shell.execute_reply.started": "2024-07-14T17:21:11.903561Z"
    }
   },
   "outputs": [],
   "source": [
    "def num_summary(dataframe, numerical_col, plot=False):\n",
    "    quantiles = [0.05, 0.10, 0.20, 0.30, 0.40, 0.50, 0.60, 0.70, 0.80, 0.90, 0.95, 0.99]\n",
    "    print(dataframe[numerical_col].describe(quantiles).T)\n",
    "    if plot:\n",
    "        dataframe[numerical_col].hist(bins=50)\n",
    "        plt.xlabel(numerical_col)\n",
    "        plt.title(numerical_col)\n",
    "        plt.show()\n",
    "    print(\"#####################################\")\n",
    "for col in num_cols:\n",
    "    num_summary(df, col, True)"
   ]
  },
  {
   "cell_type": "markdown",
   "metadata": {},
   "source": [
    "# Target Summary with Categorical Variable"
   ]
  },
  {
   "cell_type": "code",
   "execution_count": null,
   "metadata": {
    "execution": {
     "iopub.execute_input": "2024-07-14T17:21:26.132685Z",
     "iopub.status.busy": "2024-07-14T17:21:26.132293Z",
     "iopub.status.idle": "2024-07-14T17:21:26.259055Z",
     "shell.execute_reply": "2024-07-14T17:21:26.257791Z",
     "shell.execute_reply.started": "2024-07-14T17:21:26.132654Z"
    }
   },
   "outputs": [],
   "source": [
    "def target_summary_with_cat(dataframe, target, categorical_col):\n",
    "    print(pd.DataFrame({\"TARGET_MEAN\": dataframe.groupby(categorical_col)[target].mean()}), end=\"\\n\\n\\n\")\n",
    "\n",
    "for col in cat_cols:\n",
    "    target_summary_with_cat(df, \"SalePrice\", col)\n"
   ]
  },
  {
   "cell_type": "markdown",
   "metadata": {},
   "source": [
    "# Visualization of SalePrice"
   ]
  },
  {
   "cell_type": "code",
   "execution_count": null,
   "metadata": {
    "execution": {
     "iopub.execute_input": "2024-07-14T17:21:26.260921Z",
     "iopub.status.busy": "2024-07-14T17:21:26.26054Z",
     "iopub.status.idle": "2024-07-14T17:21:27.324234Z",
     "shell.execute_reply": "2024-07-14T17:21:27.323005Z",
     "shell.execute_reply.started": "2024-07-14T17:21:26.260888Z"
    }
   },
   "outputs": [],
   "source": [
    "df[\"SalePrice\"].hist(bins=100)\n",
    "plt.show()\n",
    "\n",
    "np.log1p(df['SalePrice']).hist(bins=50)\n",
    "plt.show()"
   ]
  },
  {
   "cell_type": "markdown",
   "metadata": {},
   "source": [
    "# Correlation Matrix"
   ]
  },
  {
   "cell_type": "code",
   "execution_count": null,
   "metadata": {
    "execution": {
     "iopub.execute_input": "2024-07-14T17:21:27.326176Z",
     "iopub.status.busy": "2024-07-14T17:21:27.325741Z",
     "iopub.status.idle": "2024-07-14T17:21:28.384482Z",
     "shell.execute_reply": "2024-07-14T17:21:28.383311Z",
     "shell.execute_reply.started": "2024-07-14T17:21:27.326144Z"
    }
   },
   "outputs": [],
   "source": [
    "corr = df[num_cols].corr()\n",
    "sns.set(rc={'figure.figsize': (12, 12)})\n",
    "sns.heatmap(corr, cmap=\"RdBu\")\n",
    "plt.show()"
   ]
  },
  {
   "cell_type": "markdown",
   "metadata": {},
   "source": [
    "# High Correlated Columns"
   ]
  },
  {
   "cell_type": "code",
   "execution_count": null,
   "metadata": {
    "execution": {
     "iopub.execute_input": "2024-07-14T17:21:28.3865Z",
     "iopub.status.busy": "2024-07-14T17:21:28.386103Z",
     "iopub.status.idle": "2024-07-14T17:21:28.423377Z",
     "shell.execute_reply": "2024-07-14T17:21:28.421697Z",
     "shell.execute_reply.started": "2024-07-14T17:21:28.386466Z"
    }
   },
   "outputs": [],
   "source": [
    "def high_correlated_cols(dataframe, plot=False, corr_th=0.70):\n",
    "    numeric_df = dataframe.select_dtypes(include=[np.number])\n",
    "    corr = numeric_df.corr()\n",
    "    cor_matrix = corr.abs()\n",
    "    upper_triangle_matrix = cor_matrix.where(np.triu(np.ones(cor_matrix.shape), k=1).astype(bool))\n",
    "    drop_list = [col for col in upper_triangle_matrix.columns if any(upper_triangle_matrix[col] > corr_th)]\n",
    "    if plot:\n",
    "        sns.set(rc={'figure.figsize': (15, 15)})\n",
    "        sns.heatmap(corr, cmap=\"RdBu\")\n",
    "        plt.show()\n",
    "    return drop_list\n",
    "\n",
    "drop_list = high_correlated_cols(df, plot=False)\n",
    "print(drop_list)\n",
    "\n",
    "saleprice_corr = corr['SalePrice'].abs().sort_values(ascending=False)\n",
    "print(saleprice_corr)\n",
    "\n",
    "top_corr_features = saleprice_corr.index[:10]\n",
    "print(\"Columns with highest correlation: \", top_corr_features)"
   ]
  },
  {
   "cell_type": "markdown",
   "metadata": {},
   "source": [
    "# Outlier Detection and Handling"
   ]
  },
  {
   "cell_type": "code",
   "execution_count": null,
   "metadata": {
    "execution": {
     "iopub.execute_input": "2024-07-14T17:21:28.425398Z",
     "iopub.status.busy": "2024-07-14T17:21:28.424935Z",
     "iopub.status.idle": "2024-07-14T17:21:28.597193Z",
     "shell.execute_reply": "2024-07-14T17:21:28.59585Z",
     "shell.execute_reply.started": "2024-07-14T17:21:28.425335Z"
    }
   },
   "outputs": [],
   "source": [
    "def outlier_thresholds(dataframe, variable, low_quantile=0.10, up_quantile=0.90):\n",
    "    quantile_one = dataframe[variable].quantile(low_quantile)\n",
    "    quantile_three = dataframe[variable].quantile(up_quantile)\n",
    "    interquantile_range = quantile_three - quantile_one\n",
    "    up_limit = quantile_three + 1.5 * interquantile_range\n",
    "    low_limit = quantile_one - 1.5 * interquantile_range\n",
    "    return low_limit, up_limit\n",
    "\n",
    "def check_outlier(dataframe, col_name):\n",
    "    low_limit, up_limit = outlier_thresholds(dataframe, col_name)\n",
    "    if dataframe[(dataframe[col_name] > up_limit) | (dataframe[col_name] < low_limit)].any(axis=None):\n",
    "        return True\n",
    "    else:\n",
    "        return False\n",
    "for col in num_cols:\n",
    "    if col != \"SalePrice\":\n",
    "        print(col, check_outlier(df, col))\n",
    "def replace_with_thresholds(dataframe, variable):\n",
    "    low_limit, up_limit = outlier_thresholds(dataframe, variable)\n",
    "    dataframe.loc[(dataframe[variable] < low_limit), variable] = low_limit\n",
    "    dataframe.loc[(dataframe[variable] > up_limit), variable] = up_limit\n",
    "\n",
    "for col in num_cols:\n",
    "    if col != \"SalePrice\":\n",
    "        replace_with_thresholds(df, col)"
   ]
  },
  {
   "cell_type": "code",
   "execution_count": null,
   "metadata": {
    "execution": {
     "iopub.execute_input": "2024-07-14T17:21:28.599361Z",
     "iopub.status.busy": "2024-07-14T17:21:28.598902Z",
     "iopub.status.idle": "2024-07-14T17:21:28.711298Z",
     "shell.execute_reply": "2024-07-14T17:21:28.710123Z",
     "shell.execute_reply.started": "2024-07-14T17:21:28.599302Z"
    }
   },
   "outputs": [],
   "source": [
    "for col in num_cols:\n",
    "    if col != \"SalePrice\":\n",
    "        print(col, check_outlier(df, col))"
   ]
  },
  {
   "cell_type": "markdown",
   "metadata": {},
   "source": [
    "# Handling Missing Values"
   ]
  },
  {
   "cell_type": "code",
   "execution_count": null,
   "metadata": {
    "execution": {
     "iopub.execute_input": "2024-07-14T17:21:28.713411Z",
     "iopub.status.busy": "2024-07-14T17:21:28.712939Z",
     "iopub.status.idle": "2024-07-14T17:21:28.779316Z",
     "shell.execute_reply": "2024-07-14T17:21:28.77766Z",
     "shell.execute_reply.started": "2024-07-14T17:21:28.713368Z"
    }
   },
   "outputs": [],
   "source": [
    "def missing_values_table(dataframe, na_name=False):\n",
    "    na_columns = [col for col in dataframe.columns if dataframe[col].isnull().sum() > 0]\n",
    "    n_miss = dataframe[na_columns].isnull().sum().sort_values(ascending=False)\n",
    "    ratio = (dataframe[na_columns].isnull().sum() / dataframe.shape[0] * 100).sort_values(ascending=False)\n",
    "    missing_df = pd.concat([n_miss, np.round(ratio, 2)], axis=1, keys=['n_miss', 'ratio'])\n",
    "    print(missing_df, end=\"\\n\")\n",
    "    if na_name:\n",
    "        return na_columns\n",
    "\n",
    "missing_values_table(df)"
   ]
  },
  {
   "cell_type": "markdown",
   "metadata": {},
   "source": [
    "# Filling NA values with 'No' for specific columns"
   ]
  },
  {
   "cell_type": "code",
   "execution_count": null,
   "metadata": {
    "execution": {
     "iopub.execute_input": "2024-07-14T17:21:28.781397Z",
     "iopub.status.busy": "2024-07-14T17:21:28.780874Z",
     "iopub.status.idle": "2024-07-14T17:21:28.988108Z",
     "shell.execute_reply": "2024-07-14T17:21:28.986684Z",
     "shell.execute_reply.started": "2024-07-14T17:21:28.781325Z"
    }
   },
   "outputs": [],
   "source": [
    "no_cols = [\"Alley\", \"BsmtQual\", \"BsmtCond\", \"BsmtExposure\", \"BsmtFinType1\", \"BsmtFinType2\", \"FireplaceQu\",\n",
    "           \"GarageType\", \"GarageFinish\", \"GarageQual\", \"GarageCond\", \"PoolQC\", \"Fence\", \"MiscFeature\"]\n",
    "\n",
    "for col in no_cols:\n",
    "    df[col].fillna(\"No\", inplace=True)\n",
    "\n",
    "missing_values_table(df)\n",
    "\n",
    "def quick_missing_imp(data, num_method=\"median\", cat_length=20, target=\"SalePrice\"):\n",
    "    variables_with_na = [col for col in data.columns if data[col].isnull().sum() > 0]\n",
    "    temp_target = data[target]\n",
    "    print(\"# BEFORE\")\n",
    "    print(data[variables_with_na].isnull().sum(), \"\\n\\n\")\n",
    "    data = data.apply(lambda x: x.fillna(x.mode()[0]) if (x.dtype == \"O\" and len(x.unique()) <= cat_length) else x, axis=0)\n",
    "    if num_method == \"mean\":\n",
    "        data = data.apply(lambda x: x.fillna(x.mean()) if x.dtype != \"O\" else x, axis=0)\n",
    "    elif num_method == \"median\":\n",
    "        data = data.apply(lambda x: x.fillna(x.median()) if x.dtype != \"O\" else x, axis=0)\n",
    "    data[target] = temp_target\n",
    "    print(\"# AFTER \\n Imputation method is 'MODE' for categorical variables!\")\n",
    "    print(\" Imputation method is '\" + num_method.upper() + \"' for numeric variables! \\n\")\n",
    "    print(data[variables_with_na].isnull().sum(), \"\\n\\n\")\n",
    "    return data\n",
    "\n",
    "df = quick_missing_imp(df, num_method=\"median\", cat_length=17)"
   ]
  },
  {
   "cell_type": "code",
   "execution_count": null,
   "metadata": {
    "execution": {
     "iopub.execute_input": "2024-07-14T17:21:28.989823Z",
     "iopub.status.busy": "2024-07-14T17:21:28.989475Z",
     "iopub.status.idle": "2024-07-14T17:21:29.036334Z",
     "shell.execute_reply": "2024-07-14T17:21:29.035234Z",
     "shell.execute_reply.started": "2024-07-14T17:21:28.989792Z"
    }
   },
   "outputs": [],
   "source": [
    "missing_values_table(df)"
   ]
  },
  {
   "cell_type": "markdown",
   "metadata": {},
   "source": [
    "# Rare Encoding"
   ]
  },
  {
   "cell_type": "code",
   "execution_count": null,
   "metadata": {
    "execution": {
     "iopub.execute_input": "2024-07-14T17:21:29.038174Z",
     "iopub.status.busy": "2024-07-14T17:21:29.037788Z",
     "iopub.status.idle": "2024-07-14T17:21:29.474062Z",
     "shell.execute_reply": "2024-07-14T17:21:29.472808Z",
     "shell.execute_reply.started": "2024-07-14T17:21:29.038141Z"
    }
   },
   "outputs": [],
   "source": [
    "def rare_analyser(dataframe, target, cat_cols):\n",
    "    for col in cat_cols:\n",
    "        print(col, \":\", len(dataframe[col].value_counts()))\n",
    "        print(pd.DataFrame({\"COUNT\": dataframe[col].value_counts(),\n",
    "                            \"RATIO\": dataframe[col].value_counts() / len(dataframe),\n",
    "                            \"TARGET_MEAN\": dataframe.groupby(col)[target].mean()}), end=\"\\n\\n\\n\")\n",
    "\n",
    "rare_analyser(df, \"SalePrice\", cat_cols)\n",
    "\n",
    "def rare_encoder(dataframe, rare_perc):\n",
    "    temp_df = dataframe.copy()\n",
    "    rare_columns = [col for col in temp_df.columns if temp_df[col].dtypes == 'O'\n",
    "                    and (temp_df[col].value_counts() / len(temp_df) < rare_perc).any(axis=None)]\n",
    "    for var in rare_columns:\n",
    "        tmp = temp_df[var].value_counts() / len(temp_df)\n",
    "        rare_labels = tmp[tmp < rare_perc].index\n",
    "        temp_df[var] = np.where(temp_df[var].isin(rare_labels), 'Rare', temp_df[var])\n",
    "    return temp_df\n",
    "\n",
    "df = rare_encoder(df, 0.01)\n"
   ]
  },
  {
   "cell_type": "markdown",
   "metadata": {},
   "source": [
    "# Feature Engineering"
   ]
  },
  {
   "cell_type": "code",
   "execution_count": null,
   "metadata": {
    "execution": {
     "iopub.execute_input": "2024-07-14T17:21:29.476013Z",
     "iopub.status.busy": "2024-07-14T17:21:29.475568Z",
     "iopub.status.idle": "2024-07-14T17:21:29.605142Z",
     "shell.execute_reply": "2024-07-14T17:21:29.603912Z",
     "shell.execute_reply.started": "2024-07-14T17:21:29.475973Z"
    }
   },
   "outputs": [],
   "source": [
    "df[\"NEW_1st*GrLiv\"] = df[\"1stFlrSF\"] * df[\"GrLivArea\"]\n",
    "df[\"NEW_Garage*GrLiv\"] = df[\"GarageArea\"] * df[\"GrLivArea\"]\n",
    "qual_columns = [\"OverallQual\", \"OverallCond\", \"ExterQual\", \"ExterCond\", \"BsmtCond\", \"BsmtFinType1\",\n",
    "                \"BsmtFinType2\", \"HeatingQC\", \"KitchenQual\", \"Functional\", \"FireplaceQu\", \"GarageQual\", \"GarageCond\", \"Fence\"]\n",
    "for col in qual_columns:\n",
    "    df[col] = pd.to_numeric(df[col], errors='coerce').fillna(0)\n",
    "df[\"TotalQual\"] = df[qual_columns].sum(axis=1)\n",
    "df[\"NEW_TotalFlrSF\"] = df[\"1stFlrSF\"] + df[\"2ndFlrSF\"]\n",
    "df[\"NEW_TotalBsmtFin\"] = df.BsmtFinSF1 + df.BsmtFinSF2\n",
    "df[\"NEW_PorchArea\"] = df.OpenPorchSF + df.EnclosedPorch + df.ScreenPorch + df[\"3SsnPorch\"] + df.WoodDeckSF\n",
    "df[\"NEW_TotalHouseArea\"] = df.NEW_TotalFlrSF + df.TotalBsmtSF\n",
    "df[\"NEW_TotalSqFeet\"] = df.GrLivArea + df.TotalBsmtSF\n",
    "df[\"NEW_LotRatio\"] = df.GrLivArea / df.LotArea\n",
    "df[\"NEW_RatioArea\"] = df.NEW_TotalHouseArea / df.LotArea\n",
    "df[\"NEW_GarageLotRatio\"] = df.GarageArea / df.LotArea\n",
    "df[\"NEW_MasVnrRatio\"] = df.MasVnrArea / df.NEW_TotalHouseArea\n",
    "df[\"NEW_DifArea\"] = df.LotArea - df[\"1stFlrSF\"] - df.GarageArea - df.NEW_PorchArea - df.WoodDeckSF\n",
    "df[\"NEW_OverallGrade\"] = df[\"OverallQual\"] * df[\"OverallCond\"]\n",
    "df[\"NEW_Restoration\"] = df.YearRemodAdd - df.YearBuilt\n",
    "df[\"NEW_HouseAge\"] = df.YrSold - df.YearBuilt\n",
    "df[\"NEW_RestorationAge\"] = df.YrSold - df.YearRemodAdd\n",
    "df[\"NEW_GarageAge\"] = df.GarageYrBlt - df.YearBuilt\n",
    "df[\"NEW_GarageRestorationAge\"] = np.abs(df.GarageYrBlt - df.YearRemodAdd)\n",
    "df[\"NEW_GarageSold\"] = df.YrSold - df.GarageYrBlt\n",
    "drop_list = [\"Street\", \"Alley\", \"LandContour\", \"Utilities\", \"LandSlope\", \"Heating\", \"PoolQC\", \"MiscFeature\", \"Neighborhood\"]\n",
    "existing_columns = [col for col in drop_list if col in df.columns]\n",
    "df.drop(existing_columns, axis=1, inplace=True)\n",
    "cat_cols, cat_but_car, num_cols = grab_col_names(df)"
   ]
  },
  {
   "cell_type": "markdown",
   "metadata": {},
   "source": [
    "# Label Encoding for Binary Variables"
   ]
  },
  {
   "cell_type": "code",
   "execution_count": null,
   "metadata": {
    "execution": {
     "iopub.execute_input": "2024-07-14T17:21:29.607041Z",
     "iopub.status.busy": "2024-07-14T17:21:29.606679Z",
     "iopub.status.idle": "2024-07-14T17:21:29.630738Z",
     "shell.execute_reply": "2024-07-14T17:21:29.629323Z",
     "shell.execute_reply.started": "2024-07-14T17:21:29.607013Z"
    }
   },
   "outputs": [],
   "source": [
    "def label_encoder(dataframe, binary_col):\n",
    "    labelencoder = LabelEncoder()\n",
    "    dataframe[binary_col] = labelencoder.fit_transform(dataframe[binary_col])\n",
    "    return dataframe\n",
    "\n",
    "binary_cols = [col for col in df.columns if df[col].dtypes == \"O\" and len(df[col].unique()) == 2]\n",
    "\n",
    "for col in binary_cols:\n",
    "    label_encoder(df, col)\n",
    "print(df[binary_cols].head())"
   ]
  },
  {
   "cell_type": "markdown",
   "metadata": {},
   "source": [
    "# One-Hot Encoding for Categorical Variables"
   ]
  },
  {
   "cell_type": "code",
   "execution_count": null,
   "metadata": {
    "execution": {
     "iopub.execute_input": "2024-07-14T17:21:29.632549Z",
     "iopub.status.busy": "2024-07-14T17:21:29.632187Z",
     "iopub.status.idle": "2024-07-14T17:21:29.739603Z",
     "shell.execute_reply": "2024-07-14T17:21:29.738505Z",
     "shell.execute_reply.started": "2024-07-14T17:21:29.632516Z"
    }
   },
   "outputs": [],
   "source": [
    "df_before_encoding = df.copy()\n",
    "cat_cols = [col for col in cat_cols if col in df.columns]\n",
    "\n",
    "def one_hot_encoder(dataframe, categorical_cols, drop_first=False):\n",
    "    dataframe = pd.get_dummies(dataframe, columns=categorical_cols, drop_first=drop_first)\n",
    "    return dataframe\n",
    "\n",
    "df = one_hot_encoder(df, cat_cols, drop_first=True)\n",
    "\n",
    "new_columns = set(df.columns) - set(df_before_encoding.columns)\n",
    "print(\"Changes due to one-hot encoding:\")\n",
    "print(df[list(new_columns)].head())\n"
   ]
  },
  {
   "cell_type": "markdown",
   "metadata": {},
   "source": [
    "# Model Training"
   ]
  },
  {
   "cell_type": "code",
   "execution_count": null,
   "metadata": {
    "execution": {
     "iopub.execute_input": "2024-07-14T17:21:29.74157Z",
     "iopub.status.busy": "2024-07-14T17:21:29.741185Z",
     "iopub.status.idle": "2024-07-14T17:21:29.757427Z",
     "shell.execute_reply": "2024-07-14T17:21:29.756003Z",
     "shell.execute_reply.started": "2024-07-14T17:21:29.741536Z"
    }
   },
   "outputs": [],
   "source": [
    "train_df = df[df['SalePrice'].notnull()]\n",
    "test_df = df[df['SalePrice'].isnull()]\n",
    "\n",
    "y = np.log1p(train_df['SalePrice'])\n",
    "X = train_df.drop([\"Id\", \"SalePrice\"], axis=1)\n"
   ]
  },
  {
   "cell_type": "markdown",
   "metadata": {},
   "source": [
    "# Train-test split"
   ]
  },
  {
   "cell_type": "code",
   "execution_count": null,
   "metadata": {
    "execution": {
     "iopub.execute_input": "2024-07-14T17:21:29.764977Z",
     "iopub.status.busy": "2024-07-14T17:21:29.764546Z",
     "iopub.status.idle": "2024-07-14T17:21:29.779031Z",
     "shell.execute_reply": "2024-07-14T17:21:29.777867Z",
     "shell.execute_reply.started": "2024-07-14T17:21:29.76494Z"
    }
   },
   "outputs": [],
   "source": [
    "X_train, X_test, y_train, y_test = train_test_split(X, y, test_size=0.20, random_state=17)\n"
   ]
  },
  {
   "cell_type": "markdown",
   "metadata": {},
   "source": [
    "# Models to be tested"
   ]
  },
  {
   "cell_type": "code",
   "execution_count": null,
   "metadata": {
    "execution": {
     "iopub.execute_input": "2024-07-14T17:21:29.781262Z",
     "iopub.status.busy": "2024-07-14T17:21:29.780703Z",
     "iopub.status.idle": "2024-07-14T17:21:29.789373Z",
     "shell.execute_reply": "2024-07-14T17:21:29.787595Z",
     "shell.execute_reply.started": "2024-07-14T17:21:29.781225Z"
    }
   },
   "outputs": [],
   "source": [
    "models = [('LR', LinearRegression()), ('KNN', KNeighborsRegressor()), ('CART', DecisionTreeRegressor()),\n",
    "          ('RF', RandomForestRegressor()), ('GBM', GradientBoostingRegressor()),\n",
    "          (\"XGBoost\", XGBRegressor(objective='reg:squarederror')), (\"LightGBM\", LGBMRegressor(verbose=-1))]\n"
   ]
  },
  {
   "cell_type": "markdown",
   "metadata": {},
   "source": [
    "# Training and evaluating each model"
   ]
  },
  {
   "cell_type": "code",
   "execution_count": null,
   "metadata": {
    "execution": {
     "iopub.execute_input": "2024-07-14T17:21:29.791434Z",
     "iopub.status.busy": "2024-07-14T17:21:29.791049Z",
     "iopub.status.idle": "2024-07-14T17:21:35.972465Z",
     "shell.execute_reply": "2024-07-14T17:21:35.971226Z",
     "shell.execute_reply.started": "2024-07-14T17:21:29.791388Z"
    }
   },
   "outputs": [],
   "source": [
    "for name, regressor in models:\n",
    "    regressor.fit(X_train, y_train)\n",
    "    y_pred = regressor.predict(X_test)\n",
    "    y_pred_exp = np.expm1(y_pred)\n",
    "    y_test_exp = np.expm1(y_test)\n",
    "    rmse = np.sqrt(mean_squared_error(y_test_exp, y_pred_exp))\n",
    "    print(f\"RMSE: {round(rmse, 4)} ({name})\")\n"
   ]
  },
  {
   "cell_type": "markdown",
   "metadata": {},
   "source": [
    "# Fine-tuning LightGBM Model"
   ]
  },
  {
   "cell_type": "code",
   "execution_count": null,
   "metadata": {
    "execution": {
     "iopub.execute_input": "2024-07-14T17:21:35.974185Z",
     "iopub.status.busy": "2024-07-14T17:21:35.973811Z",
     "iopub.status.idle": "2024-07-14T17:21:36.283725Z",
     "shell.execute_reply": "2024-07-14T17:21:36.282459Z",
     "shell.execute_reply.started": "2024-07-14T17:21:35.97415Z"
    }
   },
   "outputs": [],
   "source": [
    "lgbm = LGBMRegressor(verbose=-1).fit(X_train, y_train)\n",
    "y_pred = lgbm.predict(X_test)\n"
   ]
  },
  {
   "cell_type": "markdown",
   "metadata": {},
   "source": [
    "# Performance Metrics Evaluation"
   ]
  },
  {
   "cell_type": "code",
   "execution_count": null,
   "metadata": {
    "execution": {
     "iopub.execute_input": "2024-07-14T17:21:36.286171Z",
     "iopub.status.busy": "2024-07-14T17:21:36.285726Z",
     "iopub.status.idle": "2024-07-14T17:21:36.300076Z",
     "shell.execute_reply": "2024-07-14T17:21:36.298699Z",
     "shell.execute_reply.started": "2024-07-14T17:21:36.286131Z"
    }
   },
   "outputs": [],
   "source": [
    "def calculate_metrics(y_true, y_pred):\n",
    "    mae = mean_absolute_error(y_true, y_pred)\n",
    "    mse = mean_squared_error(y_true, y_pred)\n",
    "    rmse = np.sqrt(mse)\n",
    "    r2 = r2_score(y_true, y_pred)\n",
    "    return mae, mse, rmse, r2\n",
    "\n",
    "def evaluate_percentiles(y_true, y_pred):\n",
    "    percentiles = [5, 25, 50, 75, 95, 100]\n",
    "    results = {}\n",
    "    for percentile in percentiles:\n",
    "        threshold = np.percentile(y_true, percentile)\n",
    "        indices = y_true <= threshold\n",
    "        filtered_y_true = y_true[indices]\n",
    "        filtered_y_pred = y_pred[indices]\n",
    "        mae, mse, rmse, r2 = calculate_metrics(filtered_y_true, filtered_y_pred)\n",
    "        results[percentile] = (mae, mse, rmse, r2)\n",
    "    return results\n",
    "def print_results(results):\n",
    "    for percentile, metrics in results.items():\n",
    "        mae, mse, rmse, r2 = metrics\n",
    "        print(f\"Performance for {percentile}th Percentile:\")\n",
    "        print(f\"  Mean Absolute Error (MAE): {mae}\")\n",
    "        print(f\"  Mean Squared Error (MSE): {mse}\")\n",
    "        print(f\"  Root Mean Squared Error (RMSE): {rmse}\")\n",
    "        print(f\"  R-squared (R²): {r2}\")\n",
    "        print()\n"
   ]
  },
  {
   "cell_type": "markdown",
   "metadata": {},
   "source": [
    "# Inverse transformation of predictions"
   ]
  },
  {
   "cell_type": "code",
   "execution_count": null,
   "metadata": {
    "execution": {
     "iopub.execute_input": "2024-07-14T17:21:36.30163Z",
     "iopub.status.busy": "2024-07-14T17:21:36.301241Z",
     "iopub.status.idle": "2024-07-14T17:21:36.316031Z",
     "shell.execute_reply": "2024-07-14T17:21:36.31481Z",
     "shell.execute_reply.started": "2024-07-14T17:21:36.301599Z"
    }
   },
   "outputs": [],
   "source": [
    "y_pred_exp = np.expm1(y_pred)\n",
    "y_test_exp = np.expm1(y_test)"
   ]
  },
  {
   "cell_type": "markdown",
   "metadata": {},
   "source": [
    "# Calculate and print performance metrics"
   ]
  },
  {
   "cell_type": "code",
   "execution_count": null,
   "metadata": {
    "execution": {
     "iopub.execute_input": "2024-07-14T17:21:36.317779Z",
     "iopub.status.busy": "2024-07-14T17:21:36.317436Z",
     "iopub.status.idle": "2024-07-14T17:21:36.343007Z",
     "shell.execute_reply": "2024-07-14T17:21:36.34174Z",
     "shell.execute_reply.started": "2024-07-14T17:21:36.317751Z"
    }
   },
   "outputs": [],
   "source": [
    "results = evaluate_percentiles(y_test_exp, y_pred_exp)\n",
    "print_results(results)"
   ]
  },
  {
   "cell_type": "markdown",
   "metadata": {},
   "source": [
    "# Hyperparameter Tuning for LightGBM"
   ]
  },
  {
   "cell_type": "code",
   "execution_count": null,
   "metadata": {
    "execution": {
     "iopub.execute_input": "2024-07-14T17:21:36.345011Z",
     "iopub.status.busy": "2024-07-14T17:21:36.344567Z",
     "iopub.status.idle": "2024-07-14T17:22:24.402542Z",
     "shell.execute_reply": "2024-07-14T17:22:24.401142Z",
     "shell.execute_reply.started": "2024-07-14T17:21:36.34497Z"
    }
   },
   "outputs": [],
   "source": [
    "lgbm_model = LGBMRegressor(random_state=46, verbose=-1)\n",
    "rmse = np.mean(np.sqrt(-cross_val_score(lgbm_model, X, y, cv=5, scoring=\"neg_mean_squared_error\")))\n",
    "\n",
    "lgbm_params = {\"learning_rate\": [0.01, 0.1], \"n_estimators\": [500, 1500]}\n",
    "lgbm_gs_best = GridSearchCV(lgbm_model, lgbm_params, cv=3, n_jobs=-1, verbose=True).fit(X, y)\n",
    "\n",
    "final_model = lgbm_model.set_params(**lgbm_gs_best.best_params_, random_state=46, verbose=-1).fit(X, y)\n",
    "rmse = np.mean(np.sqrt(-cross_val_score(final_model, X, y, cv=5, scoring=\"neg_mean_squared_error\")))\n",
    "print(\"Mean RMSE:\", rmse)\n"
   ]
  },
  {
   "cell_type": "markdown",
   "metadata": {},
   "source": [
    "# Feature Importance Plot"
   ]
  },
  {
   "cell_type": "code",
   "execution_count": null,
   "metadata": {
    "execution": {
     "iopub.execute_input": "2024-07-14T17:22:24.404646Z",
     "iopub.status.busy": "2024-07-14T17:22:24.404187Z",
     "iopub.status.idle": "2024-07-14T17:22:28.239668Z",
     "shell.execute_reply": "2024-07-14T17:22:28.238516Z",
     "shell.execute_reply.started": "2024-07-14T17:22:24.404603Z"
    }
   },
   "outputs": [],
   "source": [
    "def plot_importance(model, features, num=len(X), save=False):\n",
    "    feature_imp = pd.DataFrame({\"Value\": model.feature_importances_, \"Feature\": features.columns})\n",
    "    plt.figure(figsize=(10, 10))\n",
    "    sns.set(font_scale=1)\n",
    "    sns.barplot(x=\"Value\", y=\"Feature\", data=feature_imp.sort_values(by=\"Value\", ascending=False)[0:num])\n",
    "    plt.title(\"Features\")\n",
    "    plt.tight_layout()\n",
    "    plt.show()\n",
    "    if save:\n",
    "        plt.savefig(\"importances.png\")\n",
    "\n",
    "model = LGBMRegressor(verbose=-1)\n",
    "model.fit(X, y)\n",
    "plot_importance(model, X)"
   ]
  },
  {
   "cell_type": "markdown",
   "metadata": {},
   "source": [
    "# Prediction and Submission File Creation"
   ]
  },
  {
   "cell_type": "code",
   "execution_count": null,
   "metadata": {
    "execution": {
     "iopub.execute_input": "2024-07-14T17:22:28.241689Z",
     "iopub.status.busy": "2024-07-14T17:22:28.241274Z",
     "iopub.status.idle": "2024-07-14T17:22:28.686925Z",
     "shell.execute_reply": "2024-07-14T17:22:28.685646Z",
     "shell.execute_reply.started": "2024-07-14T17:22:28.241653Z"
    }
   },
   "outputs": [],
   "source": [
    "model = LGBMRegressor(verbose=-1)\n",
    "model.fit(X, y)\n",
    "predictions = model.predict(test_df.drop([\"Id\", \"SalePrice\"], axis=1))\n",
    "real_predictions = np.exp(predictions)\n",
    "submission = pd.DataFrame({\n",
    "    \"Id\": test_df[\"Id\"].astype(int),  \n",
    "    \"SalePrice\": real_predictions\n",
    "})\n",
    "submission.to_csv(\"housePricePredictions.csv\", index=False)"
   ]
  },
  {
   "cell_type": "markdown",
   "metadata": {},
   "source": []
  },
  {
   "cell_type": "markdown",
   "metadata": {},
   "source": []
  },
  {
   "cell_type": "markdown",
   "metadata": {},
   "source": []
  },
  {
   "cell_type": "markdown",
   "metadata": {},
   "source": []
  },
  {
   "cell_type": "markdown",
   "metadata": {},
   "source": []
  },
  {
   "cell_type": "markdown",
   "metadata": {},
   "source": []
  },
  {
   "cell_type": "markdown",
   "metadata": {},
   "source": []
  },
  {
   "cell_type": "markdown",
   "metadata": {},
   "source": []
  },
  {
   "cell_type": "markdown",
   "metadata": {},
   "source": []
  },
  {
   "cell_type": "markdown",
   "metadata": {},
   "source": []
  },
  {
   "cell_type": "markdown",
   "metadata": {},
   "source": []
  },
  {
   "cell_type": "markdown",
   "metadata": {},
   "source": []
  }
 ],
 "metadata": {
  "kaggle": {
   "accelerator": "none",
   "dataSources": [
    {
     "databundleVersionId": 868283,
     "sourceId": 5407,
     "sourceType": "competition"
    }
   ],
   "dockerImageVersionId": 30746,
   "isGpuEnabled": false,
   "isInternetEnabled": true,
   "language": "python",
   "sourceType": "notebook"
  },
  "kernelspec": {
   "display_name": "Python 3",
   "language": "python",
   "name": "python3"
  },
  "language_info": {
   "codemirror_mode": {
    "name": "ipython",
    "version": 3
   },
   "file_extension": ".py",
   "mimetype": "text/x-python",
   "name": "python",
   "nbconvert_exporter": "python",
   "pygments_lexer": "ipython3",
   "version": "3.10.13"
  }
 },
 "nbformat": 4,
 "nbformat_minor": 4
}
