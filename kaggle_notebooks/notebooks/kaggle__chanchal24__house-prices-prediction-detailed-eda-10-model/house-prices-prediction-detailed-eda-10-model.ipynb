{
 "cells": [
  {
   "cell_type": "code",
   "execution_count": null,
   "metadata": {
    "_cell_guid": "b1076dfc-b9ad-4769-8c92-a6c4dae69d19",
    "_uuid": "8f2839f25d086af736a60e9eeb907d3b93b6e0e5",
    "execution": {
     "iopub.execute_input": "2024-03-10T14:28:56.220229Z",
     "iopub.status.busy": "2024-03-10T14:28:56.219813Z",
     "iopub.status.idle": "2024-03-10T14:28:56.710818Z",
     "shell.execute_reply": "2024-03-10T14:28:56.709578Z",
     "shell.execute_reply.started": "2024-03-10T14:28:56.22019Z"
    }
   },
   "outputs": [],
   "source": [
    "# This Python 3 environment comes with many helpful analytics libraries installed\n",
    "# It is defined by the kaggle/python Docker image: https://github.com/kaggle/docker-python\n",
    "# For example, here's several helpful packages to load\n",
    "\n",
    "import numpy as np # linear algebra\n",
    "import pandas as pd # data processing, CSV file I/O (e.g. pd.read_csv)\n",
    "\n",
    "# Input data files are available in the read-only \"/share/dutta/eyao/dataset/kaggle/\" directory\n",
    "# For example, running this (by clicking run or pressing Shift+Enter) will list all files under the input directory\n",
    "\n",
    "import os\n",
    "for dirname, _, filenames in os.walk('/share/dutta/eyao/dataset/kaggle'):\n",
    "    for filename in filenames:\n",
    "        print(os.path.join(dirname, filename))\n",
    "\n",
    "# You can write up to 20GB to the current directory () that gets preserved as output when you create a version using \"Save & Run All\" \n",
    "# You can also write temporary files to /kaggle/temp/, but they won't be saved outside of the current session"
   ]
  },
  {
   "cell_type": "markdown",
   "metadata": {},
   "source": [
    "# Imports"
   ]
  },
  {
   "cell_type": "code",
   "execution_count": null,
   "metadata": {
    "execution": {
     "iopub.execute_input": "2024-03-10T14:28:58.603826Z",
     "iopub.status.busy": "2024-03-10T14:28:58.602734Z",
     "iopub.status.idle": "2024-03-10T14:29:15.634576Z",
     "shell.execute_reply": "2024-03-10T14:29:15.633252Z",
     "shell.execute_reply.started": "2024-03-10T14:28:58.603779Z"
    }
   },
   "outputs": [],
   "source": [
    "import pandas as pd\n",
    "import numpy as np \n",
    "import matplotlib.pyplot as plt\n",
    "import seaborn as sns\n",
    "import plotly.express as px\n",
    "import math\n",
    "from scipy.stats import zscore\n",
    "from sklearn.model_selection import train_test_split\n",
    "from sklearn.preprocessing import StandardScaler\n",
    "from sklearn.linear_model import LinearRegression\n",
    "from sklearn.linear_model import Lasso\n",
    "from sklearn.linear_model import Ridge\n",
    "from sklearn.svm import SVR\n",
    "from sklearn.tree import DecisionTreeRegressor\n",
    "from sklearn.ensemble import RandomForestRegressor\n",
    "from sklearn.metrics import r2_score\n",
    "from sklearn.preprocessing import PolynomialFeatures\n",
    "from sklearn.metrics import mean_squared_error\n",
    "from xgboost import XGBRegressor\n",
    "import tensorflow as tf\n",
    "import warnings\n",
    "pd.set_option('display.max_columns', None)\n",
    "warnings.filterwarnings(\"ignore\")"
   ]
  },
  {
   "cell_type": "markdown",
   "metadata": {},
   "source": [
    "### Exploring the data"
   ]
  },
  {
   "cell_type": "code",
   "execution_count": null,
   "metadata": {
    "execution": {
     "iopub.execute_input": "2024-03-10T14:29:15.636971Z",
     "iopub.status.busy": "2024-03-10T14:29:15.636277Z",
     "iopub.status.idle": "2024-03-10T14:29:15.739588Z",
     "shell.execute_reply": "2024-03-10T14:29:15.738297Z",
     "shell.execute_reply.started": "2024-03-10T14:29:15.636937Z"
    }
   },
   "outputs": [],
   "source": [
    "df = pd.read_csv('/share/dutta/eyao/dataset/kaggle/house-prices-advanced-regression-techniques/train.csv',index_col='Id')\n",
    "df.head()"
   ]
  },
  {
   "cell_type": "code",
   "execution_count": null,
   "metadata": {
    "execution": {
     "iopub.execute_input": "2024-03-10T14:29:30.623139Z",
     "iopub.status.busy": "2024-03-10T14:29:30.622707Z",
     "iopub.status.idle": "2024-03-10T14:29:30.683042Z",
     "shell.execute_reply": "2024-03-10T14:29:30.681848Z",
     "shell.execute_reply.started": "2024-03-10T14:29:30.623111Z"
    }
   },
   "outputs": [],
   "source": [
    "df.tail()"
   ]
  },
  {
   "cell_type": "code",
   "execution_count": null,
   "metadata": {
    "execution": {
     "iopub.execute_input": "2024-03-10T14:29:31.650293Z",
     "iopub.status.busy": "2024-03-10T14:29:31.649625Z",
     "iopub.status.idle": "2024-03-10T14:29:31.683851Z",
     "shell.execute_reply": "2024-03-10T14:29:31.682655Z",
     "shell.execute_reply.started": "2024-03-10T14:29:31.650258Z"
    }
   },
   "outputs": [],
   "source": [
    "df.info()"
   ]
  },
  {
   "cell_type": "code",
   "execution_count": null,
   "metadata": {
    "execution": {
     "iopub.execute_input": "2024-03-10T14:29:32.430708Z",
     "iopub.status.busy": "2024-03-10T14:29:32.430101Z",
     "iopub.status.idle": "2024-03-10T14:29:32.531261Z",
     "shell.execute_reply": "2024-03-10T14:29:32.530365Z",
     "shell.execute_reply.started": "2024-03-10T14:29:32.430677Z"
    }
   },
   "outputs": [],
   "source": [
    "df.describe()"
   ]
  },
  {
   "cell_type": "markdown",
   "metadata": {},
   "source": [
    "# Data Cleaning\n",
    "#### Dealing with missing values"
   ]
  },
  {
   "cell_type": "code",
   "execution_count": null,
   "metadata": {
    "execution": {
     "iopub.execute_input": "2024-03-10T14:29:34.649351Z",
     "iopub.status.busy": "2024-03-10T14:29:34.648763Z",
     "iopub.status.idle": "2024-03-10T14:29:34.66167Z",
     "shell.execute_reply": "2024-03-10T14:29:34.660527Z",
     "shell.execute_reply.started": "2024-03-10T14:29:34.64932Z"
    }
   },
   "outputs": [],
   "source": [
    "print(\"Percentage of Nan in each Column\")\n",
    "for column, percentage in ((df.isna().sum() / df.shape[0]) * 100).items():\n",
    "    count = math.ceil(percentage)\n",
    "    if count > 0:\n",
    "        print(f\"{column} : {count} %\")"
   ]
  },
  {
   "cell_type": "code",
   "execution_count": null,
   "metadata": {
    "execution": {
     "iopub.execute_input": "2024-03-10T14:29:35.326561Z",
     "iopub.status.busy": "2024-03-10T14:29:35.325922Z",
     "iopub.status.idle": "2024-03-10T14:29:35.334873Z",
     "shell.execute_reply": "2024-03-10T14:29:35.333738Z",
     "shell.execute_reply.started": "2024-03-10T14:29:35.326527Z"
    }
   },
   "outputs": [],
   "source": [
    "df.drop(columns=['MasVnrType','PoolQC','PoolArea','BsmtHalfBath','KitchenAbvGr','Utilities'],inplace=True)"
   ]
  },
  {
   "cell_type": "code",
   "execution_count": null,
   "metadata": {
    "execution": {
     "iopub.execute_input": "2024-03-10T14:29:36.218639Z",
     "iopub.status.busy": "2024-03-10T14:29:36.218135Z",
     "iopub.status.idle": "2024-03-10T14:29:36.242916Z",
     "shell.execute_reply": "2024-03-10T14:29:36.241715Z",
     "shell.execute_reply.started": "2024-03-10T14:29:36.218592Z"
    }
   },
   "outputs": [],
   "source": [
    "df['LotFrontage'] = df['LotFrontage'].fillna(0)\n",
    "df['Alley'] = df['Alley'].fillna(\"No Alley Acess\")\n",
    "df['MasVnrArea'] = df['MasVnrArea'].fillna(df['MasVnrArea'].mean())\n",
    "df['LotFrontage'] = df['LotFrontage'].fillna(0)\n",
    "df['BsmtQual'] = df['BsmtQual'].fillna(\"No Basment\")\n",
    "df['BsmtCond'] = df['BsmtCond'].fillna(\"No Basment\")\n",
    "df['BsmtExposure'] = df['BsmtExposure'].fillna(\"No Basment\")\n",
    "df['BsmtFinType1'] = df['BsmtFinType1'].fillna(\"No Basment\")\n",
    "df['BsmtFinType2'] = df['BsmtFinType2'].fillna(\"No Basment\")\n",
    "df['Electrical'] = df['Electrical'].fillna(df['Electrical'].mode()[0])\n",
    "df['FireplaceQu'] = df['FireplaceQu'].fillna(\"No Fireplace\")\n",
    "df['GarageType'] = df['GarageType'].fillna(\"No Garage\")\n",
    "df['GarageYrBlt'] = df['GarageYrBlt'].fillna(0)\n",
    "df['GarageFinish'] = df['GarageFinish'].fillna(\"No Garage\")\n",
    "df['GarageQual'] = df['GarageQual'].fillna(\"No Garage\")\n",
    "df['GarageCond'] = df['GarageCond'].fillna(\"No Garage\")\n",
    "df['Fence'] = df['Fence'].fillna(\"No Fence\")\n",
    "df['MiscFeature'] = df['MiscFeature'].fillna(\"No Miscellaneous Feature\")"
   ]
  },
  {
   "cell_type": "markdown",
   "metadata": {},
   "source": [
    "#### Removing Outliers"
   ]
  },
  {
   "cell_type": "code",
   "execution_count": null,
   "metadata": {
    "execution": {
     "iopub.execute_input": "2024-03-10T14:29:37.805081Z",
     "iopub.status.busy": "2024-03-10T14:29:37.804653Z",
     "iopub.status.idle": "2024-03-10T14:29:37.81266Z",
     "shell.execute_reply": "2024-03-10T14:29:37.811287Z",
     "shell.execute_reply.started": "2024-03-10T14:29:37.805048Z"
    }
   },
   "outputs": [],
   "source": [
    "def remove_outlier(df, x):\n",
    "    df[f'{x}_zscore'] = zscore(df[f'{x}'])\n",
    "    df.drop(df[(df[f'{x}_zscore'] >= 3) | (df[f'{x}_zscore'] <= -3)].index, inplace=True)\n",
    "    df.drop(columns=[f'{x}_zscore'], inplace=True)"
   ]
  },
  {
   "cell_type": "code",
   "execution_count": null,
   "metadata": {
    "execution": {
     "iopub.execute_input": "2024-03-10T14:29:38.518313Z",
     "iopub.status.busy": "2024-03-10T14:29:38.517844Z",
     "iopub.status.idle": "2024-03-10T14:29:38.740028Z",
     "shell.execute_reply": "2024-03-10T14:29:38.738976Z",
     "shell.execute_reply.started": "2024-03-10T14:29:38.518279Z"
    }
   },
   "outputs": [],
   "source": [
    "columns = df.select_dtypes('number').columns.tolist()\n",
    "for column in columns:\n",
    "    remove_outlier(df, column)"
   ]
  },
  {
   "cell_type": "code",
   "execution_count": null,
   "metadata": {
    "execution": {
     "iopub.execute_input": "2024-03-10T14:29:40.119185Z",
     "iopub.status.busy": "2024-03-10T14:29:40.118708Z",
     "iopub.status.idle": "2024-03-10T14:29:40.140721Z",
     "shell.execute_reply": "2024-03-10T14:29:40.139484Z",
     "shell.execute_reply.started": "2024-03-10T14:29:40.119148Z"
    }
   },
   "outputs": [],
   "source": [
    "df.info()"
   ]
  },
  {
   "cell_type": "code",
   "execution_count": null,
   "metadata": {
    "execution": {
     "iopub.execute_input": "2024-03-10T14:29:41.019538Z",
     "iopub.status.busy": "2024-03-10T14:29:41.019015Z",
     "iopub.status.idle": "2024-03-10T14:29:41.027302Z",
     "shell.execute_reply": "2024-03-10T14:29:41.025997Z",
     "shell.execute_reply.started": "2024-03-10T14:29:41.019492Z"
    }
   },
   "outputs": [],
   "source": [
    "df.shape"
   ]
  },
  {
   "cell_type": "code",
   "execution_count": null,
   "metadata": {
    "execution": {
     "iopub.execute_input": "2024-03-10T14:29:41.728509Z",
     "iopub.status.busy": "2024-03-10T14:29:41.727144Z",
     "iopub.status.idle": "2024-03-10T14:29:41.817735Z",
     "shell.execute_reply": "2024-03-10T14:29:41.816502Z",
     "shell.execute_reply.started": "2024-03-10T14:29:41.728451Z"
    }
   },
   "outputs": [],
   "source": [
    "df.describe()"
   ]
  },
  {
   "cell_type": "markdown",
   "metadata": {},
   "source": [
    "# Analysis and Visualization"
   ]
  },
  {
   "cell_type": "code",
   "execution_count": null,
   "metadata": {
    "execution": {
     "iopub.execute_input": "2024-03-10T14:29:43.271644Z",
     "iopub.status.busy": "2024-03-10T14:29:43.271161Z",
     "iopub.status.idle": "2024-03-10T14:29:50.092674Z",
     "shell.execute_reply": "2024-03-10T14:29:50.091636Z",
     "shell.execute_reply.started": "2024-03-10T14:29:43.271608Z"
    }
   },
   "outputs": [],
   "source": [
    "df.hist(figsize=(20, 20), xlabelsize=10, ylabelsize=10,color='#ffc0cb');"
   ]
  },
  {
   "cell_type": "code",
   "execution_count": null,
   "metadata": {
    "execution": {
     "iopub.execute_input": "2024-03-10T14:29:55.858984Z",
     "iopub.status.busy": "2024-03-10T14:29:55.858605Z"
    }
   },
   "outputs": [],
   "source": [
    "plt.figure(figsize=(30,30))\n",
    "sns.heatmap(df.select_dtypes('number').corr(),vmax=.8, annot=True,square=True,cmap='brg');"
   ]
  },
  {
   "cell_type": "code",
   "execution_count": null,
   "metadata": {
    "execution": {
     "iopub.execute_input": "2024-03-10T14:30:09.595389Z",
     "iopub.status.busy": "2024-03-10T14:30:09.594932Z",
     "iopub.status.idle": "2024-03-10T14:30:11.563143Z",
     "shell.execute_reply": "2024-03-10T14:30:11.561706Z",
     "shell.execute_reply.started": "2024-03-10T14:30:09.595354Z"
    }
   },
   "outputs": [],
   "source": [
    "MSSubClass = df.groupby('MSSubClass')['SalePrice'].mean()\n",
    "MSSubClassMap ={20 : '1-STORY 1946 & NEWER ALL STYLES',\n",
    "               30 : '1-STORY 1945 & OLDER',\n",
    "               40 : '1-STORY W/FINISHED ATTIC ALL AGES',\n",
    "               45 : \"1-1/2 STORY - UNFINISHED ALL AGES\",\n",
    "                50 : \"1-1/2 STORY FINISHED ALL AGES\",\n",
    "                60 : \"2-STORY 1946 & NEWER\",\n",
    "                70 : \"2-STORY 1945 & OLDER\",\n",
    "                75 : \"2-1/2 STORY ALL AGES\",\n",
    "                80 : \"SPLIT OR MULTI-LEVEL\",\n",
    "                85 : \"SPLIT FOYER\",\n",
    "                90 : \"DUPLEX - ALL STYLES AND AGES\",\n",
    "               120 : \"1-STORY PUD (Planned Unit Development) - 1946 & NEWER\",\n",
    "               150 : \"1-1/2 STORY PUD - ALL AGES\",\n",
    "               160 : \"2-STORY PUD - 1946 & NEWER\",\n",
    "               180 : \"PUD - MULTILEVEL - INCL SPLIT LEV/FOYER\",\n",
    "               190 : \"2 FAMILY CONVERSION - ALL STYLES AND AGES\"}\n",
    "\n",
    "index_list = MSSubClass.index.tolist()\n",
    "fig =px.bar(y=MSSubClass.values, x=[MSSubClassMap[i] for i in index_list], labels={'x': 'MSSubClass','y':'Value'},color=MSSubClass.values)\n",
    "fig.update_layout(title='Mean of SalePrice for each MSSubClass',width=1300, \n",
    "    height=1000 )\n",
    "fig.show()"
   ]
  },
  {
   "cell_type": "code",
   "execution_count": null,
   "metadata": {
    "execution": {
     "iopub.execute_input": "2024-03-10T14:30:38.047039Z",
     "iopub.status.busy": "2024-03-10T14:30:38.046627Z",
     "iopub.status.idle": "2024-03-10T14:30:38.127955Z",
     "shell.execute_reply": "2024-03-10T14:30:38.126466Z",
     "shell.execute_reply.started": "2024-03-10T14:30:38.047009Z"
    }
   },
   "outputs": [],
   "source": [
    "MSZoningMap={\n",
    "    \"A\" : \"Agriculture\",\n",
    "       \"C (all)\" : \"Commercial\",\n",
    "       \"FV\" : \"Floating Village Residential\",\n",
    "       \"I\" : \"Industrial\",\n",
    "       \"RH\" : \"Residential High Density\",\n",
    "       \"RL\" : \"Residential Low Density\",\n",
    "       \"RP\" : \"Residential Low Density Park\", \n",
    "       \"RM\" : \"Residential Medium Density\"\n",
    "}\n",
    "index_list = df['MSZoning'].value_counts().index.tolist()\n",
    "\n",
    "px.pie(values=df['MSZoning'].value_counts().values,names=[MSZoningMap[i] for i in index_list],title='Number of Houses with the Zonning Classification')"
   ]
  },
  {
   "cell_type": "code",
   "execution_count": null,
   "metadata": {
    "execution": {
     "iopub.execute_input": "2024-03-10T14:30:39.417206Z",
     "iopub.status.busy": "2024-03-10T14:30:39.416682Z",
     "iopub.status.idle": "2024-03-10T14:30:46.496426Z",
     "shell.execute_reply": "2024-03-10T14:30:46.495322Z",
     "shell.execute_reply.started": "2024-03-10T14:30:39.417133Z"
    }
   },
   "outputs": [],
   "source": [
    "def plot_numeric_column_with_price(ax, x):\n",
    "    scatter = ax.scatter(x=df[x], y=df['SalePrice'], c=df['SalePrice'], cmap='viridis', alpha=0.8, s=10)\n",
    "    ax.set(xlabel=x, ylabel='SalePrice', title=f'{x} With Sale Price')\n",
    "    plt.colorbar(scatter, ax=ax, label='SalePrice')\n",
    "\n",
    "columns = []\n",
    "for c in df.select_dtypes('number').columns.tolist():\n",
    "    if df[f'{c}'].nunique() > 16:\n",
    "        columns.append(c)\n",
    "        \n",
    "num_rows = math.ceil(len(columns[:-1]) / 2)\n",
    "fig, axes = plt.subplots(num_rows, 2, figsize=(18, 6 * num_rows))\n",
    "axes = axes.flatten()\n",
    "for i, column in enumerate(columns[:-1]):\n",
    "    if i >= len(axes):\n",
    "        break\n",
    "    plot_numeric_column_with_price(axes[i], column)\n",
    "\n",
    "plt.tight_layout()\n",
    "plt.show()"
   ]
  },
  {
   "cell_type": "code",
   "execution_count": null,
   "metadata": {
    "execution": {
     "iopub.execute_input": "2024-03-10T14:30:50.469625Z",
     "iopub.status.busy": "2024-03-10T14:30:50.468759Z",
     "iopub.status.idle": "2024-03-10T14:31:03.229147Z",
     "shell.execute_reply": "2024-03-10T14:31:03.227761Z",
     "shell.execute_reply.started": "2024-03-10T14:30:50.469581Z"
    }
   },
   "outputs": [],
   "source": [
    "def plot_categorical_column_with_price(x, ax):\n",
    "    mean = df.groupby(x)['SalePrice'].mean()\n",
    "    sns.barplot(x=mean.index, y=mean.values, width=0.5, ax=ax,palette='viridis')\n",
    "    ax.set_xlabel(x)\n",
    "    ax.set_ylabel('SalePrice')\n",
    "    ax.set_xticklabels(ax.get_xticklabels(), rotation=45, ha='right')\n",
    "    ax.set_title(f'Mean of Sale Price With {x}')\n",
    "\n",
    "columns = df.select_dtypes(exclude='number').columns.tolist()\n",
    "for c in df.select_dtypes('number').columns.tolist():\n",
    "    if df[f'{c}'].nunique() <= 16:\n",
    "        columns.append(c)\n",
    "\n",
    "num_columns = 3\n",
    "num_rows = (len(columns) + num_columns - 1) // num_columns\n",
    "\n",
    "fig, axes = plt.subplots(num_rows, num_columns, figsize=(18, 6 * num_rows))\n",
    "\n",
    "for i, column in enumerate(columns):\n",
    "    row = i // num_columns\n",
    "    col = i % num_columns\n",
    "    if num_rows > 1:\n",
    "        ax = axes[row, col]\n",
    "    else:\n",
    "        ax = axes[col]\n",
    "    plot_categorical_column_with_price(column, ax)\n",
    "\n",
    "for i in range(len(columns), num_rows * num_columns):\n",
    "    row = i // num_columns\n",
    "    col = i % num_columns\n",
    "    if num_rows > 1:\n",
    "        fig.delaxes(axes[row, col])\n",
    "    else:\n",
    "        fig.delaxes(axes[col])\n",
    "\n",
    "plt.tight_layout()\n",
    "plt.show()"
   ]
  },
  {
   "cell_type": "code",
   "execution_count": null,
   "metadata": {
    "execution": {
     "iopub.execute_input": "2024-03-10T14:31:08.641262Z",
     "iopub.status.busy": "2024-03-10T14:31:08.640808Z",
     "iopub.status.idle": "2024-03-10T14:31:23.886065Z",
     "shell.execute_reply": "2024-03-10T14:31:23.884925Z",
     "shell.execute_reply.started": "2024-03-10T14:31:08.64123Z"
    }
   },
   "outputs": [],
   "source": [
    "def box_plot_categorical_column_with_price(x, ax):\n",
    "    sns.boxplot(x=x, y='SalePrice', data=df, ax=ax, palette='viridis')\n",
    "    ax.set_xlabel(x)\n",
    "    ax.set_ylabel('SalePrice')\n",
    "    ax.set_xticklabels(ax.get_xticklabels(), rotation=45, ha='right')\n",
    "    ax.set_title(f'Box Plot of Sale Price by {x}')\n",
    "\n",
    "\n",
    "columns = df.select_dtypes(exclude='number').columns.tolist()\n",
    "for c in df.select_dtypes('number').columns.tolist():\n",
    "    if df[f'{c}'].nunique() <= 16:\n",
    "        columns.append(c)\n",
    "        \n",
    "num_columns = 3\n",
    "num_rows = (len(columns) + num_columns - 1) // num_columns\n",
    "\n",
    "fig, axes = plt.subplots(num_rows, num_columns, figsize=(18, 6 * num_rows), sharey=True)\n",
    "axes = axes.flatten()\n",
    "\n",
    "for i, column in enumerate(columns):\n",
    "    box_plot_categorical_column_with_price(column, axes[i])\n",
    "\n",
    "for i in range(len(columns), num_rows * num_columns):\n",
    "    fig.delaxes(axes[i])\n",
    "\n",
    "plt.tight_layout()\n",
    "plt.show()"
   ]
  },
  {
   "cell_type": "markdown",
   "metadata": {},
   "source": [
    "# Preprocessing"
   ]
  },
  {
   "cell_type": "markdown",
   "metadata": {},
   "source": [
    "#### Ecoding the data\n"
   ]
  },
  {
   "cell_type": "code",
   "execution_count": null,
   "metadata": {
    "execution": {
     "iopub.execute_input": "2024-03-10T14:31:33.335376Z",
     "iopub.status.busy": "2024-03-10T14:31:33.334913Z",
     "iopub.status.idle": "2024-03-10T14:31:33.3854Z",
     "shell.execute_reply": "2024-03-10T14:31:33.383951Z",
     "shell.execute_reply.started": "2024-03-10T14:31:33.335344Z"
    }
   },
   "outputs": [],
   "source": [
    "df = pd.get_dummies(df,dtype=float,drop_first=True)"
   ]
  },
  {
   "cell_type": "markdown",
   "metadata": {},
   "source": [
    "#### Split the data"
   ]
  },
  {
   "cell_type": "code",
   "execution_count": null,
   "metadata": {
    "execution": {
     "iopub.execute_input": "2024-03-10T14:31:34.530957Z",
     "iopub.status.busy": "2024-03-10T14:31:34.529967Z",
     "iopub.status.idle": "2024-03-10T14:31:34.75989Z",
     "shell.execute_reply": "2024-03-10T14:31:34.758521Z",
     "shell.execute_reply.started": "2024-03-10T14:31:34.530905Z"
    }
   },
   "outputs": [],
   "source": [
    "df.head()"
   ]
  },
  {
   "cell_type": "code",
   "execution_count": null,
   "metadata": {
    "execution": {
     "iopub.execute_input": "2024-03-10T14:31:35.86223Z",
     "iopub.status.busy": "2024-03-10T14:31:35.861781Z",
     "iopub.status.idle": "2024-03-10T14:31:35.873502Z",
     "shell.execute_reply": "2024-03-10T14:31:35.872334Z",
     "shell.execute_reply.started": "2024-03-10T14:31:35.862196Z"
    }
   },
   "outputs": [],
   "source": [
    "index_to_exclude = df.columns.get_loc('SalePrice')\n",
    "X = df.iloc[:, [i for i in range(df.shape[1]) if i != index_to_exclude]].values\n",
    "y = df.iloc[:,index_to_exclude].values"
   ]
  },
  {
   "cell_type": "code",
   "execution_count": null,
   "metadata": {
    "execution": {
     "iopub.execute_input": "2024-03-10T14:31:36.850449Z",
     "iopub.status.busy": "2024-03-10T14:31:36.849214Z",
     "iopub.status.idle": "2024-03-10T14:31:36.858789Z",
     "shell.execute_reply": "2024-03-10T14:31:36.857575Z",
     "shell.execute_reply.started": "2024-03-10T14:31:36.850364Z"
    }
   },
   "outputs": [],
   "source": [
    "X_train, X_test, y_train, y_test = train_test_split(X,y,test_size=0.2,random_state=329) "
   ]
  },
  {
   "cell_type": "markdown",
   "metadata": {},
   "source": [
    "#### Apply Standardization on the data"
   ]
  },
  {
   "cell_type": "code",
   "execution_count": null,
   "metadata": {
    "execution": {
     "iopub.execute_input": "2024-03-10T14:31:38.116718Z",
     "iopub.status.busy": "2024-03-10T14:31:38.116158Z",
     "iopub.status.idle": "2024-03-10T14:31:38.12773Z",
     "shell.execute_reply": "2024-03-10T14:31:38.126659Z",
     "shell.execute_reply.started": "2024-03-10T14:31:38.116667Z"
    }
   },
   "outputs": [],
   "source": [
    "X_train_nstd = X_train.copy()\n",
    "X_test_nstd = X_test.copy()\n",
    "y_train_nstd = y_train.copy()\n",
    "\n",
    "sc_X = StandardScaler()\n",
    "X_train[:, :34] = sc_X.fit_transform(X_train[:, :34])\n",
    "X_test[:, :34] = sc_X.transform(X_test[:, :34])\n",
    "sc_y = StandardScaler()\n",
    "y_train = sc_y.fit_transform(y_train.reshape(-1,1)).flatten()"
   ]
  },
  {
   "cell_type": "markdown",
   "metadata": {},
   "source": [
    "# Multi-Linear Regression"
   ]
  },
  {
   "cell_type": "markdown",
   "metadata": {},
   "source": [
    "#### Train the Model"
   ]
  },
  {
   "cell_type": "code",
   "execution_count": null,
   "metadata": {
    "execution": {
     "iopub.execute_input": "2024-03-10T14:31:40.087497Z",
     "iopub.status.busy": "2024-03-10T14:31:40.087005Z",
     "iopub.status.idle": "2024-03-10T14:31:40.155453Z",
     "shell.execute_reply": "2024-03-10T14:31:40.1542Z",
     "shell.execute_reply.started": "2024-03-10T14:31:40.08745Z"
    }
   },
   "outputs": [],
   "source": [
    "multi_lr = LinearRegression()\n",
    "multi_lr.fit(X_train_nstd, y_train_nstd)"
   ]
  },
  {
   "cell_type": "markdown",
   "metadata": {},
   "source": [
    "#### Evaluate the model"
   ]
  },
  {
   "cell_type": "code",
   "execution_count": null,
   "metadata": {
    "execution": {
     "iopub.execute_input": "2024-03-10T14:31:41.650568Z",
     "iopub.status.busy": "2024-03-10T14:31:41.650094Z",
     "iopub.status.idle": "2024-03-10T14:31:41.666459Z",
     "shell.execute_reply": "2024-03-10T14:31:41.665097Z",
     "shell.execute_reply.started": "2024-03-10T14:31:41.650531Z"
    }
   },
   "outputs": [],
   "source": [
    "y_pred = multi_lr.predict(X_test_nstd)\n",
    "y_train_pred = multi_lr.predict(X_train_nstd)\n",
    "r2_lr_train = r2_score(y_train_nstd, y_train_pred)\n",
    "r2_lr_test = r2_score(y_test, y_pred.reshape(-1,1))\n",
    "print(\"R2 Train Score:\", r2_lr_train)\n",
    "print(\"R2 Test Score:\", r2_lr_test)\n",
    "mse_lr_train = mean_squared_error(y_train_nstd, y_train_pred)\n",
    "mse_lr_test = mean_squared_error(y_test, y_pred.reshape(-1,1))\n",
    "print(\"Mean Squared Error of Train:\", mse_lr_train)\n",
    "print(\"Mean Squared Error of Test:\", mse_lr_test)\n"
   ]
  },
  {
   "cell_type": "markdown",
   "metadata": {},
   "source": [
    "# Polynomial Regression"
   ]
  },
  {
   "cell_type": "markdown",
   "metadata": {},
   "source": [
    "#### Training the Model"
   ]
  },
  {
   "cell_type": "code",
   "execution_count": null,
   "metadata": {
    "execution": {
     "iopub.execute_input": "2024-03-10T14:31:43.502077Z",
     "iopub.status.busy": "2024-03-10T14:31:43.501644Z",
     "iopub.status.idle": "2024-03-10T14:31:47.751777Z",
     "shell.execute_reply": "2024-03-10T14:31:47.750467Z",
     "shell.execute_reply.started": "2024-03-10T14:31:43.502046Z"
    }
   },
   "outputs": [],
   "source": [
    "poly_reg = PolynomialFeatures(degree = 2)\n",
    "X_train_poly = poly_reg.fit_transform(X_train)\n",
    "X_test_poly = poly_reg.transform(X_test)\n",
    "poly_lr = LinearRegression()\n",
    "poly_lr.fit(X_train_poly, y_train)"
   ]
  },
  {
   "cell_type": "markdown",
   "metadata": {},
   "source": [
    "#### Evaluation the Model"
   ]
  },
  {
   "cell_type": "code",
   "execution_count": null,
   "metadata": {
    "execution": {
     "iopub.execute_input": "2024-03-10T14:31:49.612132Z",
     "iopub.status.busy": "2024-03-10T14:31:49.611617Z",
     "iopub.status.idle": "2024-03-10T14:31:49.68651Z",
     "shell.execute_reply": "2024-03-10T14:31:49.685193Z",
     "shell.execute_reply.started": "2024-03-10T14:31:49.612089Z"
    }
   },
   "outputs": [],
   "source": [
    "y_pred = poly_lr.predict(X_test_poly)\n",
    "y_train_pred = poly_lr.predict(X_train_poly)\n",
    "r2_poly_train = r2_score(y_train,y_train_pred)\n",
    "r2_poly_test = r2_score(y_test,sc_y.inverse_transform(y_pred.reshape(-1,1)))\n",
    "print(\"R2 Train Score:\", r2_poly_train)\n",
    "print(\"R2 Test Score:\", r2_poly_test)\n",
    "mse_poly_train = mean_squared_error(y_train, y_train_pred)\n",
    "mse_poly_test = mean_squared_error(y_test, sc_y.inverse_transform(y_pred.reshape(-1,1)))\n",
    "print(\"Mean Squared Error of Train:\", mse_poly_train)\n",
    "print(\"Mean Squared Error of Test:\", mse_poly_test)"
   ]
  },
  {
   "cell_type": "markdown",
   "metadata": {},
   "source": [
    "# Decision Tree"
   ]
  },
  {
   "cell_type": "markdown",
   "metadata": {},
   "source": [
    "### Training the Model"
   ]
  },
  {
   "cell_type": "code",
   "execution_count": null,
   "metadata": {
    "execution": {
     "iopub.execute_input": "2024-03-10T14:31:51.257044Z",
     "iopub.status.busy": "2024-03-10T14:31:51.256638Z",
     "iopub.status.idle": "2024-03-10T14:31:51.292867Z",
     "shell.execute_reply": "2024-03-10T14:31:51.291503Z",
     "shell.execute_reply.started": "2024-03-10T14:31:51.257011Z"
    }
   },
   "outputs": [],
   "source": [
    "dec_tree = DecisionTreeRegressor()\n",
    "dec_tree.fit(X_train, y_train)"
   ]
  },
  {
   "cell_type": "markdown",
   "metadata": {},
   "source": [
    "#### Evaluation the Model"
   ]
  },
  {
   "cell_type": "code",
   "execution_count": null,
   "metadata": {
    "execution": {
     "iopub.execute_input": "2024-03-10T14:31:52.438038Z",
     "iopub.status.busy": "2024-03-10T14:31:52.437569Z",
     "iopub.status.idle": "2024-03-10T14:31:52.451754Z",
     "shell.execute_reply": "2024-03-10T14:31:52.450505Z",
     "shell.execute_reply.started": "2024-03-10T14:31:52.437999Z"
    }
   },
   "outputs": [],
   "source": [
    "y_pred = dec_tree.predict(X_test)\n",
    "y_train_pred = dec_tree.predict(X_train)\n",
    "r2_tree_train = r2_score(y_train, y_train_pred)\n",
    "r2_tree_test = r2_score(y_test, sc_y.inverse_transform(y_pred.reshape(-1,1)))\n",
    "print(\"R2 Train Score:\", r2_tree_train)\n",
    "print(\"R2 Test Score:\", r2_tree_test)\n",
    "mse_tree_train = mean_squared_error(y_train, y_train_pred)\n",
    "mse_tree_test = mean_squared_error(y_test, sc_y.inverse_transform(y_pred.reshape(-1,1)))\n",
    "print(\"Mean Squared Error of Train:\", mse_tree_train)\n",
    "print(\"Mean Squared Error of Test:\", mse_tree_test)"
   ]
  },
  {
   "cell_type": "markdown",
   "metadata": {},
   "source": [
    "# Random Forest"
   ]
  },
  {
   "cell_type": "markdown",
   "metadata": {},
   "source": [
    "#### Training the model"
   ]
  },
  {
   "cell_type": "code",
   "execution_count": null,
   "metadata": {
    "execution": {
     "iopub.execute_input": "2024-03-10T14:31:53.926366Z",
     "iopub.status.busy": "2024-03-10T14:31:53.925218Z",
     "iopub.status.idle": "2024-03-10T14:31:55.66307Z",
     "shell.execute_reply": "2024-03-10T14:31:55.662166Z",
     "shell.execute_reply.started": "2024-03-10T14:31:53.926308Z"
    }
   },
   "outputs": [],
   "source": [
    "rdm_frst = RandomForestRegressor(n_estimators = 100)\n",
    "rdm_frst.fit(X_train, y_train)"
   ]
  },
  {
   "cell_type": "markdown",
   "metadata": {},
   "source": [
    "#### Evaluation the model"
   ]
  },
  {
   "cell_type": "code",
   "execution_count": null,
   "metadata": {
    "execution": {
     "iopub.execute_input": "2024-03-10T14:31:56.392404Z",
     "iopub.status.busy": "2024-03-10T14:31:56.391934Z",
     "iopub.status.idle": "2024-03-10T14:31:56.433394Z",
     "shell.execute_reply": "2024-03-10T14:31:56.431867Z",
     "shell.execute_reply.started": "2024-03-10T14:31:56.392368Z"
    }
   },
   "outputs": [],
   "source": [
    "y_pred = rdm_frst.predict(X_test)\n",
    "y_train_pred = rdm_frst.predict(X_train)\n",
    "r2_frst_train = r2_score(y_train, y_train_pred)\n",
    "r2_frst_test = r2_score(y_test, sc_y.inverse_transform(y_pred.reshape(-1,1)))\n",
    "print(\"R2 Train Score:\", r2_frst_train)\n",
    "print(\"R2 Test Score:\", r2_frst_test)\n",
    "mse_frst_train = mean_squared_error(y_train, y_train_pred)\n",
    "mse_frst_test = mean_squared_error(y_test, sc_y.inverse_transform(y_pred.reshape(-1,1)))\n",
    "print(\"Mean Squared Error of Train:\", mse_frst_train)\n",
    "print(\"Mean Squared Error of Test:\", mse_frst_test)"
   ]
  },
  {
   "cell_type": "markdown",
   "metadata": {},
   "source": [
    "# Linear SVR"
   ]
  },
  {
   "cell_type": "markdown",
   "metadata": {},
   "source": [
    "#### Training the model"
   ]
  },
  {
   "cell_type": "code",
   "execution_count": null,
   "metadata": {
    "execution": {
     "iopub.execute_input": "2024-03-10T14:31:57.984687Z",
     "iopub.status.busy": "2024-03-10T14:31:57.984219Z",
     "iopub.status.idle": "2024-03-10T14:31:59.235079Z",
     "shell.execute_reply": "2024-03-10T14:31:59.23396Z",
     "shell.execute_reply.started": "2024-03-10T14:31:57.98465Z"
    }
   },
   "outputs": [],
   "source": [
    "svr = SVR(kernel = 'linear')\n",
    "svr.fit(X_train, y_train)"
   ]
  },
  {
   "cell_type": "markdown",
   "metadata": {},
   "source": [
    "#### Evaluation the model"
   ]
  },
  {
   "cell_type": "code",
   "execution_count": null,
   "metadata": {
    "execution": {
     "iopub.execute_input": "2024-03-10T14:32:00.178131Z",
     "iopub.status.busy": "2024-03-10T14:32:00.17771Z",
     "iopub.status.idle": "2024-03-10T14:32:00.233126Z",
     "shell.execute_reply": "2024-03-10T14:32:00.231494Z",
     "shell.execute_reply.started": "2024-03-10T14:32:00.178097Z"
    }
   },
   "outputs": [],
   "source": [
    "y_pred = svr.predict(X_test)\n",
    "y_train_pred = svr.predict(X_train)\n",
    "r2_svr_lr_train = r2_score(y_train, y_train_pred)\n",
    "r2_svr_lr_test = r2_score(y_test, sc_y.inverse_transform(y_pred.reshape(-1,1)))\n",
    "print(\"R2 Train Score:\", r2_svr_lr_train)\n",
    "print(\"R2 Test Score:\", r2_svr_lr_test)\n",
    "mse_svr_lr_train = mean_squared_error(y_train, y_train_pred)\n",
    "mse_svr_lr_test = mean_squared_error(y_test, sc_y.inverse_transform(y_pred.reshape(-1,1)))\n",
    "print(\"Mean Squared Error of Train:\", mse_svr_lr_train)\n",
    "print(\"Mean Squared Error of Test:\", mse_svr_lr_test)"
   ]
  },
  {
   "cell_type": "markdown",
   "metadata": {},
   "source": [
    "# SVR"
   ]
  },
  {
   "cell_type": "markdown",
   "metadata": {},
   "source": [
    "#### Training the model"
   ]
  },
  {
   "cell_type": "code",
   "execution_count": null,
   "metadata": {
    "execution": {
     "iopub.execute_input": "2024-03-10T14:32:02.409231Z",
     "iopub.status.busy": "2024-03-10T14:32:02.408737Z",
     "iopub.status.idle": "2024-03-10T14:32:02.484489Z",
     "shell.execute_reply": "2024-03-10T14:32:02.483127Z",
     "shell.execute_reply.started": "2024-03-10T14:32:02.409193Z"
    }
   },
   "outputs": [],
   "source": [
    "svr = SVR(kernel = 'rbf')\n",
    "svr.fit(X_train, y_train)"
   ]
  },
  {
   "cell_type": "markdown",
   "metadata": {},
   "source": [
    "#### Evaluation the model"
   ]
  },
  {
   "cell_type": "code",
   "execution_count": null,
   "metadata": {
    "execution": {
     "iopub.execute_input": "2024-03-10T14:32:03.776397Z",
     "iopub.status.busy": "2024-03-10T14:32:03.775932Z",
     "iopub.status.idle": "2024-03-10T14:32:03.91031Z",
     "shell.execute_reply": "2024-03-10T14:32:03.908963Z",
     "shell.execute_reply.started": "2024-03-10T14:32:03.77636Z"
    }
   },
   "outputs": [],
   "source": [
    "y_pred = svr.predict(X_test)\n",
    "y_train_pred = svr.predict(X_train)\n",
    "r2_svr_train = r2_score(y_train, y_train_pred)\n",
    "r2_svr_test = r2_score(y_test, sc_y.inverse_transform(y_pred.reshape(-1,1)))\n",
    "print(\"R2 Train Score:\", r2_svr_train)\n",
    "print(\"R2 Test Score:\", r2_svr_test)\n",
    "mse_svr_train = mean_squared_error(y_train, y_train_pred)\n",
    "mse_svr_test = mean_squared_error(y_test, sc_y.inverse_transform(y_pred.reshape(-1,1)))\n",
    "print(\"Mean Squared Error of Train:\", mse_svr_train)\n",
    "print(\"Mean Squared Error of Test:\", mse_svr_test)"
   ]
  },
  {
   "cell_type": "markdown",
   "metadata": {},
   "source": [
    "# Ridge"
   ]
  },
  {
   "cell_type": "markdown",
   "metadata": {},
   "source": [
    "#### Training the model"
   ]
  },
  {
   "cell_type": "code",
   "execution_count": null,
   "metadata": {
    "execution": {
     "iopub.execute_input": "2024-03-10T14:32:05.416501Z",
     "iopub.status.busy": "2024-03-10T14:32:05.416054Z",
     "iopub.status.idle": "2024-03-10T14:32:05.455803Z",
     "shell.execute_reply": "2024-03-10T14:32:05.454121Z",
     "shell.execute_reply.started": "2024-03-10T14:32:05.416464Z"
    }
   },
   "outputs": [],
   "source": [
    "ridge = Ridge()\n",
    "ridge.fit(X_train, y_train)"
   ]
  },
  {
   "cell_type": "markdown",
   "metadata": {},
   "source": [
    "#### Evaluation the model"
   ]
  },
  {
   "cell_type": "code",
   "execution_count": null,
   "metadata": {
    "execution": {
     "iopub.execute_input": "2024-03-10T14:32:06.458442Z",
     "iopub.status.busy": "2024-03-10T14:32:06.457935Z",
     "iopub.status.idle": "2024-03-10T14:32:06.482591Z",
     "shell.execute_reply": "2024-03-10T14:32:06.481403Z",
     "shell.execute_reply.started": "2024-03-10T14:32:06.458372Z"
    }
   },
   "outputs": [],
   "source": [
    "y_pred = ridge.predict(X_test)\n",
    "y_train_pred = ridge.predict(X_train)\n",
    "r2_ridge_train = r2_score(y_train, y_train_pred)\n",
    "r2_ridge_test = r2_score(y_test, sc_y.inverse_transform(y_pred.reshape(-1,1)))\n",
    "print(\"R2 Train Score:\", r2_ridge_train)\n",
    "print(\"R2 Test Score:\", r2_ridge_test)\n",
    "mse_ridge_train = mean_squared_error(y_train, y_train_pred)\n",
    "mse_ridge_test = mean_squared_error(y_test, sc_y.inverse_transform(y_pred.reshape(-1,1)))\n",
    "print(\"Mean Squared Error of Train:\", mse_ridge_train)\n",
    "print(\"Mean Squared Error of Test:\", mse_ridge_test)\n"
   ]
  },
  {
   "cell_type": "markdown",
   "metadata": {},
   "source": [
    "# Lasso"
   ]
  },
  {
   "cell_type": "markdown",
   "metadata": {},
   "source": [
    "#### Training the Model"
   ]
  },
  {
   "cell_type": "code",
   "execution_count": null,
   "metadata": {
    "execution": {
     "iopub.execute_input": "2024-03-10T14:32:07.693106Z",
     "iopub.status.busy": "2024-03-10T14:32:07.692645Z",
     "iopub.status.idle": "2024-03-10T14:32:07.780575Z",
     "shell.execute_reply": "2024-03-10T14:32:07.779332Z",
     "shell.execute_reply.started": "2024-03-10T14:32:07.69307Z"
    }
   },
   "outputs": [],
   "source": [
    "lasso = Lasso(alpha=0.001)\n",
    "lasso.fit(X_train, y_train)"
   ]
  },
  {
   "cell_type": "markdown",
   "metadata": {},
   "source": [
    "#### Evaluation the model"
   ]
  },
  {
   "cell_type": "code",
   "execution_count": null,
   "metadata": {
    "execution": {
     "iopub.execute_input": "2024-03-10T14:32:08.686989Z",
     "iopub.status.busy": "2024-03-10T14:32:08.685781Z",
     "iopub.status.idle": "2024-03-10T14:32:08.708522Z",
     "shell.execute_reply": "2024-03-10T14:32:08.707172Z",
     "shell.execute_reply.started": "2024-03-10T14:32:08.68693Z"
    }
   },
   "outputs": [],
   "source": [
    "y_pred = lasso.predict(X_test)\n",
    "y_train_pred = lasso.predict(X_train)\n",
    "r2_lasso_train = r2_score(y_train, y_train_pred)\n",
    "r2_lasso_test = r2_score(y_test, sc_y.inverse_transform(y_pred.reshape(-1,1)))\n",
    "print(\"R2 Train Score:\", r2_lasso_train)\n",
    "print(\"R2 Test Score:\", r2_lasso_test)\n",
    "mse_lasso_train = mean_squared_error(y_train, y_train_pred)\n",
    "mse_lasso_test = mean_squared_error(y_test, sc_y.inverse_transform(y_pred.reshape(-1,1)))\n",
    "print(\"Mean Squared Error of Train:\", mse_lasso_train)\n",
    "print(\"Mean Squared Error of Test:\", mse_lasso_test)"
   ]
  },
  {
   "cell_type": "markdown",
   "metadata": {},
   "source": [
    "# XGBoost Regressor"
   ]
  },
  {
   "cell_type": "markdown",
   "metadata": {},
   "source": [
    "#### Training the model"
   ]
  },
  {
   "cell_type": "code",
   "execution_count": null,
   "metadata": {
    "execution": {
     "iopub.execute_input": "2024-03-10T14:32:10.151054Z",
     "iopub.status.busy": "2024-03-10T14:32:10.150634Z",
     "iopub.status.idle": "2024-03-10T14:32:10.353605Z",
     "shell.execute_reply": "2024-03-10T14:32:10.352631Z",
     "shell.execute_reply.started": "2024-03-10T14:32:10.151023Z"
    }
   },
   "outputs": [],
   "source": [
    "xgb = XGBRegressor(learning_rate=0.2,gamma=0.2)\n",
    "xgb.fit(X_train, y_train)"
   ]
  },
  {
   "cell_type": "markdown",
   "metadata": {},
   "source": [
    "#### Evaluation the model"
   ]
  },
  {
   "cell_type": "code",
   "execution_count": null,
   "metadata": {
    "execution": {
     "iopub.execute_input": "2024-03-10T14:32:12.510501Z",
     "iopub.status.busy": "2024-03-10T14:32:12.509295Z",
     "iopub.status.idle": "2024-03-10T14:32:12.530575Z",
     "shell.execute_reply": "2024-03-10T14:32:12.529237Z",
     "shell.execute_reply.started": "2024-03-10T14:32:12.510452Z"
    }
   },
   "outputs": [],
   "source": [
    "y_pred = xgb.predict(X_test)\n",
    "y_train_pred = xgb.predict(X_train)\n",
    "r2_xgb_train = r2_score(y_train, y_train_pred)\n",
    "r2_xgb_test = r2_score(y_test, sc_y.inverse_transform(y_pred.reshape(-1,1)))\n",
    "print(\"R2 Train Score:\", r2_xgb_train)\n",
    "print(\"R2 Test Score:\", r2_xgb_test)\n",
    "mse_xgb_train = mean_squared_error(y_train, y_train_pred)\n",
    "mse_xgb_test = mean_squared_error(y_test, sc_y.inverse_transform(y_pred.reshape(-1,1)))\n",
    "print(\"Mean Squared Error of Train:\", mse_xgb_train)\n",
    "print(\"Mean Squared Error of Test:\", mse_xgb_test)"
   ]
  },
  {
   "cell_type": "markdown",
   "metadata": {},
   "source": [
    "# Neural Network"
   ]
  },
  {
   "cell_type": "markdown",
   "metadata": {},
   "source": [
    "### Training the model"
   ]
  },
  {
   "cell_type": "code",
   "execution_count": null,
   "metadata": {
    "execution": {
     "iopub.execute_input": "2024-03-10T14:32:14.833092Z",
     "iopub.status.busy": "2024-03-10T14:32:14.832607Z",
     "iopub.status.idle": "2024-03-10T14:32:36.95549Z",
     "shell.execute_reply": "2024-03-10T14:32:36.954426Z",
     "shell.execute_reply.started": "2024-03-10T14:32:14.833055Z"
    }
   },
   "outputs": [],
   "source": [
    "tf.random.set_seed(329)\n",
    "np.random.seed(329)\n",
    "\n",
    "nn_model = tf.keras.Sequential([\n",
    "    tf.keras.layers.Dense(100),\n",
    "    tf.keras.layers.Dense(100),\n",
    "    tf.keras.layers.Dense(100),\n",
    "    tf.keras.layers.Dense(100),\n",
    "    tf.keras.layers.Dense(100),\n",
    "    tf.keras.layers.Dense(1)\n",
    "])\n",
    "\n",
    "nn_model.compile(loss = tf.keras.losses.mae,\n",
    "                optimizer=tf.keras.optimizers.Adam(lr=0.1),\n",
    "                metrics=['mae','mse'])\n",
    "\n",
    "history = nn_model.fit(X_train,y_train,epochs=200,verbose=2)"
   ]
  },
  {
   "cell_type": "code",
   "execution_count": null,
   "metadata": {
    "execution": {
     "iopub.execute_input": "2024-03-10T14:32:36.958933Z",
     "iopub.status.busy": "2024-03-10T14:32:36.957677Z",
     "iopub.status.idle": "2024-03-10T14:32:36.986101Z",
     "shell.execute_reply": "2024-03-10T14:32:36.985029Z",
     "shell.execute_reply.started": "2024-03-10T14:32:36.95888Z"
    }
   },
   "outputs": [],
   "source": [
    "nn_model.summary()"
   ]
  },
  {
   "cell_type": "markdown",
   "metadata": {},
   "source": [
    "#### Evaluating the model"
   ]
  },
  {
   "cell_type": "code",
   "execution_count": null,
   "metadata": {
    "execution": {
     "iopub.execute_input": "2024-03-10T14:32:48.032137Z",
     "iopub.status.busy": "2024-03-10T14:32:48.031654Z",
     "iopub.status.idle": "2024-03-10T14:32:48.345793Z",
     "shell.execute_reply": "2024-03-10T14:32:48.344227Z",
     "shell.execute_reply.started": "2024-03-10T14:32:48.032104Z"
    }
   },
   "outputs": [],
   "source": [
    "pd.DataFrame(history.history).plot()\n",
    "plt.title('Loss Graph')\n",
    "plt.ylabel('loss')\n",
    "plt.xlabel('epochs');"
   ]
  },
  {
   "cell_type": "code",
   "execution_count": null,
   "metadata": {
    "execution": {
     "iopub.execute_input": "2024-03-10T14:32:49.38725Z",
     "iopub.status.busy": "2024-03-10T14:32:49.386777Z",
     "iopub.status.idle": "2024-03-10T14:32:49.803138Z",
     "shell.execute_reply": "2024-03-10T14:32:49.801862Z",
     "shell.execute_reply.started": "2024-03-10T14:32:49.387216Z"
    }
   },
   "outputs": [],
   "source": [
    "y_pred = nn_model.predict(X_test)\n",
    "y_train_pred = nn_model.predict(X_train)\n",
    "r2_nn_train = r2_score(y_train, y_train_pred)\n",
    "r2_nn_test = r2_score(y_test, sc_y.inverse_transform(y_pred.reshape(-1,1)))\n",
    "print(\"R2 Train Score:\", r2_nn_train)\n",
    "print(\"R2 Test Score:\", r2_nn_test)\n",
    "mse_nn_train = mean_squared_error(y_train, y_train_pred)\n",
    "mse_nn_test = mean_squared_error(y_test, sc_y.inverse_transform(y_pred.reshape(-1,1)))\n",
    "print(\"Mean Squared Error of Train:\", mse_nn_train)\n",
    "print(\"Mean Squared Error of Test:\", mse_nn_test)"
   ]
  },
  {
   "cell_type": "markdown",
   "metadata": {},
   "source": [
    "# Comparing Models"
   ]
  },
  {
   "cell_type": "code",
   "execution_count": null,
   "metadata": {
    "execution": {
     "iopub.execute_input": "2024-03-10T14:32:54.465352Z",
     "iopub.status.busy": "2024-03-10T14:32:54.464893Z",
     "iopub.status.idle": "2024-03-10T14:32:54.473946Z",
     "shell.execute_reply": "2024-03-10T14:32:54.47263Z",
     "shell.execute_reply.started": "2024-03-10T14:32:54.465318Z"
    }
   },
   "outputs": [],
   "source": [
    "models = pd.DataFrame({\n",
    "    'Model': [\n",
    "        'Multiple Linear Regression','Polynomial Regression','Decision Tree',\n",
    "        'Random Forest', 'Support Vector Regression','Linear Support Vector Regression','Ridge','Lasso','XGBoost','Neural Network'\n",
    "    ],\n",
    "    'Training R2 Score': [\n",
    "        r2_lr_train,r2_poly_train,r2_tree_train,r2_frst_train,r2_svr_train,r2_svr_lr_train,r2_ridge_train,r2_lasso_train,r2_xgb_train,r2_nn_train\n",
    "    ],\n",
    "    'Training Mean Square Error': [\n",
    "       mse_lr_train,mse_poly_train,mse_tree_train,mse_frst_train,mse_svr_train,mse_svr_lr_train,mse_ridge_train,mse_lasso_train,mse_xgb_train,mse_nn_train\n",
    "    ],\n",
    "    'Testing R2 Score': [\n",
    "        r2_lr_test,r2_poly_test,r2_tree_test,r2_frst_test,r2_svr_test,r2_svr_lr_test,r2_ridge_test,r2_lasso_test,r2_xgb_test,r2_nn_test\n",
    "    ],\n",
    "    'Testing Mean Square Error': [\n",
    "       mse_lr_test,mse_poly_test,mse_tree_test,mse_frst_test,mse_svr_test,mse_svr_lr_test,mse_ridge_test,mse_lasso_test,mse_xgb_test,mse_nn_test\n",
    "    ]\n",
    "})"
   ]
  },
  {
   "cell_type": "code",
   "execution_count": null,
   "metadata": {
    "execution": {
     "iopub.execute_input": "2024-03-10T14:32:56.351303Z",
     "iopub.status.busy": "2024-03-10T14:32:56.350826Z",
     "iopub.status.idle": "2024-03-10T14:32:56.452716Z",
     "shell.execute_reply": "2024-03-10T14:32:56.451172Z",
     "shell.execute_reply.started": "2024-03-10T14:32:56.351272Z"
    }
   },
   "outputs": [],
   "source": [
    "models.sort_values(by='Testing R2 Score', ascending=False).style.background_gradient(\n",
    "        cmap='Blues')"
   ]
  },
  {
   "cell_type": "markdown",
   "metadata": {},
   "source": [
    "# If you like it Upvote it "
   ]
  }
 ],
 "metadata": {
  "kaggle": {
   "accelerator": "none",
   "dataSources": [
    {
     "databundleVersionId": 868283,
     "sourceId": 5407,
     "sourceType": "competition"
    }
   ],
   "dockerImageVersionId": 30646,
   "isGpuEnabled": false,
   "isInternetEnabled": true,
   "language": "python",
   "sourceType": "notebook"
  },
  "kernelspec": {
   "display_name": "Python 3",
   "language": "python",
   "name": "python3"
  },
  "language_info": {
   "codemirror_mode": {
    "name": "ipython",
    "version": 3
   },
   "file_extension": ".py",
   "mimetype": "text/x-python",
   "name": "python",
   "nbconvert_exporter": "python",
   "pygments_lexer": "ipython3",
   "version": "3.10.13"
  }
 },
 "nbformat": 4,
 "nbformat_minor": 4
}
