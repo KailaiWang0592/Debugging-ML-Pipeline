{
 "cells": [
  {
   "cell_type": "code",
   "execution_count": null,
   "metadata": {
    "_cell_guid": "b1076dfc-b9ad-4769-8c92-a6c4dae69d19",
    "_uuid": "8f2839f25d086af736a60e9eeb907d3b93b6e0e5",
    "execution": {
     "iopub.execute_input": "2024-01-17T01:41:02.921845Z",
     "iopub.status.busy": "2024-01-17T01:41:02.921279Z",
     "iopub.status.idle": "2024-01-17T01:41:03.020701Z",
     "shell.execute_reply": "2024-01-17T01:41:03.019276Z",
     "shell.execute_reply.started": "2024-01-17T01:41:02.921805Z"
    }
   },
   "outputs": [],
   "source": [
    "import numpy as np\n",
    "import pandas as pd\n",
    "import seaborn as sns\n",
    "import matplotlib.pyplot as plt\n",
    "from sklearn.ensemble import RandomForestClassifier\n",
    "from sklearn.preprocessing import LabelEncoder\n",
    "from sklearn.feature_selection import RFECV\n",
    "from sklearn.model_selection import StratifiedKFold\n",
    "import warnings\n",
    "import os\n",
    "\n",
    "warnings.filterwarnings(\"ignore\")\n",
    "\n",
    "df_train = pd.read_csv('/share/dutta/eyao/dataset/kaggle/spaceship-titanic/train.csv')\n",
    "df_test = pd.read_csv('/share/dutta/eyao/dataset/kaggle/spaceship-titanic/test.csv')\n",
    "\n",
    "data = pd.concat([df_train, df_test], axis = 0)\n",
    "data.reset_index(drop = True, inplace = True)\n",
    "data.head()"
   ]
  },
  {
   "cell_type": "markdown",
   "metadata": {},
   "source": [
    "# **Data Exploration**"
   ]
  },
  {
   "cell_type": "code",
   "execution_count": null,
   "metadata": {
    "execution": {
     "iopub.execute_input": "2024-01-16T03:29:20.454509Z",
     "iopub.status.busy": "2024-01-16T03:29:20.454216Z",
     "iopub.status.idle": "2024-01-16T03:29:20.47394Z",
     "shell.execute_reply": "2024-01-16T03:29:20.473056Z",
     "shell.execute_reply.started": "2024-01-16T03:29:20.454479Z"
    }
   },
   "outputs": [],
   "source": [
    "data.info()"
   ]
  },
  {
   "cell_type": "code",
   "execution_count": null,
   "metadata": {
    "execution": {
     "iopub.execute_input": "2024-01-16T03:29:20.475258Z",
     "iopub.status.busy": "2024-01-16T03:29:20.474949Z",
     "iopub.status.idle": "2024-01-16T03:29:20.492144Z",
     "shell.execute_reply": "2024-01-16T03:29:20.491239Z",
     "shell.execute_reply.started": "2024-01-16T03:29:20.475233Z"
    }
   },
   "outputs": [],
   "source": [
    "data.isnull().sum()"
   ]
  },
  {
   "cell_type": "code",
   "execution_count": null,
   "metadata": {
    "execution": {
     "iopub.execute_input": "2024-01-16T03:29:20.493389Z",
     "iopub.status.busy": "2024-01-16T03:29:20.493134Z",
     "iopub.status.idle": "2024-01-16T03:29:20.72831Z",
     "shell.execute_reply": "2024-01-16T03:29:20.727443Z",
     "shell.execute_reply.started": "2024-01-16T03:29:20.493366Z"
    }
   },
   "outputs": [],
   "source": [
    "display(data.groupby('HomePlanet')['Transported'].mean())\n",
    "sns.countplot(data, x = 'HomePlanet', hue = 'Transported')"
   ]
  },
  {
   "cell_type": "code",
   "execution_count": null,
   "metadata": {
    "execution": {
     "iopub.execute_input": "2024-01-16T03:29:20.731288Z",
     "iopub.status.busy": "2024-01-16T03:29:20.730995Z",
     "iopub.status.idle": "2024-01-16T03:29:20.980148Z",
     "shell.execute_reply": "2024-01-16T03:29:20.979189Z",
     "shell.execute_reply.started": "2024-01-16T03:29:20.731262Z"
    }
   },
   "outputs": [],
   "source": [
    "display(data.groupby('CryoSleep')['Transported'].mean())\n",
    "sns.countplot(data, x = 'CryoSleep', hue = 'Transported')"
   ]
  },
  {
   "cell_type": "markdown",
   "metadata": {},
   "source": [
    "* We can see passenger who take CryoSleep has significantly higher chance to get transported"
   ]
  },
  {
   "cell_type": "code",
   "execution_count": null,
   "metadata": {
    "execution": {
     "iopub.execute_input": "2024-01-16T03:29:20.981494Z",
     "iopub.status.busy": "2024-01-16T03:29:20.981236Z",
     "iopub.status.idle": "2024-01-16T03:29:21.286431Z",
     "shell.execute_reply": "2024-01-16T03:29:21.285546Z",
     "shell.execute_reply.started": "2024-01-16T03:29:20.981464Z"
    }
   },
   "outputs": [],
   "source": [
    "display(data.groupby('Destination')['Transported'].mean())\n",
    "sns.countplot(data, x = 'Destination', hue = 'Transported')"
   ]
  },
  {
   "cell_type": "code",
   "execution_count": null,
   "metadata": {
    "execution": {
     "iopub.execute_input": "2024-01-16T03:29:21.28785Z",
     "iopub.status.busy": "2024-01-16T03:29:21.287594Z",
     "iopub.status.idle": "2024-01-16T03:29:21.605274Z",
     "shell.execute_reply": "2024-01-16T03:29:21.604332Z",
     "shell.execute_reply.started": "2024-01-16T03:29:21.287827Z"
    }
   },
   "outputs": [],
   "source": [
    "display(data.groupby('VIP')['Transported'].mean())\n",
    "sns.countplot(data, x = 'VIP', hue = 'Transported')"
   ]
  },
  {
   "cell_type": "code",
   "execution_count": null,
   "metadata": {
    "execution": {
     "iopub.execute_input": "2024-01-16T03:29:21.606807Z",
     "iopub.status.busy": "2024-01-16T03:29:21.606502Z",
     "iopub.status.idle": "2024-01-16T03:29:21.833834Z",
     "shell.execute_reply": "2024-01-16T03:29:21.83294Z",
     "shell.execute_reply.started": "2024-01-16T03:29:21.606782Z"
    }
   },
   "outputs": [],
   "source": [
    "display(data.groupby('HomePlanet')['Transported'].mean())\n",
    "sns.countplot(data, x = 'HomePlanet', hue = 'Transported')"
   ]
  },
  {
   "cell_type": "markdown",
   "metadata": {},
   "source": [
    "# **Feature Engineering - Base Model**"
   ]
  },
  {
   "cell_type": "code",
   "execution_count": null,
   "metadata": {
    "execution": {
     "iopub.execute_input": "2024-01-16T03:29:21.835296Z",
     "iopub.status.busy": "2024-01-16T03:29:21.835001Z",
     "iopub.status.idle": "2024-01-16T03:29:21.856618Z",
     "shell.execute_reply": "2024-01-16T03:29:21.855804Z",
     "shell.execute_reply.started": "2024-01-16T03:29:21.83527Z"
    }
   },
   "outputs": [],
   "source": [
    "data['CryoSleep'].fillna(False, inplace = True)\n",
    "\n",
    "data['CryoSleep'] = data['CryoSleep'].map(lambda x: 1 if x else 0)\n",
    "data['Transported'] = data['Transported'].map({True: 1, False: 0})\n",
    "\n",
    "base_train = data[data['Transported'].notnull()]"
   ]
  },
  {
   "cell_type": "markdown",
   "metadata": {},
   "source": [
    "# **Model Training - Base Model**"
   ]
  },
  {
   "cell_type": "code",
   "execution_count": null,
   "metadata": {
    "execution": {
     "iopub.execute_input": "2024-01-16T03:29:21.858197Z",
     "iopub.status.busy": "2024-01-16T03:29:21.857834Z",
     "iopub.status.idle": "2024-01-16T03:29:22.835007Z",
     "shell.execute_reply": "2024-01-16T03:29:22.834015Z",
     "shell.execute_reply.started": "2024-01-16T03:29:21.858165Z"
    }
   },
   "outputs": [],
   "source": [
    "base_model = RandomForestClassifier(n_estimators = 250, random_state = 0, min_samples_split = 20, oob_score = True)\n",
    "base_model.fit(base_train[['CryoSleep']], base_train['Transported'])\n",
    "print(f\"oob score: {base_model.oob_score_}\")"
   ]
  },
  {
   "cell_type": "code",
   "execution_count": null,
   "metadata": {
    "execution": {
     "iopub.execute_input": "2024-01-16T03:29:22.837671Z",
     "iopub.status.busy": "2024-01-16T03:29:22.836068Z",
     "iopub.status.idle": "2024-01-16T03:29:22.923786Z",
     "shell.execute_reply": "2024-01-16T03:29:22.922928Z",
     "shell.execute_reply.started": "2024-01-16T03:29:22.837644Z"
    }
   },
   "outputs": [],
   "source": [
    "base_test = data[data['Transported'].isnull()]\n",
    "base_output = base_model.predict(base_test[['CryoSleep']]).astype(bool)\n",
    "# base_output = base_output.map({0: False, 1: True})\n",
    "submission = pd.DataFrame({'PassengerId': df_test['PassengerId'], 'Transported': base_output})\n",
    "submission.to_csv('Base_Submission.csv', index = False)"
   ]
  },
  {
   "cell_type": "markdown",
   "metadata": {},
   "source": [
    "* Submitted and get a score of 72.5%\n",
    "* If I add any feature and get a score less then this, that means the feature is redundant/contains noise"
   ]
  },
  {
   "cell_type": "markdown",
   "metadata": {},
   "source": [
    "***"
   ]
  },
  {
   "cell_type": "markdown",
   "metadata": {},
   "source": [
    "# **Data Visualizatin - Model V1**"
   ]
  },
  {
   "cell_type": "code",
   "execution_count": null,
   "metadata": {
    "execution": {
     "iopub.execute_input": "2024-01-17T01:41:07.347328Z",
     "iopub.status.busy": "2024-01-17T01:41:07.34691Z",
     "iopub.status.idle": "2024-01-17T01:41:07.828986Z",
     "shell.execute_reply": "2024-01-17T01:41:07.827461Z",
     "shell.execute_reply.started": "2024-01-17T01:41:07.347292Z"
    }
   },
   "outputs": [],
   "source": [
    "data['Age'].fillna(-20, inplace = True)\n",
    "data['Age'] = data['Age'].astype(int)\n",
    "\n",
    "mask_transported = data.loc[(data['Transported'] == 1), 'Age']\n",
    "mask_not_transported = data.loc[(data['Transported'] == 0), 'Age']\n",
    "fig, ax = plt.subplots(figsize = (13, 5))\n",
    "ax = sns.histplot(mask_transported, kde = False, label = 'transported', bins = 10)\n",
    "ax = sns.histplot(mask_not_transported, kde = False, label = 'not_transported', bins = 10)\n",
    "ax.legend()\n"
   ]
  },
  {
   "cell_type": "markdown",
   "metadata": {},
   "source": [
    "* Age that has null value has approximately 50% of transported rate\n",
    "* Age under 10 has higher chance of being transported\n",
    "* Age over 10 has overally equal rate of being transported"
   ]
  },
  {
   "cell_type": "markdown",
   "metadata": {},
   "source": [
    "# **Feature Engineering - Model V1**"
   ]
  },
  {
   "cell_type": "code",
   "execution_count": null,
   "metadata": {
    "execution": {
     "iopub.execute_input": "2024-01-17T01:41:08.710011Z",
     "iopub.status.busy": "2024-01-17T01:41:08.709481Z",
     "iopub.status.idle": "2024-01-17T01:41:08.723706Z",
     "shell.execute_reply": "2024-01-17T01:41:08.722648Z",
     "shell.execute_reply.started": "2024-01-17T01:41:08.709973Z"
    }
   },
   "outputs": [],
   "source": [
    "data.loc[(data['Age'] == -20), 'Age_code'] = 1\n",
    "data.loc[(data['Age'] <= 10) & (data['Age'] >= 0), 'Age_code'] = 2\n",
    "data.loc[(data['Age'] > 10), 'Age_code'] = 0"
   ]
  },
  {
   "cell_type": "code",
   "execution_count": null,
   "metadata": {
    "execution": {
     "iopub.execute_input": "2024-01-17T01:46:29.424338Z",
     "iopub.status.busy": "2024-01-17T01:46:29.423825Z",
     "iopub.status.idle": "2024-01-17T01:46:29.439478Z",
     "shell.execute_reply": "2024-01-17T01:46:29.438324Z",
     "shell.execute_reply.started": "2024-01-17T01:46:29.424303Z"
    }
   },
   "outputs": [],
   "source": [
    "display(data.groupby('Age_code')['Transported'].mean())"
   ]
  },
  {
   "cell_type": "markdown",
   "metadata": {},
   "source": [
    "# **Model Training - Model V1**"
   ]
  },
  {
   "cell_type": "code",
   "execution_count": null,
   "metadata": {
    "execution": {
     "iopub.execute_input": "2024-01-16T03:29:23.273242Z",
     "iopub.status.busy": "2024-01-16T03:29:23.272902Z",
     "iopub.status.idle": "2024-01-16T03:29:24.315191Z",
     "shell.execute_reply": "2024-01-16T03:29:24.314195Z",
     "shell.execute_reply.started": "2024-01-16T03:29:23.27321Z"
    }
   },
   "outputs": [],
   "source": [
    "V1_train = data[data['Transported'].notnull()]\n",
    "model_V1 = RandomForestClassifier(n_estimators = 250, random_state = 0, min_samples_split = 20, oob_score = True)\n",
    "model_V1.fit(V1_train[['CryoSleep', 'Age_code']], V1_train['Transported'])\n",
    "print(f\"oob score: {model_V1.oob_score_}\")"
   ]
  },
  {
   "cell_type": "code",
   "execution_count": null,
   "metadata": {
    "execution": {
     "iopub.execute_input": "2024-01-16T03:29:24.316432Z",
     "iopub.status.busy": "2024-01-16T03:29:24.316158Z",
     "iopub.status.idle": "2024-01-16T03:29:24.409318Z",
     "shell.execute_reply": "2024-01-16T03:29:24.40833Z",
     "shell.execute_reply.started": "2024-01-16T03:29:24.316407Z"
    }
   },
   "outputs": [],
   "source": [
    "V1_test = data[data['Transported'].isnull()]\n",
    "V1_output = model_V1.predict(V1_test[['CryoSleep', 'Age_code']]).astype(bool)\n",
    "submission = pd.DataFrame({'PassengerId': df_test['PassengerId'], 'Transported': V1_output})\n",
    "submission.to_csv('V1_Submission.csv', index = False)"
   ]
  },
  {
   "cell_type": "markdown",
   "metadata": {},
   "source": [
    "* Accuracy has increased by 2% which means this Age_code feature is practical"
   ]
  },
  {
   "cell_type": "markdown",
   "metadata": {},
   "source": [
    "***"
   ]
  },
  {
   "cell_type": "markdown",
   "metadata": {},
   "source": [
    "# **Feature Engineering - Model V2**"
   ]
  },
  {
   "cell_type": "code",
   "execution_count": null,
   "metadata": {
    "execution": {
     "iopub.execute_input": "2024-01-16T03:29:24.410926Z",
     "iopub.status.busy": "2024-01-16T03:29:24.410609Z",
     "iopub.status.idle": "2024-01-16T03:29:24.423148Z",
     "shell.execute_reply": "2024-01-16T03:29:24.422253Z",
     "shell.execute_reply.started": "2024-01-16T03:29:24.41088Z"
    }
   },
   "outputs": [],
   "source": [
    "data['RoomService'].fillna(data['RoomService'].median(), inplace = True)\n",
    "data['FoodCourt'].fillna(data['FoodCourt'].median(), inplace = True)\n",
    "data['ShoppingMall'].fillna(data['ShoppingMall'].median(), inplace = True)\n",
    "data['Spa'].fillna(data['Spa'].median(), inplace = True)\n",
    "data['VRDeck'].fillna(data['VRDeck'].median(), inplace = True)\n",
    "\n",
    "data['Total_Cost'] = data['RoomService'] + data['FoodCourt'] + data['ShoppingMall'] + data['Spa'] + data['VRDeck']"
   ]
  },
  {
   "cell_type": "markdown",
   "metadata": {},
   "source": [
    "# **Model Training - Model V2**"
   ]
  },
  {
   "cell_type": "code",
   "execution_count": null,
   "metadata": {
    "execution": {
     "iopub.execute_input": "2024-01-16T03:29:24.424478Z",
     "iopub.status.busy": "2024-01-16T03:29:24.424234Z",
     "iopub.status.idle": "2024-01-16T03:29:26.721905Z",
     "shell.execute_reply": "2024-01-16T03:29:26.720937Z",
     "shell.execute_reply.started": "2024-01-16T03:29:24.424456Z"
    }
   },
   "outputs": [],
   "source": [
    "V2_train = data[data['Transported'].notnull()]\n",
    "model_V2 = RandomForestClassifier(n_estimators = 250, random_state = 0, min_samples_split = 20, oob_score = True)\n",
    "model_V2.fit(V2_train[['CryoSleep', 'Age_code', 'Total_Cost', 'RoomService', 'FoodCourt', 'ShoppingMall', 'Spa', 'VRDeck']], V2_train['Transported'])\n",
    "print(f\"oob score: {model_V2.oob_score_}\")"
   ]
  },
  {
   "cell_type": "code",
   "execution_count": null,
   "metadata": {
    "execution": {
     "iopub.execute_input": "2024-01-16T03:29:26.723585Z",
     "iopub.status.busy": "2024-01-16T03:29:26.723224Z",
     "iopub.status.idle": "2024-01-16T03:29:26.883903Z",
     "shell.execute_reply": "2024-01-16T03:29:26.883129Z",
     "shell.execute_reply.started": "2024-01-16T03:29:26.723553Z"
    }
   },
   "outputs": [],
   "source": [
    "V2_test = data[data['Transported'].isnull()]\n",
    "V2_output = model_V2.predict(V2_test[['CryoSleep', 'Age_code', 'Total_Cost', 'RoomService', 'FoodCourt', 'ShoppingMall', 'Spa', 'VRDeck']]).astype(bool)\n",
    "submission = pd.DataFrame({'PassengerId': df_test['PassengerId'], 'Transported': V2_output})\n",
    "submission.to_csv('V2_Submission.csv', index = False)"
   ]
  },
  {
   "cell_type": "markdown",
   "metadata": {},
   "source": [
    "***"
   ]
  },
  {
   "cell_type": "markdown",
   "metadata": {},
   "source": [
    "# **Data Visualization - Model V3**"
   ]
  },
  {
   "cell_type": "code",
   "execution_count": null,
   "metadata": {
    "execution": {
     "iopub.execute_input": "2024-01-16T03:29:26.885269Z",
     "iopub.status.busy": "2024-01-16T03:29:26.88497Z",
     "iopub.status.idle": "2024-01-16T03:29:26.893335Z",
     "shell.execute_reply": "2024-01-16T03:29:26.892485Z",
     "shell.execute_reply.started": "2024-01-16T03:29:26.885245Z"
    }
   },
   "outputs": [],
   "source": [
    "data['Destination'].fillna('TRAPPIST-1e ', inplace = True)\n",
    "data['HomePlanet'].fillna('Earth ', inplace = True)"
   ]
  },
  {
   "cell_type": "code",
   "execution_count": null,
   "metadata": {
    "execution": {
     "iopub.execute_input": "2024-01-16T03:29:26.894751Z",
     "iopub.status.busy": "2024-01-16T03:29:26.894483Z",
     "iopub.status.idle": "2024-01-16T03:29:26.909981Z",
     "shell.execute_reply": "2024-01-16T03:29:26.909082Z",
     "shell.execute_reply.started": "2024-01-16T03:29:26.894727Z"
    }
   },
   "outputs": [],
   "source": [
    "data.groupby(['HomePlanet', 'Destination'])['Transported'].mean()"
   ]
  },
  {
   "cell_type": "markdown",
   "metadata": {},
   "source": [
    "# **Feature Engineering - Model V3**"
   ]
  },
  {
   "cell_type": "code",
   "execution_count": null,
   "metadata": {
    "execution": {
     "iopub.execute_input": "2024-01-16T03:29:26.911494Z",
     "iopub.status.busy": "2024-01-16T03:29:26.91123Z",
     "iopub.status.idle": "2024-01-16T03:29:26.924956Z",
     "shell.execute_reply": "2024-01-16T03:29:26.92408Z",
     "shell.execute_reply.started": "2024-01-16T03:29:26.911472Z"
    }
   },
   "outputs": [],
   "source": [
    "data['HomePlanet+Destination'] = data['HomePlanet'] + '_' + data['Destination']\n",
    "\n",
    "le = LabelEncoder()\n",
    "data['HomePlanet+Destination_code'] = le.fit_transform(data['HomePlanet+Destination'])"
   ]
  },
  {
   "cell_type": "markdown",
   "metadata": {},
   "source": [
    "# **Model Training - Model V3**"
   ]
  },
  {
   "cell_type": "code",
   "execution_count": null,
   "metadata": {
    "execution": {
     "iopub.execute_input": "2024-01-16T03:29:26.926305Z",
     "iopub.status.busy": "2024-01-16T03:29:26.926025Z",
     "iopub.status.idle": "2024-01-16T03:29:29.672108Z",
     "shell.execute_reply": "2024-01-16T03:29:29.671199Z",
     "shell.execute_reply.started": "2024-01-16T03:29:26.926281Z"
    }
   },
   "outputs": [],
   "source": [
    "V3_train = data[data['Transported'].notnull()]\n",
    "model_V3 = RandomForestClassifier(n_estimators = 250, random_state = 0, min_samples_split = 20, oob_score = True)\n",
    "model_V3.fit(V3_train[['CryoSleep', 'Age_code', 'Total_Cost', 'RoomService', 'FoodCourt', 'ShoppingMall', 'Spa', 'VRDeck', 'HomePlanet+Destination_code']], V3_train['Transported'])\n",
    "print(f\"oob score: {model_V3.oob_score_}\")"
   ]
  },
  {
   "cell_type": "code",
   "execution_count": null,
   "metadata": {
    "execution": {
     "iopub.execute_input": "2024-01-16T03:29:29.673581Z",
     "iopub.status.busy": "2024-01-16T03:29:29.673286Z",
     "iopub.status.idle": "2024-01-16T03:29:29.838187Z",
     "shell.execute_reply": "2024-01-16T03:29:29.83741Z",
     "shell.execute_reply.started": "2024-01-16T03:29:29.673556Z"
    }
   },
   "outputs": [],
   "source": [
    "V3_test = data[data['Transported'].isnull()]\n",
    "V3_output = model_V3.predict(V3_test[['CryoSleep', 'Age_code', 'Total_Cost', 'RoomService', 'FoodCourt', 'ShoppingMall', 'Spa', 'VRDeck', 'HomePlanet+Destination_code']]).astype(bool)\n",
    "submission = pd.DataFrame({'PassengerId': df_test['PassengerId'], 'Transported': V3_output})\n",
    "submission.to_csv('V3_Submission.csv', index = False)"
   ]
  },
  {
   "cell_type": "markdown",
   "metadata": {},
   "source": [
    "***"
   ]
  },
  {
   "cell_type": "markdown",
   "metadata": {},
   "source": [
    "# **Feature Engineering - Model V4**"
   ]
  },
  {
   "cell_type": "code",
   "execution_count": null,
   "metadata": {
    "execution": {
     "iopub.execute_input": "2024-01-16T03:29:29.839616Z",
     "iopub.status.busy": "2024-01-16T03:29:29.839274Z",
     "iopub.status.idle": "2024-01-16T03:29:29.867843Z",
     "shell.execute_reply": "2024-01-16T03:29:29.867122Z",
     "shell.execute_reply.started": "2024-01-16T03:29:29.839581Z"
    }
   },
   "outputs": [],
   "source": [
    "cabin = data['Cabin'].str.split('/', expand = True)\n",
    "data['Desk'], data['Num'], data['Side'] = cabin[0], cabin[1], cabin[2]"
   ]
  },
  {
   "cell_type": "code",
   "execution_count": null,
   "metadata": {
    "execution": {
     "iopub.execute_input": "2024-01-16T03:29:29.86908Z",
     "iopub.status.busy": "2024-01-16T03:29:29.868815Z",
     "iopub.status.idle": "2024-01-16T03:29:29.888254Z",
     "shell.execute_reply": "2024-01-16T03:29:29.887389Z",
     "shell.execute_reply.started": "2024-01-16T03:29:29.869057Z"
    }
   },
   "outputs": [],
   "source": [
    "data['Desk'].fillna('F', inplace = True)\n",
    "data['Side'].fillna('S', inplace = True)\n",
    "le = LabelEncoder()\n",
    "data['Desk'] = le.fit_transform(data['Desk'])\n",
    "data['Side'] = le.fit_transform(data['Side'])"
   ]
  },
  {
   "cell_type": "markdown",
   "metadata": {},
   "source": [
    "# **Model Training - Model V4**"
   ]
  },
  {
   "cell_type": "code",
   "execution_count": null,
   "metadata": {
    "execution": {
     "iopub.execute_input": "2024-01-16T15:34:56.704696Z",
     "iopub.status.busy": "2024-01-16T15:34:56.704305Z",
     "iopub.status.idle": "2024-01-16T15:34:59.30627Z",
     "shell.execute_reply": "2024-01-16T15:34:59.305311Z",
     "shell.execute_reply.started": "2024-01-16T15:34:56.704664Z"
    }
   },
   "outputs": [],
   "source": [
    "V4_train = data[data['Transported'].notnull()]\n",
    "model_V4 = RandomForestClassifier(n_estimators = 250, random_state = 0, min_samples_split = 20, oob_score = True)\n",
    "model_V4.fit(V4_train[['CryoSleep', 'Age_code', 'Total_Cost', 'RoomService', 'FoodCourt', 'ShoppingMall', 'Spa', 'VRDeck', 'HomePlanet+Destination_code', 'Desk', 'Side']], V4_train['Transported'])\n",
    "print(f\"oob score: {model_V4.oob_score_}\")"
   ]
  },
  {
   "cell_type": "code",
   "execution_count": null,
   "metadata": {
    "execution": {
     "iopub.execute_input": "2024-01-16T15:34:59.308617Z",
     "iopub.status.busy": "2024-01-16T15:34:59.307774Z",
     "iopub.status.idle": "2024-01-16T15:34:59.479626Z",
     "shell.execute_reply": "2024-01-16T15:34:59.478876Z",
     "shell.execute_reply.started": "2024-01-16T15:34:59.308585Z"
    }
   },
   "outputs": [],
   "source": [
    "V4_test = data[data['Transported'].isnull()]\n",
    "V4_output = model_V4.predict(V4_test[['CryoSleep', 'Age_code', 'Total_Cost', 'RoomService', 'FoodCourt', 'ShoppingMall', 'Spa', 'VRDeck', 'HomePlanet+Destination_code', 'Desk', 'Side']]).astype(bool)\n",
    "submission = pd.DataFrame({'PassengerId': df_test['PassengerId'], 'Transported': V4_output})\n",
    "submission.to_csv('V4_Submission.csv', index = False)"
   ]
  },
  {
   "cell_type": "markdown",
   "metadata": {},
   "source": [
    "***"
   ]
  },
  {
   "cell_type": "code",
   "execution_count": null,
   "metadata": {
    "execution": {
     "iopub.execute_input": "2024-01-17T04:53:09.008221Z",
     "iopub.status.busy": "2024-01-17T04:53:09.00783Z",
     "iopub.status.idle": "2024-01-17T04:53:10.935173Z",
     "shell.execute_reply": "2024-01-17T04:53:10.934037Z",
     "shell.execute_reply.started": "2024-01-17T04:53:09.008189Z"
    }
   },
   "outputs": [],
   "source": [
    "import numpy as np\n",
    "import pandas as pd\n",
    "import seaborn as sns\n",
    "import matplotlib.pyplot as plt\n",
    "from sklearn.ensemble import RandomForestClassifier\n",
    "from sklearn.preprocessing import LabelEncoder\n",
    "from sklearn.feature_selection import RFECV\n",
    "from sklearn.model_selection import StratifiedKFold\n",
    "import warnings\n",
    "import os\n",
    "\n",
    "warnings.filterwarnings(\"ignore\")\n",
    "\n",
    "df_train = pd.read_csv('/share/dutta/eyao/dataset/kaggle/spaceship-titanic/train.csv')\n",
    "df_test = pd.read_csv('/share/dutta/eyao/dataset/kaggle/spaceship-titanic/test.csv')\n",
    "\n",
    "data = pd.concat([df_train, df_test], axis = 0)\n",
    "data.reset_index(drop = True, inplace = True)\n",
    "\n",
    "data['CryoSleep'].fillna(False, inplace = True)\n",
    "\n",
    "data['CryoSleep'] = data['CryoSleep'].map(lambda x: 1 if x else 0)\n",
    "data['Transported'] = data['Transported'].map({True: 1, False: 0})\n",
    "data['Age'].fillna(-20, inplace = True)\n",
    "data['Age'] = data['Age'].astype(int)\n",
    "data.loc[(data['Age'] == -20), 'Age_code'] = 0\n",
    "data.loc[(data['Age'] <= 10) & (data['Age'] >= 0), 'Age_code'] = 1\n",
    "data.loc[(data['Age'] > 10), 'Age_code'] = 2\n",
    "data['RoomService'].fillna(data['RoomService'].median(), inplace = True)\n",
    "data['FoodCourt'].fillna(data['FoodCourt'].median(), inplace = True)\n",
    "data['ShoppingMall'].fillna(data['ShoppingMall'].median(), inplace = True)\n",
    "data['Spa'].fillna(data['Spa'].median(), inplace = True)\n",
    "data['VRDeck'].fillna(data['VRDeck'].median(), inplace = True)\n",
    "data['Surname'] = data['Name'].dropna().str.split(' ', expand = True)[1]\n",
    "data['Total_Cost'] = data['RoomService'] + data['FoodCourt'] + data['ShoppingMall'] + data['Spa'] + data['VRDeck']\n",
    "data['Destination'].fillna('TRAPPIST-1e ', inplace = True)\n",
    "data['HomePlanet'].fillna('Earth ', inplace = True)\n",
    "data['HomePlanet+Destination'] = data['HomePlanet'] + '_' + data['Destination']\n",
    "data['Zero_Cost'] = np.where(data['Total_Cost'] == 0, 1, 0)\n",
    "\n",
    "le = LabelEncoder()\n",
    "data['HomePlanet+Destination_code'] = le.fit_transform(data['HomePlanet+Destination'])\n",
    "\n",
    "cabin = data['Cabin'].str.split('/', expand = True)\n",
    "data['Desk'], data['Num'], data['Side'] = cabin[0], cabin[1], cabin[2]\n",
    "\n",
    "data['Desk'].fillna('F', inplace = True)\n",
    "data['Side'].fillna('S', inplace = True)\n",
    "le = LabelEncoder()\n",
    "data['Desk'] = le.fit_transform(data['Desk'])\n",
    "data['Side'] = le.fit_transform(data['Side'])\n",
    "\n",
    "data.head()"
   ]
  },
  {
   "cell_type": "code",
   "execution_count": null,
   "metadata": {
    "execution": {
     "iopub.execute_input": "2024-01-17T04:53:40.949315Z",
     "iopub.status.busy": "2024-01-17T04:53:40.948888Z",
     "iopub.status.idle": "2024-01-17T04:53:55.433655Z",
     "shell.execute_reply": "2024-01-17T04:53:55.432475Z",
     "shell.execute_reply.started": "2024-01-17T04:53:40.949282Z"
    }
   },
   "outputs": [],
   "source": [
    "data[['Group_Num', 'Ident']] = data['PassengerId'].str.split('_', expand = True).astype(int)\n",
    "data['Group_Size'] = data['Group_Num'].apply(lambda x: data['Group_Num'].value_counts()[x])\n",
    "data['Solo'] = np.where(data['Group_Size'] == 1, 1, 0)"
   ]
  },
  {
   "cell_type": "code",
   "execution_count": null,
   "metadata": {
    "execution": {
     "iopub.execute_input": "2024-01-17T04:53:55.43615Z",
     "iopub.status.busy": "2024-01-17T04:53:55.435782Z",
     "iopub.status.idle": "2024-01-17T04:53:55.460359Z",
     "shell.execute_reply": "2024-01-17T04:53:55.458802Z",
     "shell.execute_reply.started": "2024-01-17T04:53:55.436118Z"
    }
   },
   "outputs": [],
   "source": [
    "data['Num'].fillna('9999', inplace = True)\n",
    "data['Num'] = data['Num'].astype(int)\n",
    "data['Num'] = data['Num'].map(lambda x: np.nan if x == 9999 else x)"
   ]
  },
  {
   "cell_type": "code",
   "execution_count": null,
   "metadata": {
    "execution": {
     "iopub.execute_input": "2024-01-17T04:53:55.462646Z",
     "iopub.status.busy": "2024-01-17T04:53:55.462102Z",
     "iopub.status.idle": "2024-01-17T04:53:55.477906Z",
     "shell.execute_reply": "2024-01-17T04:53:55.476543Z",
     "shell.execute_reply.started": "2024-01-17T04:53:55.462583Z"
    }
   },
   "outputs": [],
   "source": [
    "data['Num'].value_counts().sort_values(ascending = True)"
   ]
  },
  {
   "cell_type": "code",
   "execution_count": null,
   "metadata": {
    "execution": {
     "iopub.execute_input": "2024-01-17T04:53:55.482313Z",
     "iopub.status.busy": "2024-01-17T04:53:55.481471Z",
     "iopub.status.idle": "2024-01-17T04:53:56.54226Z",
     "shell.execute_reply": "2024-01-17T04:53:56.541172Z",
     "shell.execute_reply.started": "2024-01-17T04:53:55.482268Z"
    }
   },
   "outputs": [],
   "source": [
    "fig, ax = plt.subplots(figsize = (10, 12))\n",
    "ax = sns.histplot(data, x = 'Num', hue = 'Transported', binwidth = 20)\n",
    "ax.vlines(300, ymin=0, ymax=50, color='black')\n",
    "ax.vlines(600, ymin=0, ymax=50, color='black')\n",
    "ax.vlines(900, ymin=0, ymax=50, color='black')\n",
    "ax.vlines(1200, ymin=0, ymax=50, color='black')\n",
    "ax.vlines(1500, ymin=0, ymax=50, color='black')\n",
    "ax.vlines(1800, ymin=0, ymax=50, color='black')\n",
    "ax.set_title('Cabin number')\n",
    "ax.set_xlim([0,2000])"
   ]
  },
  {
   "cell_type": "code",
   "execution_count": null,
   "metadata": {
    "execution": {
     "iopub.execute_input": "2024-01-17T04:53:56.545016Z",
     "iopub.status.busy": "2024-01-17T04:53:56.544139Z",
     "iopub.status.idle": "2024-01-17T04:53:56.565072Z",
     "shell.execute_reply": "2024-01-17T04:53:56.56352Z",
     "shell.execute_reply.started": "2024-01-17T04:53:56.544973Z"
    }
   },
   "outputs": [],
   "source": [
    "data['Num_code_1'] = (data['Num']<300).astype(int)   # one-hot encoding\n",
    "data['Num_code_2'] =((data['Num']>=300) & (data['Num']<600)).astype(int)\n",
    "data['Num_code_3'] =((data['Num']>=600) & (data['Num']<900)).astype(int)\n",
    "data['Num_code_4'] =((data['Num']>=900) & (data['Num']<1200)).astype(int)\n",
    "data['Num_code_5'] =((data['Num']>=1200) & (data['Num']<1500)).astype(int)\n",
    "data['Num_code_6'] =((data['Num']>=1500) & (data['Num']<1800)).astype(int)\n",
    "data['Num_code_7'] =(data['Num']>=1800).astype(int)\n",
    "data.loc[data['Num'].isnull(), 'Num_code_1'] = 1"
   ]
  },
  {
   "cell_type": "code",
   "execution_count": null,
   "metadata": {
    "execution": {
     "iopub.execute_input": "2024-01-17T04:53:56.567798Z",
     "iopub.status.busy": "2024-01-17T04:53:56.567344Z",
     "iopub.status.idle": "2024-01-17T04:53:59.752081Z",
     "shell.execute_reply": "2024-01-17T04:53:59.750964Z",
     "shell.execute_reply.started": "2024-01-17T04:53:56.567754Z"
    }
   },
   "outputs": [],
   "source": [
    "V5_train = data[data['Transported'].notnull()]\n",
    "model_V5 = RandomForestClassifier(n_estimators = 250, random_state = 0, min_samples_split = 20, oob_score = True)\n",
    "model_V5.fit(V5_train[['CryoSleep', 'Age_code', 'Total_Cost', 'RoomService', 'FoodCourt', 'ShoppingMall', 'Spa', 'VRDeck', 'HomePlanet+Destination_code', 'Desk', 'Side', 'Num_code_1', 'Num_code_2', 'Num_code_3','Num_code_4','Num_code_5','Num_code_6','Num_code_7']], V5_train['Transported'])\n",
    "print(f\"oob score: {model_V5.oob_score_}\")"
   ]
  },
  {
   "cell_type": "code",
   "execution_count": null,
   "metadata": {
    "execution": {
     "iopub.execute_input": "2024-01-17T04:54:25.257961Z",
     "iopub.status.busy": "2024-01-17T04:54:25.257479Z",
     "iopub.status.idle": "2024-01-17T04:54:25.4828Z",
     "shell.execute_reply": "2024-01-17T04:54:25.481509Z",
     "shell.execute_reply.started": "2024-01-17T04:54:25.257911Z"
    }
   },
   "outputs": [],
   "source": [
    "V5_test = data[data['Transported'].isnull()]\n",
    "V5_output = model_V5.predict(V5_test[['CryoSleep', 'Age_code', 'Total_Cost', 'RoomService', 'FoodCourt', 'ShoppingMall', 'Spa', 'VRDeck', 'HomePlanet+Destination_code', 'Desk', 'Side', 'Num_code_1', 'Num_code_2', 'Num_code_3','Num_code_4','Num_code_5','Num_code_6','Num_code_7']]).astype(bool)\n",
    "submission = pd.DataFrame({'PassengerId': df_test['PassengerId'], 'Transported': V5_output})\n",
    "submission.to_csv('V5_Submission.csv', index = False)"
   ]
  },
  {
   "cell_type": "code",
   "execution_count": null,
   "metadata": {},
   "outputs": [],
   "source": []
  }
 ],
 "metadata": {
  "kaggle": {
   "accelerator": "none",
   "dataSources": [
    {
     "databundleVersionId": 3220602,
     "sourceId": 34377,
     "sourceType": "competition"
    }
   ],
   "dockerImageVersionId": 30635,
   "isGpuEnabled": false,
   "isInternetEnabled": true,
   "language": "python",
   "sourceType": "notebook"
  },
  "kernelspec": {
   "display_name": "Python 3",
   "language": "python",
   "name": "python3"
  },
  "language_info": {
   "codemirror_mode": {
    "name": "ipython",
    "version": 3
   },
   "file_extension": ".py",
   "mimetype": "text/x-python",
   "name": "python",
   "nbconvert_exporter": "python",
   "pygments_lexer": "ipython3",
   "version": "3.10.12"
  }
 },
 "nbformat": 4,
 "nbformat_minor": 4
}
