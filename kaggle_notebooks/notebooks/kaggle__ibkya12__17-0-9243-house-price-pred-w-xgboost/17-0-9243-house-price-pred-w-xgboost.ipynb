{
 "cells": [
  {
   "cell_type": "code",
   "execution_count": null,
   "metadata": {
    "execution": {
     "iopub.execute_input": "2024-06-16T12:03:31.153423Z",
     "iopub.status.busy": "2024-06-16T12:03:31.153007Z",
     "iopub.status.idle": "2024-06-16T12:03:34.700944Z",
     "shell.execute_reply": "2024-06-16T12:03:34.6997Z",
     "shell.execute_reply.started": "2024-06-16T12:03:31.153388Z"
    }
   },
   "outputs": [],
   "source": [
    "from sklearn.model_selection import train_test_split, GridSearchCV, cross_val_score\n",
    "from sklearn.preprocessing import StandardScaler, OneHotEncoder, LabelEncoder\n",
    "from sklearn.impute import KNNImputer\n",
    "from sklearn.linear_model import LinearRegression, Ridge, Lasso, ElasticNet\n",
    "from catboost import CatBoostRegressor\n",
    "from sklearn.neighbors import KNeighborsRegressor\n",
    "from sklearn.ensemble import RandomForestRegressor, GradientBoostingRegressor\n",
    "from sklearn.metrics import mean_squared_error, r2_score\n",
    "import matplotlib.pyplot as plt\n",
    "import pandas as pd\n",
    "import numpy as np\n",
    "import seaborn as sns\n",
    "import warnings\n",
    "from sklearn.exceptions import ConvergenceWarning\n",
    "warnings.filterwarnings(action='ignore', category=ConvergenceWarning)"
   ]
  },
  {
   "cell_type": "code",
   "execution_count": null,
   "metadata": {
    "execution": {
     "iopub.execute_input": "2024-06-16T12:04:53.499559Z",
     "iopub.status.busy": "2024-06-16T12:04:53.499058Z",
     "iopub.status.idle": "2024-06-16T12:04:53.565953Z",
     "shell.execute_reply": "2024-06-16T12:04:53.56466Z",
     "shell.execute_reply.started": "2024-06-16T12:04:53.499524Z"
    }
   },
   "outputs": [],
   "source": [
    "def data_read():\n",
    "    train = pd.read_csv('/share/dutta/eyao/dataset/kaggle/house-prices-advanced-regression-techniques/train.csv') #Read Train Data\n",
    "    test = pd.read_csv('/share/dutta/eyao/dataset/kaggle/house-prices-advanced-regression-techniques/test.csv') #Read Test Data\n",
    "    subsample = pd.read_csv('/share/dutta/eyao/dataset/kaggle/house-prices-advanced-regression-techniques/sample_submission.csv') #Read Sample Submission Data\n",
    "    return train, test, subsample\n",
    "\n",
    "train, test, subsmaple = data_read()"
   ]
  },
  {
   "cell_type": "code",
   "execution_count": null,
   "metadata": {
    "execution": {
     "iopub.execute_input": "2024-06-16T12:04:56.972371Z",
     "iopub.status.busy": "2024-06-16T12:04:56.97193Z",
     "iopub.status.idle": "2024-06-16T12:04:57.000223Z",
     "shell.execute_reply": "2024-06-16T12:04:56.999122Z",
     "shell.execute_reply.started": "2024-06-16T12:04:56.972337Z"
    }
   },
   "outputs": [],
   "source": [
    "train.head(3) # Let's see train data with head fu"
   ]
  },
  {
   "cell_type": "code",
   "execution_count": null,
   "metadata": {
    "execution": {
     "iopub.execute_input": "2024-06-16T12:05:04.670096Z",
     "iopub.status.busy": "2024-06-16T12:05:04.669605Z",
     "iopub.status.idle": "2024-06-16T12:05:04.699931Z",
     "shell.execute_reply": "2024-06-16T12:05:04.698627Z",
     "shell.execute_reply.started": "2024-06-16T12:05:04.670057Z"
    }
   },
   "outputs": [],
   "source": [
    "test.head(3) # Let's see test data with head funciton"
   ]
  },
  {
   "cell_type": "code",
   "execution_count": null,
   "metadata": {
    "execution": {
     "iopub.execute_input": "2024-06-16T12:05:36.026126Z",
     "iopub.status.busy": "2024-06-16T12:05:36.025707Z",
     "iopub.status.idle": "2024-06-16T12:05:36.587038Z",
     "shell.execute_reply": "2024-06-16T12:05:36.585984Z",
     "shell.execute_reply.started": "2024-06-16T12:05:36.026093Z"
    }
   },
   "outputs": [],
   "source": [
    "def sale_plot():\n",
    "    plt.figure(figsize=(18, 6))    # Create figure to analysis graphs.                                                                 \n",
    "\n",
    "    sns.histplot(train['SalePrice'], bins=100) # Creating Histogram Plot for see crosses in dataset.                                                     \n",
    "    plt.xlabel('Selling price ($)', fontsize=14)                                                   \n",
    "    plt.ylabel('Frequency', fontsize=14)                                                           \n",
    "    plt.title('Saleprice Rate', fontdict={'fontsize': 11, 'fontweight': 'bold'})                  \n",
    "\n",
    "    plt.show();                                                                                     \n",
    "\n",
    "    print(train['SalePrice'].describe()) \n",
    "    \n",
    "sale_plot()"
   ]
  },
  {
   "cell_type": "code",
   "execution_count": null,
   "metadata": {
    "execution": {
     "iopub.execute_input": "2024-05-31T18:45:24.586525Z",
     "iopub.status.busy": "2024-05-31T18:45:24.586188Z",
     "iopub.status.idle": "2024-05-31T18:45:24.618343Z",
     "shell.execute_reply": "2024-05-31T18:45:24.617128Z",
     "shell.execute_reply.started": "2024-05-31T18:45:24.586495Z"
    }
   },
   "outputs": [],
   "source": [
    "#Eğitim veri seti için yeni özellikler oluşturma\n",
    "train['Total_Top_Bath'] = train['FullBath'] + (train['HalfBath'] * 0.5)\n",
    "train['TotalPorchSF'] = train['OpenPorchSF'] + train['EnclosedPorch'] + train['3SsnPorch'] + train['ScreenPorch']\n",
    "train['GarageAge'] = train['YrSold'] - train['GarageYrBlt']\n",
    "train['HouseAge'] = train['YrSold'] - train['YearBuilt']\n",
    "train['TotalSF'] = (train['1stFlrSF'] + train['2ndFlrSF'] + train['TotalBsmtSF'] + train['GarageArea'] +\n",
    "                 train['WoodDeckSF'] + train['OpenPorchSF'] + train['EnclosedPorch'] +\n",
    "                 train['3SsnPorch'] + train['ScreenPorch'])\n",
    "\n",
    "train['TotalBath'] = train['FullBath'] + (train['HalfBath'] * 0.5) + train['BsmtFullBath'] + (train['BsmtHalfBath'] * 0.5)\n",
    "train['Total_Bot_Bath'] = train['BsmtFullBath'] + (train['BsmtHalfBath'] * 0.5)\n",
    "\n",
    "train['HasGarage'] = train['GarageArea'].apply(lambda x: 1 if x > 0 else 0)\n",
    "\n",
    "\n",
    "#Test veri seti için yeni özellikler oluşturma\n",
    "test['Total_Top_Bath'] = test['FullBath'] + (test['HalfBath'] * 0.5)\n",
    "test['Total_Bot_Bath'] = test['BsmtFullBath'] + (test['BsmtHalfBath'] * 0.5)\n",
    "\n",
    "test['HasGarage'] = test['GarageArea'].apply(lambda x: 1 if x > 0 else 0)\n",
    "test['TotalSF'] = (test['1stFlrSF'] + test['2ndFlrSF'] + test['TotalBsmtSF'] + test['GarageArea'] +\n",
    "                 test['WoodDeckSF'] + test['OpenPorchSF'] + test['EnclosedPorch'] +\n",
    "                 test['3SsnPorch'] + test['ScreenPorch'])\n",
    "\n",
    "test['HouseAge'] = test['YrSold'] - test['YearBuilt']\n",
    "test['GarageAge'] = test['YrSold'] - test['GarageYrBlt']\n",
    "test['TotalBath'] = test['BsmtFullBath'] + (test['BsmtHalfBath'] * 0.5) + test['FullBath'] + (test['HalfBath'] * 0.5)\n",
    "test['TotalPorchSF'] = test['OpenPorchSF'] + test['EnclosedPorch'] + test['3SsnPorch'] + test['ScreenPorch']"
   ]
  },
  {
   "cell_type": "markdown",
   "metadata": {},
   "source": [
    "## Grouping NaN values with setted algorithm."
   ]
  },
  {
   "cell_type": "code",
   "execution_count": null,
   "metadata": {
    "execution": {
     "iopub.execute_input": "2024-05-31T18:45:24.620737Z",
     "iopub.status.busy": "2024-05-31T18:45:24.620262Z",
     "iopub.status.idle": "2024-05-31T18:45:24.681437Z",
     "shell.execute_reply": "2024-05-31T18:45:24.680217Z",
     "shell.execute_reply.started": "2024-05-31T18:45:24.620695Z"
    }
   },
   "outputs": [],
   "source": [
    "columns_to_impute_train = []\n",
    "columns_to_remove_train = []\n",
    "\n",
    "columns_to_impute_test = []\n",
    "columns_to_remove_test = []\n",
    "\n",
    "for column in train.columns:                                                       \n",
    "    null_count = train[column].isnull().sum()                                      \n",
    "    if null_count >= 500:                                                          \n",
    "        columns_to_remove_train.append(column)\n",
    "    elif null_count >= 1:                                                          \n",
    "        columns_to_impute_train.append(column)\n",
    "    else:                                                                          \n",
    "        pass\n",
    "\n",
    "for column in test.columns:                                                        \n",
    "    null_count = test[column].isnull().sum()\n",
    "    if null_count >= 500:\n",
    "        columns_to_remove_test.append(column)\n",
    "    elif null_count >= 1:\n",
    "        columns_to_impute_test.append(column)\n",
    "    else:\n",
    "        pass\n",
    "\n",
    "print(\"Columns to impute in train \", columns_to_impute_train, '\\n')\n",
    "print(\"Columns to remove in train: \", columns_to_remove_train, '\\n')\n",
    "\n",
    "print(\"Columns to impute in test: \", columns_to_impute_test, '\\n')\n",
    "print(\"Columns to remove in test: \", columns_to_remove_test)"
   ]
  },
  {
   "cell_type": "code",
   "execution_count": null,
   "metadata": {
    "execution": {
     "iopub.execute_input": "2024-05-31T18:45:24.683308Z",
     "iopub.status.busy": "2024-05-31T18:45:24.682867Z",
     "iopub.status.idle": "2024-05-31T18:45:24.696333Z",
     "shell.execute_reply": "2024-05-31T18:45:24.695018Z",
     "shell.execute_reply.started": "2024-05-31T18:45:24.683275Z"
    }
   },
   "outputs": [],
   "source": [
    "train_clean = train.drop(['Id','PoolQC','PoolArea','Fence', 'MiscFeature'], axis = 1)                                 \n",
    "test_clean = test.drop(['PoolQC','PoolArea','Fence', 'MiscFeature'], axis = 1)"
   ]
  },
  {
   "cell_type": "code",
   "execution_count": null,
   "metadata": {
    "execution": {
     "iopub.execute_input": "2024-05-31T18:45:24.698317Z",
     "iopub.status.busy": "2024-05-31T18:45:24.69785Z",
     "iopub.status.idle": "2024-05-31T18:45:24.708203Z",
     "shell.execute_reply": "2024-05-31T18:45:24.70699Z",
     "shell.execute_reply.started": "2024-05-31T18:45:24.698276Z"
    }
   },
   "outputs": [],
   "source": [
    "cat_columns_train = train_clean.select_dtypes(include=['object'])                          \n",
    "cat_columns_test = test_clean.select_dtypes(include=['object'])                            \n",
    "\n",
    "print(cat_columns_train.columns)"
   ]
  },
  {
   "cell_type": "code",
   "execution_count": null,
   "metadata": {
    "execution": {
     "iopub.execute_input": "2024-05-31T18:45:24.713405Z",
     "iopub.status.busy": "2024-05-31T18:45:24.71301Z",
     "iopub.status.idle": "2024-05-31T18:45:24.813333Z",
     "shell.execute_reply": "2024-05-31T18:45:24.811862Z",
     "shell.execute_reply.started": "2024-05-31T18:45:24.713373Z"
    }
   },
   "outputs": [],
   "source": [
    "label_encoder = LabelEncoder()                                                             \n",
    "\n",
    "for columna in cat_columns_train.columns:                                                  \n",
    "    train_clean[columna] = label_encoder.fit_transform(train_clean[columna])               \n",
    "\n",
    "for columna in cat_columns_test.columns:\n",
    "    test_clean[columna] = label_encoder.fit_transform(test_clean[columna])\n",
    "    \n",
    "train_clean.info()"
   ]
  },
  {
   "cell_type": "code",
   "execution_count": null,
   "metadata": {
    "execution": {
     "iopub.execute_input": "2024-05-31T18:45:24.815083Z",
     "iopub.status.busy": "2024-05-31T18:45:24.814706Z",
     "iopub.status.idle": "2024-05-31T18:45:25.018303Z",
     "shell.execute_reply": "2024-05-31T18:45:25.016715Z",
     "shell.execute_reply.started": "2024-05-31T18:45:24.815051Z"
    }
   },
   "outputs": [],
   "source": [
    "knn_imputer_train = KNNImputer(n_neighbors=5, metric='nan_euclidean')                                           \n",
    "knn_imputer_train.fit(train_clean[columns_to_impute_train])                                                     \n",
    "\n",
    "train_clean[columns_to_impute_train] = knn_imputer_train.transform(train_clean[columns_to_impute_train])        \n",
    "\n",
    "\n",
    "knn_imputer_test = KNNImputer(n_neighbors=5, metric='nan_euclidean')\n",
    "knn_imputer_test.fit(test_clean[columns_to_impute_test])\n",
    "\n",
    "test_clean[columns_to_impute_test] = knn_imputer_test.transform(test_clean[columns_to_impute_test])\n",
    "\n",
    "\n",
    "print(\"No. of nulls in the dataset: \", train_clean.isnull().sum().sum())"
   ]
  },
  {
   "cell_type": "code",
   "execution_count": null,
   "metadata": {
    "execution": {
     "iopub.execute_input": "2024-05-31T18:45:25.022181Z",
     "iopub.status.busy": "2024-05-31T18:45:25.02064Z",
     "iopub.status.idle": "2024-05-31T18:45:25.067707Z",
     "shell.execute_reply": "2024-05-31T18:45:25.066184Z",
     "shell.execute_reply.started": "2024-05-31T18:45:25.022118Z"
    }
   },
   "outputs": [],
   "source": [
    "correlations = train_clean.corr()"
   ]
  },
  {
   "cell_type": "code",
   "execution_count": null,
   "metadata": {
    "execution": {
     "iopub.execute_input": "2024-05-31T18:45:25.069999Z",
     "iopub.status.busy": "2024-05-31T18:45:25.069571Z",
     "iopub.status.idle": "2024-05-31T18:45:26.193537Z",
     "shell.execute_reply": "2024-05-31T18:45:26.192158Z",
     "shell.execute_reply.started": "2024-05-31T18:45:25.06996Z"
    }
   },
   "outputs": [],
   "source": [
    "corr = train_clean.corr()                                               \n",
    "corr_sale = corr['SalePrice'].sort_values(ascending=False)              \n",
    "\n",
    "plt.figure(figsize=(18, 14))                                            \n",
    "\n",
    "plt.barh(corr_sale.index, corr_sale.values)                             \n",
    "plt.xlabel(\"Correlation\", size=12)\n",
    "plt.ylabel(\"\")\n",
    "plt.title(\"Relationship of the variables with  SalePrice\", fontdict={'fontsize': 11, 'fontweight': 'bold'})\n",
    "plt.gca().invert_yaxis()                                                \n",
    "\n",
    "plt.show()"
   ]
  },
  {
   "cell_type": "code",
   "execution_count": null,
   "metadata": {
    "execution": {
     "iopub.execute_input": "2024-05-31T18:45:26.195589Z",
     "iopub.status.busy": "2024-05-31T18:45:26.195212Z",
     "iopub.status.idle": "2024-05-31T18:45:26.23373Z",
     "shell.execute_reply": "2024-05-31T18:45:26.231993Z",
     "shell.execute_reply.started": "2024-05-31T18:45:26.195555Z"
    }
   },
   "outputs": [],
   "source": [
    "corr_matrix = train_clean.corr()\n",
    "\n",
    "saleprice_corr = corr_matrix['SalePrice']\n",
    "\n",
    "threshold = 0.50\n",
    "high_corr_vars = saleprice_corr[abs(saleprice_corr) > threshold]\n",
    "\n",
    "\n",
    "for var, corr_value in zip(high_corr_vars.index, high_corr_vars.values):\n",
    "    print(f\"{var} and SalePrice Correlation value: {corr_value:.2f}\") "
   ]
  },
  {
   "cell_type": "code",
   "execution_count": null,
   "metadata": {
    "execution": {
     "iopub.execute_input": "2024-05-31T18:45:26.235405Z",
     "iopub.status.busy": "2024-05-31T18:45:26.235061Z",
     "iopub.status.idle": "2024-05-31T18:45:26.242979Z",
     "shell.execute_reply": "2024-05-31T18:45:26.241636Z",
     "shell.execute_reply.started": "2024-05-31T18:45:26.235374Z"
    }
   },
   "outputs": [],
   "source": [
    "street_count = train['Street'].value_counts()\n",
    "print(street_count)"
   ]
  },
  {
   "cell_type": "code",
   "execution_count": null,
   "metadata": {
    "execution": {
     "iopub.execute_input": "2024-05-31T18:45:26.245042Z",
     "iopub.status.busy": "2024-05-31T18:45:26.244595Z",
     "iopub.status.idle": "2024-05-31T18:45:27.245223Z",
     "shell.execute_reply": "2024-05-31T18:45:27.244001Z",
     "shell.execute_reply.started": "2024-05-31T18:45:26.245Z"
    }
   },
   "outputs": [],
   "source": [
    "fig, axes = plt.subplots(1, 2, figsize=(16, 6))                                                                  \n",
    "\n",
    "sns.histplot(data=train_clean, x='OverallQual', ax=axes[0], bins=range(1, 11), kde=True)                         \n",
    "axes[0].set_xlabel('Quality level', size=12)\n",
    "axes[0].set_ylabel('Frecuency', size=12)\n",
    "axes[0].set_title('Distribution of qualities', size=11, weight='bold')\n",
    "\n",
    "sns.barplot(data=train_clean, x='OverallQual', y='SalePrice', ax=axes[1])                                        \n",
    "axes[1].set_xlabel('Quality level', size=12) \n",
    "axes[1].set_ylabel('Selling price', size=12)\n",
    "axes[1].set_title('Relationship between quality and sales price', size=11, weight='bold')\n",
    "\n",
    "plt.tight_layout()\n",
    "plt.show()"
   ]
  },
  {
   "cell_type": "code",
   "execution_count": null,
   "metadata": {
    "execution": {
     "iopub.execute_input": "2024-05-31T18:45:27.247087Z",
     "iopub.status.busy": "2024-05-31T18:45:27.246699Z",
     "iopub.status.idle": "2024-05-31T18:45:28.054633Z",
     "shell.execute_reply": "2024-05-31T18:45:28.053339Z",
     "shell.execute_reply.started": "2024-05-31T18:45:27.247054Z"
    }
   },
   "outputs": [],
   "source": [
    "fig, axes = plt.subplots(1, 2, figsize=(16, 6))\n",
    "\n",
    "sns.histplot(data=train_clean, x='GrLivArea', ax=axes[0], bins=30, kde=True)                                       \n",
    "axes[0].set_xlabel('Ft2', size=12)\n",
    "axes[0].set_ylabel('Frecuency', size=12)\n",
    "axes[0].set_title('Square footage distribution ', size=11, weight='bold')\n",
    " \n",
    "sns.scatterplot(data=train, x='HouseStyle', y='SalePrice', ax=axes[1])                                           \n",
    "axes[1].set_xlabel('Ft2', size=12)\n",
    "axes[1].set_ylabel('Selling price', size=12)\n",
    "axes[1].set_title('Relationship between square footage and sales price', size=11, weight='bold')\n",
    "\n",
    "plt.tight_layout()\n",
    "plt.show()"
   ]
  },
  {
   "cell_type": "markdown",
   "metadata": {},
   "source": [
    "## GarageCars with Ft^2 Analysis"
   ]
  },
  {
   "cell_type": "code",
   "execution_count": null,
   "metadata": {
    "execution": {
     "iopub.execute_input": "2024-05-31T18:45:28.056879Z",
     "iopub.status.busy": "2024-05-31T18:45:28.056513Z",
     "iopub.status.idle": "2024-05-31T18:45:29.461206Z",
     "shell.execute_reply": "2024-05-31T18:45:29.459975Z",
     "shell.execute_reply.started": "2024-05-31T18:45:28.056846Z"
    }
   },
   "outputs": [],
   "source": [
    "fig, axes = plt.subplots(1, 3, figsize=(16, 6))                                                                   \n",
    "\n",
    "sns.histplot(data=train_clean, x='GarageCars', ax=axes[0], bins=range(6), kde=True)                               \n",
    "axes[0].set_xlabel('Parking spaces', size=12)\n",
    "axes[0].set_ylabel('Frecuency', size=12)\n",
    "axes[0].set_title('distribution of the number of parking spaces ', size=11, weight='bold')\n",
    "\n",
    "sns.histplot(data=train_clean, x='GarageArea', ax=axes[1], bins=30, kde=True)                                     \n",
    "axes[1].set_xlabel('Ft2', size=12)\n",
    "axes[1].set_ylabel('Frecuency', size=12)\n",
    "axes[1].set_title('Square footage distribution', size=11, weight='bold')\n",
    "\n",
    "sns.scatterplot(data=train_clean, x='GarageCars', y='GarageArea', hue='SalePrice', ax=axes[2])                    \n",
    "axes[2].set_xlabel('Parking spaces', size=12)\n",
    "axes[2].set_ylabel('Ft2', size=12)\n",
    "axes[2].set_title('Relationship between number of seats, size and selling price', size=11, weight='bold')\n",
    "\n",
    "plt.tight_layout()\n",
    "plt.show()"
   ]
  },
  {
   "cell_type": "markdown",
   "metadata": {},
   "source": [
    "## TotalBstmSF with FT^2 Analysis"
   ]
  },
  {
   "cell_type": "code",
   "execution_count": null,
   "metadata": {
    "execution": {
     "iopub.execute_input": "2024-05-31T18:45:29.462866Z",
     "iopub.status.busy": "2024-05-31T18:45:29.462551Z",
     "iopub.status.idle": "2024-05-31T18:45:30.326973Z",
     "shell.execute_reply": "2024-05-31T18:45:30.325492Z",
     "shell.execute_reply.started": "2024-05-31T18:45:29.462836Z"
    }
   },
   "outputs": [],
   "source": [
    "fig, axes = plt.subplots(1, 2, figsize=(16, 6))\n",
    "\n",
    "sns.histplot(data=train_clean, x='TotalBsmtSF', ax=axes[0], bins=30, kde=True)                                    \n",
    "axes[0].set_xlabel('Ft2', size=12)\n",
    "axes[0].set_ylabel('Frecuency', size=12)\n",
    "axes[0].set_title('Square footage distribution', size=11, weight='bold')\n",
    "\n",
    "sns.scatterplot(data=train_clean, x='TotalBsmtSF', y='SalePrice', ax=axes[1])                                     \n",
    "axes[1].set_xlabel('Ft2', size=12)\n",
    "axes[1].set_ylabel('Selling price', size=12)\n",
    "axes[1].set_title('Selling Price and TotalBstmF', size=11, weight='bold')\n",
    "\n",
    "plt.tight_layout()\n",
    "plt.show()"
   ]
  },
  {
   "cell_type": "markdown",
   "metadata": {},
   "source": [
    "## Linear Regression Model Predict"
   ]
  },
  {
   "cell_type": "code",
   "execution_count": null,
   "metadata": {
    "execution": {
     "iopub.execute_input": "2024-05-31T18:45:30.329148Z",
     "iopub.status.busy": "2024-05-31T18:45:30.328665Z",
     "iopub.status.idle": "2024-05-31T18:45:30.349979Z",
     "shell.execute_reply": "2024-05-31T18:45:30.348669Z",
     "shell.execute_reply.started": "2024-05-31T18:45:30.329093Z"
    }
   },
   "outputs": [],
   "source": [
    "X_train = train_clean[['OverallQual']]\n",
    "y_train = train_clean['SalePrice']\n",
    "X_test = test_clean[['OverallQual']]\n",
    "\n",
    "lr_model = LinearRegression()\n",
    "lr_model.fit(X_train, y_train)\n",
    "\n",
    "simple_predictions = lr_model.predict(X_test)\n",
    "\n",
    "rmse_simple = np.sqrt(mean_squared_error(y_train, lr_model.predict(X_train)))\n",
    "r2_simple = r2_score(y_train, lr_model.predict(X_train))"
   ]
  },
  {
   "cell_type": "markdown",
   "metadata": {},
   "source": [
    "## Simple Linear Regression Predict Visualization"
   ]
  },
  {
   "cell_type": "code",
   "execution_count": null,
   "metadata": {
    "execution": {
     "iopub.execute_input": "2024-05-31T18:45:30.351979Z",
     "iopub.status.busy": "2024-05-31T18:45:30.351571Z",
     "iopub.status.idle": "2024-05-31T18:45:30.731762Z",
     "shell.execute_reply": "2024-05-31T18:45:30.73072Z",
     "shell.execute_reply.started": "2024-05-31T18:45:30.351939Z"
    }
   },
   "outputs": [],
   "source": [
    "plt.figure(figsize=(19, 6))\n",
    "plt.scatter(y_train, lr_model.predict(X_train), alpha=0.6)\n",
    "plt.plot([y_train.min(), y_train.max()], [y_train.min(), y_train.max()], 'r--', lw=2)\n",
    "plt.xlabel('')\n",
    "plt.ylabel('')\n",
    "plt.title('Simple Linear Regression')\n",
    "plt.show()\n",
    "\n",
    "\n",
    "print(f\"Simple Linear Regression RMSE: {rmse_simple}\")\n",
    "print(f\"Simple Linear Regression  R-squared: {r2_simple}\")"
   ]
  },
  {
   "cell_type": "markdown",
   "metadata": {},
   "source": [
    "## Multiple Linear Regression Model Predict"
   ]
  },
  {
   "cell_type": "code",
   "execution_count": null,
   "metadata": {
    "execution": {
     "iopub.execute_input": "2024-05-31T18:45:30.733443Z",
     "iopub.status.busy": "2024-05-31T18:45:30.733115Z",
     "iopub.status.idle": "2024-05-31T18:45:30.819855Z",
     "shell.execute_reply": "2024-05-31T18:45:30.818173Z",
     "shell.execute_reply.started": "2024-05-31T18:45:30.733414Z"
    }
   },
   "outputs": [],
   "source": [
    "X = train_clean.drop(columns=['SalePrice'])\n",
    "y = train_clean['SalePrice']\n",
    "\n",
    "scaler = StandardScaler()\n",
    "X_scaled = scaler.fit_transform(X)\n",
    "\n",
    "X_train, X_test, y_train, y_test = train_test_split(X_scaled, y, test_size=0.2, random_state=42)\n",
    "\n",
    "model = LinearRegression()\n",
    "model.fit(X_train, y_train)                                 \n",
    "\n",
    "y_pred = model.predict(X_test)\n",
    "\n",
    "test_clean_aligned = test_clean[X.columns]\n",
    "test_clean_scaled = scaler.transform(test_clean_aligned)\n",
    "test_predictions = model.predict(test_clean_scaled)\n",
    "\n",
    "rmse_multiple = np.sqrt(mean_squared_error(np.log(y_test), np.log(y_pred)))\n",
    "r2_multiple = r2_score(y_test, y_pred)"
   ]
  },
  {
   "cell_type": "markdown",
   "metadata": {},
   "source": [
    "## Multiple Linear Regression Predict Visuaization"
   ]
  },
  {
   "cell_type": "code",
   "execution_count": null,
   "metadata": {
    "execution": {
     "iopub.execute_input": "2024-05-31T18:45:30.823283Z",
     "iopub.status.busy": "2024-05-31T18:45:30.822657Z",
     "iopub.status.idle": "2024-05-31T18:45:31.25661Z",
     "shell.execute_reply": "2024-05-31T18:45:31.255402Z",
     "shell.execute_reply.started": "2024-05-31T18:45:30.82323Z"
    }
   },
   "outputs": [],
   "source": [
    "plt.figure(figsize=(19, 6))\n",
    "plt.scatter(y_test, y_pred, alpha=0.6)\n",
    "plt.plot([y_test.min(), y_test.max()], [y_test.min(), y_test.max()], 'r--', lw=2)\n",
    "plt.xlabel('')\n",
    "plt.ylabel('')\n",
    "plt.title('Multiple Linear Regression')\n",
    "plt.show()\n",
    "\n",
    "print(f\"Multiple Linear Regression RMSE: {rmse_multiple}\")\n",
    "print(f\"Multiple Linear Regression R-squared: {r2_multiple}\")"
   ]
  },
  {
   "cell_type": "markdown",
   "metadata": {},
   "source": [
    "## Ridge Regressor Predict"
   ]
  },
  {
   "cell_type": "code",
   "execution_count": null,
   "metadata": {
    "execution": {
     "iopub.execute_input": "2024-05-31T18:45:31.258475Z",
     "iopub.status.busy": "2024-05-31T18:45:31.258105Z",
     "iopub.status.idle": "2024-05-31T18:45:31.739157Z",
     "shell.execute_reply": "2024-05-31T18:45:31.737999Z",
     "shell.execute_reply.started": "2024-05-31T18:45:31.258445Z"
    }
   },
   "outputs": [],
   "source": [
    "ridge = Ridge()\n",
    "ridge_params = {'alpha': [0.01, 0.1, 1, 10,100]}\n",
    "ridge_grid = GridSearchCV(ridge, ridge_params, cv=10, scoring='neg_mean_squared_error')\n",
    "ridge_grid.fit(X_train, y_train)\n",
    "best_ridge = ridge_grid.best_estimator_\n",
    "\n",
    "y_pred_ridge = best_ridge.predict(X_test)\n",
    "test_predictions_ridge = best_ridge.predict(test_clean_scaled)\n",
    "\n",
    "rmse_ridge = np.sqrt(mean_squared_error(np.log(y_test), np.log(y_pred_ridge)))\n",
    "r2_ridge = r2_score(y_test, y_pred_ridge)\n",
    "\n",
    "print(f\"Ridge Regression RMSE: {rmse_ridge}\")\n",
    "print(f\"Ridge Regression R-squared: {r2_ridge}\")"
   ]
  },
  {
   "cell_type": "markdown",
   "metadata": {},
   "source": [
    "## k-NN Regressor Predict"
   ]
  },
  {
   "cell_type": "code",
   "execution_count": null,
   "metadata": {
    "execution": {
     "iopub.status.busy": "2024-05-31T18:45:32.052945Z",
     "iopub.status.idle": "2024-05-31T18:45:32.05351Z",
     "shell.execute_reply": "2024-05-31T18:45:32.05326Z",
     "shell.execute_reply.started": "2024-05-31T18:45:32.053237Z"
    }
   },
   "outputs": [],
   "source": [
    "knn = KNeighborsRegressor(n_neighbors=5)\n",
    "knn.fit(X_train, y_train)\n",
    "\n",
    "y_pred_knn = knn.predict(X_test)\n",
    "\n",
    "knn_rmse = np.sqrt(mean_squared_error(np.log(y_test), np.log(y_pred_knn)))\n",
    "knn_r2 = r2_score(y_test, y_pred_knn)\n",
    "\n",
    "print(f\"KNN Regression RMSE: {knn_rmse}\")\n",
    "print(f\"KNN Regression R-squared: {knn_r2}\")"
   ]
  },
  {
   "cell_type": "markdown",
   "metadata": {},
   "source": [
    "## ElasitcNet Regressor Model Predict"
   ]
  },
  {
   "cell_type": "code",
   "execution_count": null,
   "metadata": {
    "execution": {
     "iopub.status.busy": "2024-05-31T18:45:32.054954Z",
     "iopub.status.idle": "2024-05-31T18:45:32.05549Z",
     "shell.execute_reply": "2024-05-31T18:45:32.055248Z",
     "shell.execute_reply.started": "2024-05-31T18:45:32.055226Z"
    }
   },
   "outputs": [],
   "source": [
    "elastic_net = ElasticNet(alpha=0.1, l1_ratio=0.5, random_state=42)\n",
    "elastic_net.fit(X_train, y_train)\n",
    "\n",
    "\n",
    "y_pred_en = elastic_net.predict(X_test)\n",
    "\n",
    "\n",
    "en_rmse = np.sqrt(mean_squared_error(np.log(y_test), np.log(y_pred_en)))\n",
    "en_r2 = r2_score(y_test, y_pred_en)\n",
    "\n",
    "print(f\"ElasticNet RMSE: {en_rmse}\")\n",
    "print(f\"ElasticNet R-squared: {en_r2}\")"
   ]
  },
  {
   "cell_type": "markdown",
   "metadata": {},
   "source": [
    "## Gradient Boosting Regressor Model Predict"
   ]
  },
  {
   "cell_type": "code",
   "execution_count": null,
   "metadata": {
    "execution": {
     "iopub.status.busy": "2024-05-31T18:45:32.057023Z",
     "iopub.status.idle": "2024-05-31T18:45:32.057543Z",
     "shell.execute_reply": "2024-05-31T18:45:32.057308Z",
     "shell.execute_reply.started": "2024-05-31T18:45:32.057288Z"
    }
   },
   "outputs": [],
   "source": [
    "gb = GradientBoostingRegressor(n_estimators=1000, learning_rate=0.1, random_state=42)\n",
    "gb.fit(X_train, y_train)\n",
    "\n",
    "\n",
    "y_pred_gb = gb.predict(X_test)\n",
    "\n",
    "\n",
    "gb_rmse = np.sqrt(mean_squared_error(np.log(y_test), np.log(y_pred_gb)))\n",
    "gb_r2 = r2_score(y_test, y_pred_gb)\n",
    "\n",
    "print(f\"Gradient Boosting RMSE: {gb_rmse}\")\n",
    "print(f\"Gradient Boosting R-squared: {gb_r2}\")"
   ]
  },
  {
   "cell_type": "markdown",
   "metadata": {},
   "source": [
    "## Category Boosting Regressor Model Predict [BEST SCORE]"
   ]
  },
  {
   "cell_type": "code",
   "execution_count": null,
   "metadata": {
    "execution": {
     "iopub.status.busy": "2024-05-31T18:45:32.058978Z",
     "iopub.status.idle": "2024-05-31T18:45:32.05949Z",
     "shell.execute_reply": "2024-05-31T18:45:32.059263Z",
     "shell.execute_reply.started": "2024-05-31T18:45:32.059242Z"
    }
   },
   "outputs": [],
   "source": [
    "catb = CatBoostRegressor()\n",
    "catb_model = catb.fit(X_train, y_train,\n",
    "                     verbose = 0)\n",
    "\n",
    "y_pred_catb = catb_model.predict(X_test)\n",
    "\n",
    "catb_rmse_calculator = np.sqrt(mean_squared_error(np.log(y_test), np.log(y_pred_catb)))\n",
    "catboost_r2_metric = r2_score(y_test, y_pred_catb)\n",
    "\n",
    "print(f\"Category Boosting RMSE Metric: {catb_rmse_calculator}\")\n",
    "print(f\"Category Boosting R-squared Metric: {catboost_r2_metric}\")"
   ]
  },
  {
   "cell_type": "markdown",
   "metadata": {},
   "source": [
    "## Last Analysis: Let's Testing XGBoost"
   ]
  },
  {
   "cell_type": "code",
   "execution_count": null,
   "metadata": {
    "execution": {
     "iopub.status.busy": "2024-05-31T18:45:32.061384Z",
     "iopub.status.idle": "2024-05-31T18:45:32.061876Z",
     "shell.execute_reply": "2024-05-31T18:45:32.061649Z",
     "shell.execute_reply.started": "2024-05-31T18:45:32.061629Z"
    }
   },
   "outputs": [],
   "source": [
    "from xgboost import XGBRegressor\n",
    "xgb = XGBRegressor(learning_rate=0.01, n_estimators=3460,\n",
    "                                     max_depth=3, min_child_weight=0,\n",
    "                                     gamma=0, subsample=0.7,\n",
    "                                     colsample_bytree=0.7,\n",
    "                                     #objective='reg:linear', nthread=-1,\n",
    "                                     objective='reg:squarederror', nthread=-1,\n",
    "                                     scale_pos_weight=1, seed=27,\n",
    "                                     reg_alpha=0.00005)\n",
    "xgb_model = xgb.fit(X_train , y_train)\n",
    "\n",
    "y_pred_xgboost = xgb_model.predict(X_test)\n",
    "\n",
    "xgboost_rmse_calculator = np.sqrt(mean_squared_error(np.log(y_test), np.log(y_pred_xgboost)))\n",
    "xgboost_r2_metric = r2_score(y_test, y_pred_xgboost)\n",
    "\n",
    "print(f\"Extreme Gradient Boosting RMSE Metric: {xgboost_rmse_calculator}\")\n",
    "print(f\"Extreme Gradient Boosting R-squared Metric: {xgboost_r2_metric}\")"
   ]
  },
  {
   "cell_type": "code",
   "execution_count": null,
   "metadata": {
    "execution": {
     "iopub.status.busy": "2024-05-31T18:45:32.063297Z",
     "iopub.status.idle": "2024-05-31T18:45:32.063778Z",
     "shell.execute_reply": "2024-05-31T18:45:32.063557Z",
     "shell.execute_reply.started": "2024-05-31T18:45:32.063537Z"
    }
   },
   "outputs": [],
   "source": [
    "test_pred_xgboost = xgb_model.predict(test_clean_scaled)\n",
    "\n",
    "submission = pd.DataFrame({\n",
    "    'Id': test['Id'],\n",
    "    'SalePrice': test_pred_xgboost\n",
    "})\n",
    "\n",
    "print(submission.head())\n",
    "submission.to_csv('submission_xg.csv', index=False)"
   ]
  },
  {
   "cell_type": "code",
   "execution_count": null,
   "metadata": {
    "execution": {
     "iopub.status.busy": "2024-05-31T18:45:32.065381Z",
     "iopub.status.idle": "2024-05-31T18:45:32.065893Z",
     "shell.execute_reply": "2024-05-31T18:45:32.065648Z",
     "shell.execute_reply.started": "2024-05-31T18:45:32.065628Z"
    }
   },
   "outputs": [],
   "source": [
    "test_pred_xgb = xgb_model.predict(test_clean_scaled)\n",
    "\n",
    "submission = pd.DataFrame({\n",
    "    'Id': test['Id'],\n",
    "    'SalePrice': test_pred_xgb\n",
    "})\n",
    "\n",
    "print(submission.head())\n",
    "submission.to_csv('submission.csv', index=False)"
   ]
  }
 ],
 "metadata": {
  "kaggle": {
   "accelerator": "none",
   "dataSources": [
    {
     "databundleVersionId": 868283,
     "sourceId": 5407,
     "sourceType": "competition"
    }
   ],
   "dockerImageVersionId": 30698,
   "isGpuEnabled": false,
   "isInternetEnabled": true,
   "language": "python",
   "sourceType": "notebook"
  },
  "kernelspec": {
   "display_name": "Python 3",
   "language": "python",
   "name": "python3"
  },
  "language_info": {
   "codemirror_mode": {
    "name": "ipython",
    "version": 3
   },
   "file_extension": ".py",
   "mimetype": "text/x-python",
   "name": "python",
   "nbconvert_exporter": "python",
   "pygments_lexer": "ipython3",
   "version": "3.10.13"
  }
 },
 "nbformat": 4,
 "nbformat_minor": 4
}
