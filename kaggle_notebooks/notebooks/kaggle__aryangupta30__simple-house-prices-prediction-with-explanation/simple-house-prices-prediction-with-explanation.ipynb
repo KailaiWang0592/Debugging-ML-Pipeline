{
 "cells": [
  {
   "cell_type": "code",
   "execution_count": null,
   "metadata": {
    "_cell_guid": "b1076dfc-b9ad-4769-8c92-a6c4dae69d19",
    "_uuid": "8f2839f25d086af736a60e9eeb907d3b93b6e0e5",
    "execution": {
     "iopub.execute_input": "2024-01-17T04:18:03.428064Z",
     "iopub.status.busy": "2024-01-17T04:18:03.427467Z",
     "iopub.status.idle": "2024-01-17T04:18:03.950812Z",
     "shell.execute_reply": "2024-01-17T04:18:03.949261Z",
     "shell.execute_reply.started": "2024-01-17T04:18:03.42803Z"
    }
   },
   "outputs": [],
   "source": [
    "# This Python 3 environment comes with many helpful analytics libraries installed\n",
    "# It is defined by the kaggle/python Docker image: https://github.com/kaggle/docker-python\n",
    "# For example, here's several helpful packages to load\n",
    "\n",
    "import numpy as np # linear algebra\n",
    "import pandas as pd # data processing, CSV file I/O (e.g. pd.read_csv)\n",
    "import matplotlib.pyplot as plt\n",
    "\n",
    "# Input data files are available in the read-only \"/share/dutta/eyao/dataset/kaggle/\" directory\n",
    "# For example, running this (by clicking run or pressing Shift+Enter) will list all files under the input directory\n",
    "\n",
    "import os\n",
    "for dirname, _, filenames in os.walk('/share/dutta/eyao/dataset/kaggle'):\n",
    "    for filename in filenames:\n",
    "        print(os.path.join(dirname, filename))\n",
    "\n",
    "# You can write up to 20GB to the current directory () that gets preserved as output when you create a version using \"Save & Run All\" \n",
    "# You can also write temporary files to /kaggle/temp/, but they won't be saved outside of the current session"
   ]
  },
  {
   "cell_type": "markdown",
   "metadata": {},
   "source": [
    "# **Importing Data**"
   ]
  },
  {
   "cell_type": "code",
   "execution_count": null,
   "metadata": {
    "execution": {
     "iopub.execute_input": "2024-01-17T04:18:03.954059Z",
     "iopub.status.busy": "2024-01-17T04:18:03.953365Z",
     "iopub.status.idle": "2024-01-17T04:18:04.065586Z",
     "shell.execute_reply": "2024-01-17T04:18:04.064283Z",
     "shell.execute_reply.started": "2024-01-17T04:18:03.954011Z"
    }
   },
   "outputs": [],
   "source": [
    "train = pd.read_csv('/share/dutta/eyao/dataset/kaggle/house-prices-advanced-regression-techniques/train.csv')\n",
    "test = pd.read_csv('/share/dutta/eyao/dataset/kaggle/house-prices-advanced-regression-techniques/test.csv')"
   ]
  },
  {
   "cell_type": "code",
   "execution_count": null,
   "metadata": {
    "execution": {
     "iopub.execute_input": "2024-01-17T04:18:04.067297Z",
     "iopub.status.busy": "2024-01-17T04:18:04.066935Z",
     "iopub.status.idle": "2024-01-17T04:18:04.109377Z",
     "shell.execute_reply": "2024-01-17T04:18:04.1081Z",
     "shell.execute_reply.started": "2024-01-17T04:18:04.067263Z"
    }
   },
   "outputs": [],
   "source": [
    "train.head()"
   ]
  },
  {
   "cell_type": "code",
   "execution_count": null,
   "metadata": {
    "execution": {
     "iopub.execute_input": "2024-01-17T04:18:04.113609Z",
     "iopub.status.busy": "2024-01-17T04:18:04.113098Z",
     "iopub.status.idle": "2024-01-17T04:18:04.150769Z",
     "shell.execute_reply": "2024-01-17T04:18:04.149946Z",
     "shell.execute_reply.started": "2024-01-17T04:18:04.113563Z"
    }
   },
   "outputs": [],
   "source": [
    "train.info()"
   ]
  },
  {
   "cell_type": "markdown",
   "metadata": {},
   "source": [
    "# Summary about data"
   ]
  },
  {
   "cell_type": "code",
   "execution_count": null,
   "metadata": {
    "execution": {
     "iopub.execute_input": "2024-01-17T04:18:04.152842Z",
     "iopub.status.busy": "2024-01-17T04:18:04.1518Z",
     "iopub.status.idle": "2024-01-17T04:18:04.160169Z",
     "shell.execute_reply": "2024-01-17T04:18:04.158998Z",
     "shell.execute_reply.started": "2024-01-17T04:18:04.152805Z"
    }
   },
   "outputs": [],
   "source": [
    "train.shape"
   ]
  },
  {
   "cell_type": "code",
   "execution_count": null,
   "metadata": {
    "execution": {
     "iopub.execute_input": "2024-01-17T04:18:04.161853Z",
     "iopub.status.busy": "2024-01-17T04:18:04.161531Z",
     "iopub.status.idle": "2024-01-17T04:18:04.17935Z",
     "shell.execute_reply": "2024-01-17T04:18:04.178141Z",
     "shell.execute_reply.started": "2024-01-17T04:18:04.161825Z"
    }
   },
   "outputs": [],
   "source": [
    "train.isnull().sum()"
   ]
  },
  {
   "cell_type": "code",
   "execution_count": null,
   "metadata": {
    "execution": {
     "iopub.execute_input": "2024-01-17T04:18:04.181093Z",
     "iopub.status.busy": "2024-01-17T04:18:04.180756Z",
     "iopub.status.idle": "2024-01-17T04:18:04.199793Z",
     "shell.execute_reply": "2024-01-17T04:18:04.198762Z",
     "shell.execute_reply.started": "2024-01-17T04:18:04.181057Z"
    }
   },
   "outputs": [],
   "source": [
    "test.isnull().sum()"
   ]
  },
  {
   "cell_type": "markdown",
   "metadata": {},
   "source": [
    "# Data Cleaning"
   ]
  },
  {
   "cell_type": "code",
   "execution_count": null,
   "metadata": {
    "execution": {
     "iopub.execute_input": "2024-01-17T04:18:04.202214Z",
     "iopub.status.busy": "2024-01-17T04:18:04.20146Z",
     "iopub.status.idle": "2024-01-17T04:18:04.209978Z",
     "shell.execute_reply": "2024-01-17T04:18:04.208907Z",
     "shell.execute_reply.started": "2024-01-17T04:18:04.202155Z"
    }
   },
   "outputs": [],
   "source": [
    "def fill_missing_values(df):\n",
    "    for column in df.columns:\n",
    "        if df[column].dtype == np.float64:\n",
    "            df[column].fillna(df[column].mean(), inplace=True)\n",
    "        elif (df[column] == 'O').any():\n",
    "            df[column].fillna(df[column].mode().iloc[0], inplace=True)"
   ]
  },
  {
   "cell_type": "code",
   "execution_count": null,
   "metadata": {
    "execution": {
     "iopub.execute_input": "2024-01-17T04:18:04.211703Z",
     "iopub.status.busy": "2024-01-17T04:18:04.211288Z",
     "iopub.status.idle": "2024-01-17T04:18:04.24987Z",
     "shell.execute_reply": "2024-01-17T04:18:04.248658Z",
     "shell.execute_reply.started": "2024-01-17T04:18:04.211673Z"
    }
   },
   "outputs": [],
   "source": [
    "fill_missing_values(train)"
   ]
  },
  {
   "cell_type": "code",
   "execution_count": null,
   "metadata": {
    "execution": {
     "iopub.execute_input": "2024-01-17T04:18:04.254684Z",
     "iopub.status.busy": "2024-01-17T04:18:04.254297Z",
     "iopub.status.idle": "2024-01-17T04:18:04.272611Z",
     "shell.execute_reply": "2024-01-17T04:18:04.271314Z",
     "shell.execute_reply.started": "2024-01-17T04:18:04.254648Z"
    }
   },
   "outputs": [],
   "source": [
    "train.isnull().sum()"
   ]
  },
  {
   "cell_type": "code",
   "execution_count": null,
   "metadata": {
    "execution": {
     "iopub.execute_input": "2024-01-17T04:18:04.274276Z",
     "iopub.status.busy": "2024-01-17T04:18:04.27388Z",
     "iopub.status.idle": "2024-01-17T04:18:04.312361Z",
     "shell.execute_reply": "2024-01-17T04:18:04.311345Z",
     "shell.execute_reply.started": "2024-01-17T04:18:04.274236Z"
    }
   },
   "outputs": [],
   "source": [
    "fill_missing_values(test)"
   ]
  },
  {
   "cell_type": "code",
   "execution_count": null,
   "metadata": {},
   "outputs": [],
   "source": []
  },
  {
   "cell_type": "code",
   "execution_count": null,
   "metadata": {},
   "outputs": [],
   "source": []
  },
  {
   "cell_type": "code",
   "execution_count": null,
   "metadata": {},
   "outputs": [],
   "source": []
  },
  {
   "cell_type": "code",
   "execution_count": null,
   "metadata": {
    "execution": {
     "iopub.execute_input": "2024-01-17T04:18:04.314523Z",
     "iopub.status.busy": "2024-01-17T04:18:04.314007Z",
     "iopub.status.idle": "2024-01-17T04:18:04.319162Z",
     "shell.execute_reply": "2024-01-17T04:18:04.318049Z",
     "shell.execute_reply.started": "2024-01-17T04:18:04.314479Z"
    }
   },
   "outputs": [],
   "source": [
    "# columns_to_drop = ['Id']\n",
    "# train = train.drop(columns=columns_to_drop)"
   ]
  },
  {
   "cell_type": "markdown",
   "metadata": {},
   "source": [
    "# Encoding Data"
   ]
  },
  {
   "cell_type": "code",
   "execution_count": null,
   "metadata": {
    "_kg_hide-input": true,
    "execution": {
     "iopub.execute_input": "2024-01-17T04:18:04.32116Z",
     "iopub.status.busy": "2024-01-17T04:18:04.320744Z",
     "iopub.status.idle": "2024-01-17T04:18:05.879565Z",
     "shell.execute_reply": "2024-01-17T04:18:05.878288Z",
     "shell.execute_reply.started": "2024-01-17T04:18:04.32112Z"
    }
   },
   "outputs": [],
   "source": [
    "from sklearn.preprocessing import LabelEncoder\n",
    "\n",
    "def encode_categorical_columns(df):\n",
    "    label_encoder = LabelEncoder()\n",
    "\n",
    "    for column in df.columns:\n",
    "        if df[column].dtype == 'object':\n",
    "            df[column] = label_encoder.fit_transform(df[column])\n",
    "        elif df[column].dtype == 'float64':\n",
    "            df[column] = df[column].fillna(df[column].mean())\n",
    "\n",
    "    return df"
   ]
  },
  {
   "cell_type": "code",
   "execution_count": null,
   "metadata": {
    "_kg_hide-input": true,
    "execution": {
     "iopub.execute_input": "2024-01-17T04:18:05.881449Z",
     "iopub.status.busy": "2024-01-17T04:18:05.881042Z",
     "iopub.status.idle": "2024-01-17T04:18:05.986261Z",
     "shell.execute_reply": "2024-01-17T04:18:05.985137Z",
     "shell.execute_reply.started": "2024-01-17T04:18:05.881413Z"
    }
   },
   "outputs": [],
   "source": [
    "train = encode_categorical_columns(train)\n",
    "test = encode_categorical_columns(test)"
   ]
  },
  {
   "cell_type": "code",
   "execution_count": null,
   "metadata": {
    "execution": {
     "iopub.execute_input": "2024-01-17T04:18:05.988222Z",
     "iopub.status.busy": "2024-01-17T04:18:05.987737Z",
     "iopub.status.idle": "2024-01-17T04:18:05.99465Z",
     "shell.execute_reply": "2024-01-17T04:18:05.993108Z",
     "shell.execute_reply.started": "2024-01-17T04:18:05.988161Z"
    }
   },
   "outputs": [],
   "source": [
    "# display_column_data_types(train)"
   ]
  },
  {
   "cell_type": "code",
   "execution_count": null,
   "metadata": {
    "execution": {
     "iopub.execute_input": "2024-01-17T04:18:34.070382Z",
     "iopub.status.busy": "2024-01-17T04:18:34.06896Z",
     "iopub.status.idle": "2024-01-17T04:18:34.084149Z",
     "shell.execute_reply": "2024-01-17T04:18:34.083124Z",
     "shell.execute_reply.started": "2024-01-17T04:18:34.070334Z"
    }
   },
   "outputs": [],
   "source": [
    "X = train.drop(['SalePrice','Id'], axis=1)\n",
    "y = train['SalePrice']\n",
    "X_val = test.drop(['Id'],axis = 1)"
   ]
  },
  {
   "cell_type": "code",
   "execution_count": null,
   "metadata": {
    "execution": {
     "iopub.execute_input": "2024-01-17T04:19:06.468569Z",
     "iopub.status.busy": "2024-01-17T04:19:06.468079Z",
     "iopub.status.idle": "2024-01-17T04:19:06.504439Z",
     "shell.execute_reply": "2024-01-17T04:19:06.502801Z",
     "shell.execute_reply.started": "2024-01-17T04:19:06.468526Z"
    }
   },
   "outputs": [],
   "source": [
    "from sklearn.preprocessing import StandardScaler\n",
    "sc = StandardScaler()\n",
    "X = sc.fit_transform(X)\n",
    "X_val = sc.fit_transform(X_val)"
   ]
  },
  {
   "cell_type": "markdown",
   "metadata": {},
   "source": [
    "# Training Data"
   ]
  },
  {
   "cell_type": "code",
   "execution_count": null,
   "metadata": {
    "execution": {
     "iopub.execute_input": "2024-01-17T04:19:10.528044Z",
     "iopub.status.busy": "2024-01-17T04:19:10.527611Z",
     "iopub.status.idle": "2024-01-17T04:19:10.66092Z",
     "shell.execute_reply": "2024-01-17T04:19:10.66001Z",
     "shell.execute_reply.started": "2024-01-17T04:19:10.528011Z"
    }
   },
   "outputs": [],
   "source": [
    "from sklearn.model_selection import train_test_split\n",
    "\n",
    "X_train, X_test, y_train, y_test = train_test_split(X, y, test_size=0.2, random_state=42)"
   ]
  },
  {
   "cell_type": "code",
   "execution_count": null,
   "metadata": {
    "execution": {
     "iopub.status.busy": "2024-01-17T04:18:06.651786Z",
     "iopub.status.idle": "2024-01-17T04:18:06.653633Z",
     "shell.execute_reply": "2024-01-17T04:18:06.653345Z",
     "shell.execute_reply.started": "2024-01-17T04:18:06.653308Z"
    }
   },
   "outputs": [],
   "source": [
    "# def encode_labels(y):\n",
    "#     label_encoder = LabelEncoder()\n",
    "#     y_encoded = label_encoder.fit_transform(y)\n",
    "#     return y_encoded"
   ]
  },
  {
   "cell_type": "code",
   "execution_count": null,
   "metadata": {
    "execution": {
     "iopub.status.busy": "2024-01-17T04:18:06.65578Z",
     "iopub.status.idle": "2024-01-17T04:18:06.656439Z",
     "shell.execute_reply": "2024-01-17T04:18:06.656139Z",
     "shell.execute_reply.started": "2024-01-17T04:18:06.656109Z"
    }
   },
   "outputs": [],
   "source": [
    "# y_train_encoded = encode_labels(y_train)\n",
    "# y_test_encoded = encode_labels(y_test)"
   ]
  },
  {
   "cell_type": "code",
   "execution_count": null,
   "metadata": {
    "execution": {
     "iopub.execute_input": "2024-01-17T04:20:21.586123Z",
     "iopub.status.busy": "2024-01-17T04:20:21.585679Z",
     "iopub.status.idle": "2024-01-17T04:20:21.592327Z",
     "shell.execute_reply": "2024-01-17T04:20:21.59065Z",
     "shell.execute_reply.started": "2024-01-17T04:20:21.586089Z"
    }
   },
   "outputs": [],
   "source": [
    "from sklearn.metrics import mean_squared_error\n",
    "from sklearn.metrics import  accuracy_score\n"
   ]
  },
  {
   "cell_type": "code",
   "execution_count": null,
   "metadata": {
    "execution": {
     "iopub.status.busy": "2024-01-17T04:18:06.6627Z",
     "iopub.status.idle": "2024-01-17T04:18:06.664244Z",
     "shell.execute_reply": "2024-01-17T04:18:06.66391Z",
     "shell.execute_reply.started": "2024-01-17T04:18:06.663869Z"
    }
   },
   "outputs": [],
   "source": [
    "# seed = np.random.seed(0)\n",
    "# from sklearn.ensemble import RandomForestRegressor\n",
    "# rfmodel = RandomForestRegressor(n_estimators = 1000,random_state = 0,criterion=\"absolute_error\")\n",
    "# rfmodel.fit(X_train,y_train)\n",
    "# print(\"MSE of Random Forest Regressor: \",mean_square_error(y_test,rfmodel.predict(X_test)))"
   ]
  },
  {
   "cell_type": "markdown",
   "metadata": {},
   "source": [
    "# Training Models to find best fit model"
   ]
  },
  {
   "cell_type": "markdown",
   "metadata": {},
   "source": [
    "first is the XGBRegressor"
   ]
  },
  {
   "cell_type": "markdown",
   "metadata": {},
   "source": [
    "https://www.geeksforgeeks.org/xgboost-for-regression/"
   ]
  },
  {
   "cell_type": "code",
   "execution_count": null,
   "metadata": {
    "execution": {
     "iopub.execute_input": "2024-01-17T04:19:20.538839Z",
     "iopub.status.busy": "2024-01-17T04:19:20.53715Z",
     "iopub.status.idle": "2024-01-17T04:19:21.675357Z",
     "shell.execute_reply": "2024-01-17T04:19:21.674087Z",
     "shell.execute_reply.started": "2024-01-17T04:19:20.538761Z"
    }
   },
   "outputs": [],
   "source": [
    "from xgboost import XGBRegressor\n",
    "\n",
    "xgb_regressor = XGBRegressor(random_state=0,learning_rate=0.5, max_depth=5, n_estimators=400)\n",
    "xgb_regressor.fit(X_train, y_train)"
   ]
  },
  {
   "cell_type": "code",
   "execution_count": null,
   "metadata": {
    "execution": {
     "iopub.execute_input": "2024-01-17T04:21:22.049517Z",
     "iopub.status.busy": "2024-01-17T04:21:22.049103Z",
     "iopub.status.idle": "2024-01-17T04:21:22.059384Z",
     "shell.execute_reply": "2024-01-17T04:21:22.05795Z",
     "shell.execute_reply.started": "2024-01-17T04:21:22.049486Z"
    }
   },
   "outputs": [],
   "source": [
    "y_test.head()"
   ]
  },
  {
   "cell_type": "code",
   "execution_count": null,
   "metadata": {
    "execution": {
     "iopub.execute_input": "2024-01-17T04:21:35.839436Z",
     "iopub.status.busy": "2024-01-17T04:21:35.839022Z",
     "iopub.status.idle": "2024-01-17T04:21:35.853971Z",
     "shell.execute_reply": "2024-01-17T04:21:35.851919Z",
     "shell.execute_reply.started": "2024-01-17T04:21:35.839405Z"
    }
   },
   "outputs": [],
   "source": [
    "print(f\"Mean Squared Error: {mean_squared_error(y_test, xgb_regressor.predict(X_test))}\")"
   ]
  },
  {
   "cell_type": "markdown",
   "metadata": {},
   "source": [
    "using LGBMRegressor\n",
    "https://lightgbm.readthedocs.io/en/latest/pythonapi/lightgbm.LGBMRegressor.html"
   ]
  },
  {
   "cell_type": "code",
   "execution_count": null,
   "metadata": {
    "execution": {
     "iopub.execute_input": "2024-01-17T04:19:31.598878Z",
     "iopub.status.busy": "2024-01-17T04:19:31.598443Z",
     "iopub.status.idle": "2024-01-17T04:20:00.977163Z",
     "shell.execute_reply": "2024-01-17T04:20:00.975843Z",
     "shell.execute_reply.started": "2024-01-17T04:19:31.598845Z"
    }
   },
   "outputs": [],
   "source": [
    "from lightgbm import LGBMRegressor\n",
    "from sklearn.metrics import mean_absolute_error\n",
    "lgbmodel = LGBMRegressor(random_state=0,max_depth= 8,n_estimators= 5000)\n",
    "lgbmodel.fit(X_train,y_train)\n",
    "print(\"MSE of Light Gradient Boosted Machine Regressor: \",mean_squared_error(y_test,lgbmodel.predict(X_test)))"
   ]
  },
  {
   "cell_type": "markdown",
   "metadata": {},
   "source": [
    "using CatBoostRegressor\n",
    "\n",
    "https://catboost.ai/en/docs/concepts/python-usages-examples"
   ]
  },
  {
   "cell_type": "code",
   "execution_count": null,
   "metadata": {
    "execution": {
     "iopub.execute_input": "2024-01-17T04:21:41.590707Z",
     "iopub.status.busy": "2024-01-17T04:21:41.589687Z",
     "iopub.status.idle": "2024-01-17T04:21:45.653077Z",
     "shell.execute_reply": "2024-01-17T04:21:45.652145Z",
     "shell.execute_reply.started": "2024-01-17T04:21:41.59067Z"
    }
   },
   "outputs": [],
   "source": [
    "from catboost import CatBoostRegressor\n",
    "catmodel = CatBoostRegressor(random_state = 0,loss_function=\"MAE\",verbose=False)\n",
    "catmodel.fit(X_train,y_train)\n",
    "print(\"MSE of Category Boosting Regressor: \",mean_squared_error(y_test,catmodel.predict(X_test)))"
   ]
  },
  {
   "cell_type": "markdown",
   "metadata": {},
   "source": [
    "# HyperParameter Tuning"
   ]
  },
  {
   "cell_type": "markdown",
   "metadata": {},
   "source": [
    "HyperParameter Tuning using RandomizedSearchCv (GridSearchCv is very computionally extensive)\n",
    "\n",
    "https://www.kdnuggets.com/hyperparameter-tuning-gridsearchcv-and-randomizedsearchcv-explained"
   ]
  },
  {
   "cell_type": "code",
   "execution_count": null,
   "metadata": {
    "execution": {
     "iopub.execute_input": "2024-01-17T04:21:48.733144Z",
     "iopub.status.busy": "2024-01-17T04:21:48.732388Z",
     "iopub.status.idle": "2024-01-17T04:22:25.333347Z",
     "shell.execute_reply": "2024-01-17T04:22:25.332339Z",
     "shell.execute_reply.started": "2024-01-17T04:21:48.733104Z"
    }
   },
   "outputs": [],
   "source": [
    "\n",
    "from sklearn.ensemble import RandomForestRegressor\n",
    "from sklearn.model_selection import RandomizedSearchCV\n",
    "from scipy.stats import randint\n",
    "random_forest = RandomForestRegressor(random_state=0)\n",
    "distributions = {\n",
    "    'n_estimators': randint(low=10, high=200),\n",
    "    'max_depth': randint(low=1, high=20),\n",
    "    'min_samples_split': randint(low=2, high=20),\n",
    "    'min_samples_leaf': randint(low=1, high=20),\n",
    "}\n",
    "rf_search = RandomizedSearchCV(random_forest, distributions, random_state=0)\n",
    "rf_search.fit(X_train, y_train)"
   ]
  },
  {
   "cell_type": "code",
   "execution_count": null,
   "metadata": {
    "execution": {
     "iopub.execute_input": "2024-01-17T04:23:08.294034Z",
     "iopub.status.busy": "2024-01-17T04:23:08.293653Z",
     "iopub.status.idle": "2024-01-17T04:23:08.302763Z",
     "shell.execute_reply": "2024-01-17T04:23:08.301202Z",
     "shell.execute_reply.started": "2024-01-17T04:23:08.294004Z"
    }
   },
   "outputs": [],
   "source": [
    "rf_search.best_params_"
   ]
  },
  {
   "cell_type": "code",
   "execution_count": null,
   "metadata": {
    "execution": {
     "iopub.execute_input": "2024-01-17T04:23:11.033629Z",
     "iopub.status.busy": "2024-01-17T04:23:11.03321Z",
     "iopub.status.idle": "2024-01-17T04:23:11.802113Z",
     "shell.execute_reply": "2024-01-17T04:23:11.801008Z",
     "shell.execute_reply.started": "2024-01-17T04:23:11.033597Z"
    }
   },
   "outputs": [],
   "source": [
    "best_params = rf_search.best_params_\n",
    "best_rf_model = RandomForestRegressor(random_state=0, **best_params)\n",
    "best_rf_model.fit(X_train, y_train)\n",
    "y_pred = best_rf_model.predict(X_test)"
   ]
  },
  {
   "cell_type": "code",
   "execution_count": null,
   "metadata": {
    "execution": {
     "iopub.execute_input": "2024-01-17T04:23:13.801539Z",
     "iopub.status.busy": "2024-01-17T04:23:13.801048Z",
     "iopub.status.idle": "2024-01-17T04:23:13.810929Z",
     "shell.execute_reply": "2024-01-17T04:23:13.809251Z",
     "shell.execute_reply.started": "2024-01-17T04:23:13.801502Z"
    }
   },
   "outputs": [],
   "source": [
    "mse = mean_squared_error(y_test, y_pred)\n",
    "print(f\"Mean Squared Error: {mse}\")"
   ]
  },
  {
   "cell_type": "markdown",
   "metadata": {},
   "source": [
    "least error is through XGBRegressor\n",
    "hence best model"
   ]
  },
  {
   "cell_type": "markdown",
   "metadata": {},
   "source": [
    "# Submission File"
   ]
  },
  {
   "cell_type": "code",
   "execution_count": null,
   "metadata": {
    "execution": {
     "iopub.execute_input": "2024-01-17T04:24:05.107005Z",
     "iopub.status.busy": "2024-01-17T04:24:05.105758Z",
     "iopub.status.idle": "2024-01-17T04:24:05.120531Z",
     "shell.execute_reply": "2024-01-17T04:24:05.119225Z",
     "shell.execute_reply.started": "2024-01-17T04:24:05.106955Z"
    }
   },
   "outputs": [],
   "source": [
    "submission = pd.read_csv('/share/dutta/eyao/dataset/kaggle/house-prices-advanced-regression-techniques/sample_submission.csv')"
   ]
  },
  {
   "cell_type": "code",
   "execution_count": null,
   "metadata": {
    "execution": {
     "iopub.execute_input": "2024-01-17T04:24:16.284167Z",
     "iopub.status.busy": "2024-01-17T04:24:16.283646Z",
     "iopub.status.idle": "2024-01-17T04:24:16.301346Z",
     "shell.execute_reply": "2024-01-17T04:24:16.299887Z",
     "shell.execute_reply.started": "2024-01-17T04:24:16.284128Z"
    }
   },
   "outputs": [],
   "source": [
    "submission.head()"
   ]
  },
  {
   "cell_type": "code",
   "execution_count": null,
   "metadata": {
    "execution": {
     "iopub.execute_input": "2024-01-17T04:24:18.899632Z",
     "iopub.status.busy": "2024-01-17T04:24:18.899114Z",
     "iopub.status.idle": "2024-01-17T04:24:18.921858Z",
     "shell.execute_reply": "2024-01-17T04:24:18.920816Z",
     "shell.execute_reply.started": "2024-01-17T04:24:18.899595Z"
    }
   },
   "outputs": [],
   "source": [
    "# test_without_id = test.drop('Id', axis=1)\n",
    "predictions = xgb_regressor.predict(X_val)"
   ]
  },
  {
   "cell_type": "code",
   "execution_count": null,
   "metadata": {
    "execution": {
     "iopub.execute_input": "2024-01-17T04:25:17.508619Z",
     "iopub.status.busy": "2024-01-17T04:25:17.508141Z",
     "iopub.status.idle": "2024-01-17T04:25:17.529103Z",
     "shell.execute_reply": "2024-01-17T04:25:17.527867Z",
     "shell.execute_reply.started": "2024-01-17T04:25:17.508585Z"
    }
   },
   "outputs": [],
   "source": [
    "# submission['SalePrice'] = predictions\n",
    "\n",
    "submission = pd.DataFrame({'Id': test.Id ,'SalePrice': predictions})\n",
    "\n",
    "submission.to_csv('submission.csv', index=False)\n",
    "\n",
    "print(submission.head())"
   ]
  },
  {
   "cell_type": "code",
   "execution_count": null,
   "metadata": {},
   "outputs": [],
   "source": []
  }
 ],
 "metadata": {
  "kaggle": {
   "accelerator": "none",
   "dataSources": [
    {
     "databundleVersionId": 868283,
     "sourceId": 5407,
     "sourceType": "competition"
    }
   ],
   "dockerImageVersionId": 30635,
   "isGpuEnabled": false,
   "isInternetEnabled": true,
   "language": "python",
   "sourceType": "notebook"
  },
  "kernelspec": {
   "display_name": "Python 3",
   "language": "python",
   "name": "python3"
  },
  "language_info": {
   "codemirror_mode": {
    "name": "ipython",
    "version": 3
   },
   "file_extension": ".py",
   "mimetype": "text/x-python",
   "name": "python",
   "nbconvert_exporter": "python",
   "pygments_lexer": "ipython3",
   "version": "3.10.12"
  }
 },
 "nbformat": 4,
 "nbformat_minor": 4
}
