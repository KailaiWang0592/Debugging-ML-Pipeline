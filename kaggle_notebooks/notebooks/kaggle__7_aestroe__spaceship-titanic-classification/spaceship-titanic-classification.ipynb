{
 "cells": [
  {
   "cell_type": "code",
   "execution_count": null,
   "metadata": {
    "_cell_guid": "b1076dfc-b9ad-4769-8c92-a6c4dae69d19",
    "_uuid": "8f2839f25d086af736a60e9eeb907d3b93b6e0e5",
    "execution": {
     "iopub.execute_input": "2024-01-21T16:50:27.835133Z",
     "iopub.status.busy": "2024-01-21T16:50:27.834688Z",
     "iopub.status.idle": "2024-01-21T16:50:27.844372Z",
     "shell.execute_reply": "2024-01-21T16:50:27.843249Z",
     "shell.execute_reply.started": "2024-01-21T16:50:27.835101Z"
    }
   },
   "outputs": [],
   "source": [
    "# This Python 3 environment comes with many helpful analytics libraries installed\n",
    "# It is defined by the kaggle/python Docker image: https://github.com/kaggle/docker-python\n",
    "# For example, here's several helpful packages to load\n",
    "\n",
    "import numpy as np # linear algebra\n",
    "import pandas as pd # data processing, CSV file I/O (e.g. pd.read_csv)\n",
    "\n",
    "# Input data files are available in the read-only \"/share/dutta/eyao/dataset/kaggle/\" directory\n",
    "# For example, running this (by clicking run or pressing Shift+Enter) will list all files under the input directory\n",
    "\n",
    "import os\n",
    "for dirname, _, filenames in os.walk('/share/dutta/eyao/dataset/kaggle'):\n",
    "    for filename in filenames:\n",
    "        print(os.path.join(dirname, filename))\n",
    "\n",
    "# You can write up to 20GB to the current directory () that gets preserved as output when you create a version using \"Save & Run All\" \n",
    "# You can also write temporary files to /kaggle/temp/, but they won't be saved outside of the current session"
   ]
  },
  {
   "cell_type": "markdown",
   "metadata": {},
   "source": [
    "# Importing Libraries"
   ]
  },
  {
   "cell_type": "code",
   "execution_count": null,
   "metadata": {
    "execution": {
     "iopub.execute_input": "2024-01-21T16:50:27.848977Z",
     "iopub.status.busy": "2024-01-21T16:50:27.848048Z",
     "iopub.status.idle": "2024-01-21T16:50:27.860165Z",
     "shell.execute_reply": "2024-01-21T16:50:27.858989Z",
     "shell.execute_reply.started": "2024-01-21T16:50:27.848922Z"
    }
   },
   "outputs": [],
   "source": [
    "import pandas as pd\n",
    "import numpy as np\n",
    "import matplotlib.pyplot as plt\n",
    "import seaborn as sns\n",
    "\n",
    "from sklearn.preprocessing import StandardScaler\n",
    "from sklearn.model_selection import train_test_split, GridSearchCV\n",
    "\n",
    "from sklearn.linear_model import LogisticRegression\n",
    "from sklearn.tree import DecisionTreeClassifier\n",
    "from sklearn.ensemble import RandomForestClassifier\n",
    "from xgboost import XGBClassifier\n",
    "import xgboost as xgb\n",
    "from lightgbm import LGBMClassifier\n",
    "import lightgbm as lgb\n",
    "from catboost import CatBoostClassifier\n",
    "from sklearn.metrics import accuracy_score, log_loss\n",
    "from sklearn.metrics import confusion_matrix\n",
    "from sklearn.metrics import classification_report\n",
    "\n",
    "from sklearn.preprocessing import LabelEncoder"
   ]
  },
  {
   "cell_type": "markdown",
   "metadata": {},
   "source": [
    "# Training and Testing Data"
   ]
  },
  {
   "cell_type": "code",
   "execution_count": null,
   "metadata": {
    "execution": {
     "iopub.execute_input": "2024-01-21T16:50:27.862149Z",
     "iopub.status.busy": "2024-01-21T16:50:27.861625Z",
     "iopub.status.idle": "2024-01-21T16:50:27.932309Z",
     "shell.execute_reply": "2024-01-21T16:50:27.931129Z",
     "shell.execute_reply.started": "2024-01-21T16:50:27.862118Z"
    }
   },
   "outputs": [],
   "source": [
    "train_data = pd.read_csv('/share/dutta/eyao/dataset/kaggle/spaceship-titanic/train.csv')\n",
    "test_data = pd.read_csv('/share/dutta/eyao/dataset/kaggle/spaceship-titanic/test.csv')\n",
    "sample_submission_data = pd.read_csv('/share/dutta/eyao/dataset/kaggle/spaceship-titanic/sample_submission.csv')"
   ]
  },
  {
   "cell_type": "code",
   "execution_count": null,
   "metadata": {
    "execution": {
     "iopub.execute_input": "2024-01-21T16:50:27.934279Z",
     "iopub.status.busy": "2024-01-21T16:50:27.933799Z",
     "iopub.status.idle": "2024-01-21T16:50:27.962247Z",
     "shell.execute_reply": "2024-01-21T16:50:27.960918Z",
     "shell.execute_reply.started": "2024-01-21T16:50:27.934235Z"
    }
   },
   "outputs": [],
   "source": [
    "train_data.head()"
   ]
  },
  {
   "cell_type": "code",
   "execution_count": null,
   "metadata": {
    "execution": {
     "iopub.execute_input": "2024-01-21T16:50:27.965845Z",
     "iopub.status.busy": "2024-01-21T16:50:27.965304Z",
     "iopub.status.idle": "2024-01-21T16:50:27.990577Z",
     "shell.execute_reply": "2024-01-21T16:50:27.989107Z",
     "shell.execute_reply.started": "2024-01-21T16:50:27.965808Z"
    }
   },
   "outputs": [],
   "source": [
    "test_data.head()"
   ]
  },
  {
   "cell_type": "code",
   "execution_count": null,
   "metadata": {
    "execution": {
     "iopub.execute_input": "2024-01-21T16:50:27.992755Z",
     "iopub.status.busy": "2024-01-21T16:50:27.99207Z",
     "iopub.status.idle": "2024-01-21T16:50:28.020428Z",
     "shell.execute_reply": "2024-01-21T16:50:28.0192Z",
     "shell.execute_reply.started": "2024-01-21T16:50:27.992719Z"
    }
   },
   "outputs": [],
   "source": [
    "train_data.info()"
   ]
  },
  {
   "cell_type": "code",
   "execution_count": null,
   "metadata": {
    "execution": {
     "iopub.execute_input": "2024-01-21T16:50:28.023505Z",
     "iopub.status.busy": "2024-01-21T16:50:28.022341Z",
     "iopub.status.idle": "2024-01-21T16:50:28.040679Z",
     "shell.execute_reply": "2024-01-21T16:50:28.039728Z",
     "shell.execute_reply.started": "2024-01-21T16:50:28.023462Z"
    }
   },
   "outputs": [],
   "source": [
    "train_data.isnull().sum()"
   ]
  },
  {
   "cell_type": "code",
   "execution_count": null,
   "metadata": {
    "execution": {
     "iopub.execute_input": "2024-01-21T16:50:28.043106Z",
     "iopub.status.busy": "2024-01-21T16:50:28.042016Z",
     "iopub.status.idle": "2024-01-21T16:50:28.052629Z",
     "shell.execute_reply": "2024-01-21T16:50:28.051778Z",
     "shell.execute_reply.started": "2024-01-21T16:50:28.043067Z"
    }
   },
   "outputs": [],
   "source": [
    "train_data.shape"
   ]
  },
  {
   "cell_type": "code",
   "execution_count": null,
   "metadata": {
    "execution": {
     "iopub.execute_input": "2024-01-21T16:50:28.054829Z",
     "iopub.status.busy": "2024-01-21T16:50:28.053855Z",
     "iopub.status.idle": "2024-01-21T16:50:28.088097Z",
     "shell.execute_reply": "2024-01-21T16:50:28.086723Z",
     "shell.execute_reply.started": "2024-01-21T16:50:28.054792Z"
    }
   },
   "outputs": [],
   "source": [
    "train_data.drop_duplicates(inplace = True)"
   ]
  },
  {
   "cell_type": "code",
   "execution_count": null,
   "metadata": {
    "execution": {
     "iopub.execute_input": "2024-01-21T16:50:28.090579Z",
     "iopub.status.busy": "2024-01-21T16:50:28.089983Z",
     "iopub.status.idle": "2024-01-21T16:50:28.099335Z",
     "shell.execute_reply": "2024-01-21T16:50:28.097853Z",
     "shell.execute_reply.started": "2024-01-21T16:50:28.090525Z"
    }
   },
   "outputs": [],
   "source": [
    "train_data.shape"
   ]
  },
  {
   "cell_type": "markdown",
   "metadata": {},
   "source": [
    "#### No duplicates"
   ]
  },
  {
   "cell_type": "code",
   "execution_count": null,
   "metadata": {
    "execution": {
     "iopub.execute_input": "2024-01-21T16:50:28.101711Z",
     "iopub.status.busy": "2024-01-21T16:50:28.1009Z",
     "iopub.status.idle": "2024-01-21T16:50:28.148775Z",
     "shell.execute_reply": "2024-01-21T16:50:28.147487Z",
     "shell.execute_reply.started": "2024-01-21T16:50:28.101666Z"
    }
   },
   "outputs": [],
   "source": [
    "train_data.describe()"
   ]
  },
  {
   "cell_type": "markdown",
   "metadata": {},
   "source": [
    "# Visualising data"
   ]
  },
  {
   "cell_type": "code",
   "execution_count": null,
   "metadata": {
    "execution": {
     "iopub.execute_input": "2024-01-21T16:50:28.151061Z",
     "iopub.status.busy": "2024-01-21T16:50:28.150566Z",
     "iopub.status.idle": "2024-01-21T16:50:28.472426Z",
     "shell.execute_reply": "2024-01-21T16:50:28.47126Z",
     "shell.execute_reply.started": "2024-01-21T16:50:28.151015Z"
    }
   },
   "outputs": [],
   "source": [
    "train_data['Age'].hist(figsize=(5,3), color='g')"
   ]
  },
  {
   "cell_type": "markdown",
   "metadata": {},
   "source": [
    "#### Majority of the people belong to the age group 15-25"
   ]
  },
  {
   "cell_type": "code",
   "execution_count": null,
   "metadata": {
    "execution": {
     "iopub.execute_input": "2024-01-21T16:50:28.479424Z",
     "iopub.status.busy": "2024-01-21T16:50:28.478302Z",
     "iopub.status.idle": "2024-01-21T16:50:28.796042Z",
     "shell.execute_reply": "2024-01-21T16:50:28.794914Z",
     "shell.execute_reply.started": "2024-01-21T16:50:28.479372Z"
    }
   },
   "outputs": [],
   "source": [
    "train_data['HomePlanet'].value_counts()\n",
    "sns.countplot(x = 'HomePlanet', hue = 'Transported' ,data = train_data)"
   ]
  },
  {
   "cell_type": "markdown",
   "metadata": {},
   "source": [
    "Transported means that the person was transported to another dimension"
   ]
  },
  {
   "cell_type": "code",
   "execution_count": null,
   "metadata": {
    "execution": {
     "iopub.execute_input": "2024-01-21T16:50:28.7982Z",
     "iopub.status.busy": "2024-01-21T16:50:28.797578Z",
     "iopub.status.idle": "2024-01-21T16:50:29.133121Z",
     "shell.execute_reply": "2024-01-21T16:50:29.132247Z",
     "shell.execute_reply.started": "2024-01-21T16:50:28.798153Z"
    }
   },
   "outputs": [],
   "source": [
    "train_data['CryoSleep'].value_counts()\n",
    "sns.countplot(x='CryoSleep', hue='Transported',data=train_data)"
   ]
  },
  {
   "cell_type": "code",
   "execution_count": null,
   "metadata": {
    "execution": {
     "iopub.execute_input": "2024-01-21T16:50:29.134981Z",
     "iopub.status.busy": "2024-01-21T16:50:29.134479Z",
     "iopub.status.idle": "2024-01-21T16:50:29.141512Z",
     "shell.execute_reply": "2024-01-21T16:50:29.140678Z",
     "shell.execute_reply.started": "2024-01-21T16:50:29.134949Z"
    }
   },
   "outputs": [],
   "source": [
    "train_data['Age'].mode()[0]"
   ]
  },
  {
   "cell_type": "code",
   "execution_count": null,
   "metadata": {
    "execution": {
     "iopub.execute_input": "2024-01-21T16:50:29.143251Z",
     "iopub.status.busy": "2024-01-21T16:50:29.142733Z",
     "iopub.status.idle": "2024-01-21T16:50:29.153602Z",
     "shell.execute_reply": "2024-01-21T16:50:29.152596Z",
     "shell.execute_reply.started": "2024-01-21T16:50:29.14322Z"
    }
   },
   "outputs": [],
   "source": [
    "train_data['Age'].median()"
   ]
  },
  {
   "cell_type": "markdown",
   "metadata": {},
   "source": [
    "# Handling Missing Values"
   ]
  },
  {
   "cell_type": "code",
   "execution_count": null,
   "metadata": {
    "execution": {
     "iopub.execute_input": "2024-01-21T16:50:29.155778Z",
     "iopub.status.busy": "2024-01-21T16:50:29.155426Z",
     "iopub.status.idle": "2024-01-21T16:50:29.214822Z",
     "shell.execute_reply": "2024-01-21T16:50:29.213592Z",
     "shell.execute_reply.started": "2024-01-21T16:50:29.155747Z"
    }
   },
   "outputs": [],
   "source": [
    "for col_name in train_data.columns:\n",
    "    if train_data[col_name].dtypes=='object':\n",
    "        train_data[col_name] = train_data[col_name].fillna(train_data[col_name].mode()[0])\n",
    "    else:\n",
    "        train_data[col_name] = train_data[col_name].fillna(train_data[col_name].median())\n",
    "print(train_data.shape)"
   ]
  },
  {
   "cell_type": "code",
   "execution_count": null,
   "metadata": {
    "execution": {
     "iopub.execute_input": "2024-01-21T16:50:29.216614Z",
     "iopub.status.busy": "2024-01-21T16:50:29.216268Z",
     "iopub.status.idle": "2024-01-21T16:50:29.254348Z",
     "shell.execute_reply": "2024-01-21T16:50:29.253083Z",
     "shell.execute_reply.started": "2024-01-21T16:50:29.216584Z"
    }
   },
   "outputs": [],
   "source": [
    "for col_name in test_data.columns:\n",
    "    if test_data[col_name].dtypes=='object':\n",
    "        test_data[col_name] = test_data[col_name].fillna(test_data[col_name].mode()[0])\n",
    "    else:\n",
    "        test_data[col_name] = test_data[col_name].fillna(test_data[col_name].median())\n",
    "print(test_data.shape)"
   ]
  },
  {
   "cell_type": "markdown",
   "metadata": {},
   "source": [
    "# Encoding Values"
   ]
  },
  {
   "cell_type": "code",
   "execution_count": null,
   "metadata": {
    "execution": {
     "iopub.execute_input": "2024-01-21T16:50:29.256235Z",
     "iopub.status.busy": "2024-01-21T16:50:29.255854Z",
     "iopub.status.idle": "2024-01-21T16:50:29.340766Z",
     "shell.execute_reply": "2024-01-21T16:50:29.339407Z",
     "shell.execute_reply.started": "2024-01-21T16:50:29.256192Z"
    }
   },
   "outputs": [],
   "source": [
    "encoder = LabelEncoder()\n",
    "for col_name in train_data.columns:\n",
    "    if train_data[col_name].dtypes == 'object':\n",
    "        train_data[col_name] = encoder.fit_transform(train_data[col_name])"
   ]
  },
  {
   "cell_type": "code",
   "execution_count": null,
   "metadata": {
    "execution": {
     "iopub.execute_input": "2024-01-21T16:50:29.342521Z",
     "iopub.status.busy": "2024-01-21T16:50:29.342137Z",
     "iopub.status.idle": "2024-01-21T16:50:29.374602Z",
     "shell.execute_reply": "2024-01-21T16:50:29.373587Z",
     "shell.execute_reply.started": "2024-01-21T16:50:29.34249Z"
    }
   },
   "outputs": [],
   "source": [
    "object_columns = test_data.select_dtypes(include='object').columns.difference(['PassengerId'])\n",
    "encoder = LabelEncoder()\n",
    "for col_name in object_columns:\n",
    "    if test_data[col_name].dtype == 'object':\n",
    "        test_data[col_name] = encoder.fit_transform(test_data[col_name])"
   ]
  },
  {
   "cell_type": "code",
   "execution_count": null,
   "metadata": {
    "execution": {
     "iopub.execute_input": "2024-01-21T16:50:29.376669Z",
     "iopub.status.busy": "2024-01-21T16:50:29.376209Z",
     "iopub.status.idle": "2024-01-21T16:50:30.653836Z",
     "shell.execute_reply": "2024-01-21T16:50:30.652686Z",
     "shell.execute_reply.started": "2024-01-21T16:50:29.376636Z"
    }
   },
   "outputs": [],
   "source": [
    "plt.figure(figsize=(18,12))\n",
    "sns.heatmap(train_data.corr(), annot=True, cmap='coolwarm', fmt=\".2f\")"
   ]
  },
  {
   "cell_type": "markdown",
   "metadata": {},
   "source": [
    "# Building the Model"
   ]
  },
  {
   "cell_type": "code",
   "execution_count": null,
   "metadata": {
    "execution": {
     "iopub.execute_input": "2024-01-21T16:50:30.656472Z",
     "iopub.status.busy": "2024-01-21T16:50:30.655272Z",
     "iopub.status.idle": "2024-01-21T16:50:30.667519Z",
     "shell.execute_reply": "2024-01-21T16:50:30.666272Z",
     "shell.execute_reply.started": "2024-01-21T16:50:30.656429Z"
    }
   },
   "outputs": [],
   "source": [
    "X_train = train_data.drop(['Transported','PassengerId','Name','ShoppingMall'], axis=1)\n",
    "y_train = train_data['Transported']\n",
    "X_test = test_data.drop(['PassengerId','Name','ShoppingMall'], axis=1)"
   ]
  },
  {
   "cell_type": "code",
   "execution_count": null,
   "metadata": {
    "execution": {
     "iopub.execute_input": "2024-01-21T16:50:30.671914Z",
     "iopub.status.busy": "2024-01-21T16:50:30.671146Z",
     "iopub.status.idle": "2024-01-21T16:50:30.695594Z",
     "shell.execute_reply": "2024-01-21T16:50:30.69457Z",
     "shell.execute_reply.started": "2024-01-21T16:50:30.671879Z"
    }
   },
   "outputs": [],
   "source": [
    "sc = StandardScaler()\n",
    "X_train = sc.fit_transform(X_train)\n",
    "X_test = sc.transform(X_test)"
   ]
  },
  {
   "cell_type": "markdown",
   "metadata": {},
   "source": [
    "## Using XGBoost"
   ]
  },
  {
   "cell_type": "code",
   "execution_count": null,
   "metadata": {
    "execution": {
     "iopub.execute_input": "2024-01-21T16:50:30.697699Z",
     "iopub.status.busy": "2024-01-21T16:50:30.696985Z",
     "iopub.status.idle": "2024-01-21T16:50:31.234741Z",
     "shell.execute_reply": "2024-01-21T16:50:31.233797Z",
     "shell.execute_reply.started": "2024-01-21T16:50:30.697654Z"
    }
   },
   "outputs": [],
   "source": [
    "model_XGB = XGBClassifier(learning_rate = 0.1 , max_depth = 4, n_estimators = 100)\n",
    "model_XGB.fit(X_train, y_train)\n",
    "XGB_pred = model_XGB.predict(X_test)"
   ]
  },
  {
   "cell_type": "markdown",
   "metadata": {},
   "source": [
    "### HyperParameter Tuning"
   ]
  },
  {
   "cell_type": "code",
   "execution_count": null,
   "metadata": {
    "execution": {
     "iopub.execute_input": "2024-01-21T16:50:31.237049Z",
     "iopub.status.busy": "2024-01-21T16:50:31.236328Z",
     "iopub.status.idle": "2024-01-21T16:50:31.245226Z",
     "shell.execute_reply": "2024-01-21T16:50:31.244279Z",
     "shell.execute_reply.started": "2024-01-21T16:50:31.237006Z"
    }
   },
   "outputs": [],
   "source": [
    "# param_grid = {\n",
    "#     'learning_rate': [0.01, 0.1, 0.2],\n",
    "#     'max_depth': [3, 4, 5, 7, 8, 10],\n",
    "#     'n_estimators': [50, 100, 150, 200]\n",
    "# }"
   ]
  },
  {
   "cell_type": "code",
   "execution_count": null,
   "metadata": {
    "execution": {
     "iopub.execute_input": "2024-01-21T16:51:04.451156Z",
     "iopub.status.busy": "2024-01-21T16:51:04.450676Z",
     "iopub.status.idle": "2024-01-21T16:51:04.45775Z",
     "shell.execute_reply": "2024-01-21T16:51:04.456383Z",
     "shell.execute_reply.started": "2024-01-21T16:51:04.451122Z"
    }
   },
   "outputs": [],
   "source": [
    "# grid_search = GridSearchCV(estimator = model_XGB,param_grid = param_grid, cv = 5, scoring = 'roc_auc' )"
   ]
  },
  {
   "cell_type": "code",
   "execution_count": null,
   "metadata": {
    "execution": {
     "iopub.execute_input": "2024-01-21T16:51:07.044417Z",
     "iopub.status.busy": "2024-01-21T16:51:07.043982Z",
     "iopub.status.idle": "2024-01-21T16:52:31.283653Z",
     "shell.execute_reply": "2024-01-21T16:52:31.282789Z",
     "shell.execute_reply.started": "2024-01-21T16:51:07.044376Z"
    }
   },
   "outputs": [],
   "source": [
    "# grid_search.fit(X_train, y_train)"
   ]
  },
  {
   "cell_type": "code",
   "execution_count": null,
   "metadata": {
    "execution": {
     "iopub.execute_input": "2024-01-21T16:55:02.696585Z",
     "iopub.status.busy": "2024-01-21T16:55:02.696085Z",
     "iopub.status.idle": "2024-01-21T16:55:02.703693Z",
     "shell.execute_reply": "2024-01-21T16:55:02.702411Z",
     "shell.execute_reply.started": "2024-01-21T16:55:02.696552Z"
    }
   },
   "outputs": [],
   "source": [
    "# best_params = grid_search.best_params_\n",
    "# print(\"Best Hyperparameters:\", best_params)"
   ]
  },
  {
   "cell_type": "markdown",
   "metadata": {},
   "source": [
    "# Final Submission"
   ]
  },
  {
   "cell_type": "code",
   "execution_count": null,
   "metadata": {
    "execution": {
     "iopub.execute_input": "2024-01-21T16:55:49.942533Z",
     "iopub.status.busy": "2024-01-21T16:55:49.942021Z",
     "iopub.status.idle": "2024-01-21T16:55:49.953464Z",
     "shell.execute_reply": "2024-01-21T16:55:49.952393Z",
     "shell.execute_reply.started": "2024-01-21T16:55:49.942496Z"
    }
   },
   "outputs": [],
   "source": [
    "submission = pd.DataFrame({\n",
    "    'PassengerId': test_data.PassengerId,\n",
    "    'Transported': XGB_pred\n",
    "})\n",
    "submission['Transported'] = submission['Transported'].astype(bool)\n",
    "print(submission.head())"
   ]
  },
  {
   "cell_type": "code",
   "execution_count": null,
   "metadata": {
    "execution": {
     "iopub.execute_input": "2024-01-21T16:55:52.504434Z",
     "iopub.status.busy": "2024-01-21T16:55:52.503506Z",
     "iopub.status.idle": "2024-01-21T16:55:52.52391Z",
     "shell.execute_reply": "2024-01-21T16:55:52.522729Z",
     "shell.execute_reply.started": "2024-01-21T16:55:52.504381Z"
    }
   },
   "outputs": [],
   "source": [
    "submission.to_csv('submission.csv', index = False)"
   ]
  },
  {
   "cell_type": "code",
   "execution_count": null,
   "metadata": {},
   "outputs": [],
   "source": []
  }
 ],
 "metadata": {
  "kaggle": {
   "accelerator": "none",
   "dataSources": [
    {
     "databundleVersionId": 3220602,
     "sourceId": 34377,
     "sourceType": "competition"
    }
   ],
   "dockerImageVersionId": 30635,
   "isGpuEnabled": false,
   "isInternetEnabled": true,
   "language": "python",
   "sourceType": "notebook"
  },
  "kernelspec": {
   "display_name": "Python 3",
   "language": "python",
   "name": "python3"
  },
  "language_info": {
   "codemirror_mode": {
    "name": "ipython",
    "version": 3
   },
   "file_extension": ".py",
   "mimetype": "text/x-python",
   "name": "python",
   "nbconvert_exporter": "python",
   "pygments_lexer": "ipython3",
   "version": "3.10.12"
  }
 },
 "nbformat": 4,
 "nbformat_minor": 4
}
