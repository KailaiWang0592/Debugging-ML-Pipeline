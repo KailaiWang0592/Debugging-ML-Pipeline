{
 "cells": [
  {
   "cell_type": "markdown",
   "metadata": {},
   "source": [
    "# import libraries"
   ]
  },
  {
   "cell_type": "code",
   "execution_count": null,
   "metadata": {
    "execution": {
     "iopub.execute_input": "2023-08-15T11:16:08.139171Z",
     "iopub.status.busy": "2023-08-15T11:16:08.138282Z",
     "iopub.status.idle": "2023-08-15T11:16:09.088317Z",
     "shell.execute_reply": "2023-08-15T11:16:09.0873Z",
     "shell.execute_reply.started": "2023-08-15T11:16:08.139112Z"
    }
   },
   "outputs": [],
   "source": [
    "import numpy as np\n",
    "import pandas as pd\n",
    "import plotly.express as px\n",
    "import sklearn"
   ]
  },
  {
   "cell_type": "markdown",
   "metadata": {},
   "source": [
    "# import dataset"
   ]
  },
  {
   "cell_type": "code",
   "execution_count": null,
   "metadata": {
    "execution": {
     "iopub.execute_input": "2023-08-15T11:16:09.091108Z",
     "iopub.status.busy": "2023-08-15T11:16:09.090209Z",
     "iopub.status.idle": "2023-08-15T11:16:09.117881Z",
     "shell.execute_reply": "2023-08-15T11:16:09.116536Z",
     "shell.execute_reply.started": "2023-08-15T11:16:09.091054Z"
    }
   },
   "outputs": [],
   "source": [
    "sample_submission = pd.read_csv('/share/dutta/eyao/dataset/kaggle/spaceship-titanic/sample_submission.csv')\n",
    "sample_submission.head()"
   ]
  },
  {
   "cell_type": "code",
   "execution_count": null,
   "metadata": {
    "execution": {
     "iopub.execute_input": "2023-08-15T11:16:09.120565Z",
     "iopub.status.busy": "2023-08-15T11:16:09.119704Z",
     "iopub.status.idle": "2023-08-15T11:16:09.167339Z",
     "shell.execute_reply": "2023-08-15T11:16:09.166313Z",
     "shell.execute_reply.started": "2023-08-15T11:16:09.120512Z"
    }
   },
   "outputs": [],
   "source": [
    "test = pd.read_csv('/share/dutta/eyao/dataset/kaggle/spaceship-titanic/test.csv')\n",
    "test.head()"
   ]
  },
  {
   "cell_type": "code",
   "execution_count": null,
   "metadata": {
    "execution": {
     "iopub.execute_input": "2023-08-15T11:16:09.172456Z",
     "iopub.status.busy": "2023-08-15T11:16:09.171646Z",
     "iopub.status.idle": "2023-08-15T11:16:09.236044Z",
     "shell.execute_reply": "2023-08-15T11:16:09.234954Z",
     "shell.execute_reply.started": "2023-08-15T11:16:09.172413Z"
    }
   },
   "outputs": [],
   "source": [
    "train = pd.read_csv('/share/dutta/eyao/dataset/kaggle/spaceship-titanic/train.csv')\n",
    "train.head()"
   ]
  },
  {
   "cell_type": "markdown",
   "metadata": {},
   "source": [
    "# data processing and prepare"
   ]
  },
  {
   "cell_type": "markdown",
   "metadata": {},
   "source": [
    "# train data"
   ]
  },
  {
   "cell_type": "code",
   "execution_count": null,
   "metadata": {
    "execution": {
     "iopub.execute_input": "2023-08-15T11:16:09.238246Z",
     "iopub.status.busy": "2023-08-15T11:16:09.237584Z",
     "iopub.status.idle": "2023-08-15T11:16:09.276119Z",
     "shell.execute_reply": "2023-08-15T11:16:09.27511Z",
     "shell.execute_reply.started": "2023-08-15T11:16:09.238203Z"
    }
   },
   "outputs": [],
   "source": [
    "train.info()"
   ]
  },
  {
   "cell_type": "code",
   "execution_count": null,
   "metadata": {
    "execution": {
     "iopub.execute_input": "2023-08-15T11:16:09.278537Z",
     "iopub.status.busy": "2023-08-15T11:16:09.27782Z",
     "iopub.status.idle": "2023-08-15T11:16:09.309761Z",
     "shell.execute_reply": "2023-08-15T11:16:09.308261Z",
     "shell.execute_reply.started": "2023-08-15T11:16:09.278496Z"
    }
   },
   "outputs": [],
   "source": [
    "train.isnull().sum()"
   ]
  },
  {
   "cell_type": "code",
   "execution_count": null,
   "metadata": {
    "execution": {
     "iopub.execute_input": "2023-08-15T11:16:09.312315Z",
     "iopub.status.busy": "2023-08-15T11:16:09.31181Z",
     "iopub.status.idle": "2023-08-15T11:16:09.320578Z",
     "shell.execute_reply": "2023-08-15T11:16:09.319406Z",
     "shell.execute_reply.started": "2023-08-15T11:16:09.312276Z"
    }
   },
   "outputs": [],
   "source": [
    "train['Age'].fillna(train['Age'].mean().round(0),inplace=True)"
   ]
  },
  {
   "cell_type": "code",
   "execution_count": null,
   "metadata": {
    "execution": {
     "iopub.execute_input": "2023-08-15T11:16:09.322722Z",
     "iopub.status.busy": "2023-08-15T11:16:09.322214Z",
     "iopub.status.idle": "2023-08-15T11:16:09.333703Z",
     "shell.execute_reply": "2023-08-15T11:16:09.332697Z",
     "shell.execute_reply.started": "2023-08-15T11:16:09.322689Z"
    }
   },
   "outputs": [],
   "source": [
    "train['FoodCourt'].fillna(train['FoodCourt'].mean(),inplace=True)"
   ]
  },
  {
   "cell_type": "code",
   "execution_count": null,
   "metadata": {
    "execution": {
     "iopub.execute_input": "2023-08-15T11:16:09.335412Z",
     "iopub.status.busy": "2023-08-15T11:16:09.334996Z",
     "iopub.status.idle": "2023-08-15T11:16:09.349739Z",
     "shell.execute_reply": "2023-08-15T11:16:09.348238Z",
     "shell.execute_reply.started": "2023-08-15T11:16:09.335375Z"
    }
   },
   "outputs": [],
   "source": [
    "train['RoomService'].fillna(train['RoomService'].mean(),inplace=True)"
   ]
  },
  {
   "cell_type": "code",
   "execution_count": null,
   "metadata": {
    "execution": {
     "iopub.execute_input": "2023-08-15T11:16:09.352354Z",
     "iopub.status.busy": "2023-08-15T11:16:09.351514Z",
     "iopub.status.idle": "2023-08-15T11:16:09.363054Z",
     "shell.execute_reply": "2023-08-15T11:16:09.36158Z",
     "shell.execute_reply.started": "2023-08-15T11:16:09.352287Z"
    }
   },
   "outputs": [],
   "source": [
    "train['ShoppingMall'].fillna(train['ShoppingMall'].mean(),inplace=True)"
   ]
  },
  {
   "cell_type": "code",
   "execution_count": null,
   "metadata": {
    "execution": {
     "iopub.execute_input": "2023-08-15T11:16:09.365601Z",
     "iopub.status.busy": "2023-08-15T11:16:09.364757Z",
     "iopub.status.idle": "2023-08-15T11:16:09.375249Z",
     "shell.execute_reply": "2023-08-15T11:16:09.37429Z",
     "shell.execute_reply.started": "2023-08-15T11:16:09.365538Z"
    }
   },
   "outputs": [],
   "source": [
    "train['Spa'].fillna(train['Spa'].mean(),inplace=True)"
   ]
  },
  {
   "cell_type": "code",
   "execution_count": null,
   "metadata": {
    "execution": {
     "iopub.execute_input": "2023-08-15T11:16:09.377606Z",
     "iopub.status.busy": "2023-08-15T11:16:09.376832Z",
     "iopub.status.idle": "2023-08-15T11:16:09.387798Z",
     "shell.execute_reply": "2023-08-15T11:16:09.386412Z",
     "shell.execute_reply.started": "2023-08-15T11:16:09.377564Z"
    }
   },
   "outputs": [],
   "source": [
    "train['VRDeck'].fillna(train['VRDeck'].mean(),inplace=True)"
   ]
  },
  {
   "cell_type": "code",
   "execution_count": null,
   "metadata": {
    "execution": {
     "iopub.execute_input": "2023-08-15T11:16:09.396202Z",
     "iopub.status.busy": "2023-08-15T11:16:09.395136Z",
     "iopub.status.idle": "2023-08-15T11:16:09.428335Z",
     "shell.execute_reply": "2023-08-15T11:16:09.427079Z",
     "shell.execute_reply.started": "2023-08-15T11:16:09.396155Z"
    }
   },
   "outputs": [],
   "source": [
    "train.isnull().sum()"
   ]
  },
  {
   "cell_type": "code",
   "execution_count": null,
   "metadata": {
    "execution": {
     "iopub.execute_input": "2023-08-15T11:16:09.43086Z",
     "iopub.status.busy": "2023-08-15T11:16:09.429959Z",
     "iopub.status.idle": "2023-08-15T11:16:09.437547Z",
     "shell.execute_reply": "2023-08-15T11:16:09.436509Z",
     "shell.execute_reply.started": "2023-08-15T11:16:09.430818Z"
    }
   },
   "outputs": [],
   "source": [
    "train.drop(columns=['HomePlanet','CryoSleep','Cabin','Destination','VIP','Name'],axis=1,inplace=True)"
   ]
  },
  {
   "cell_type": "code",
   "execution_count": null,
   "metadata": {
    "execution": {
     "iopub.execute_input": "2023-08-15T11:16:09.439476Z",
     "iopub.status.busy": "2023-08-15T11:16:09.439014Z",
     "iopub.status.idle": "2023-08-15T11:16:09.462396Z",
     "shell.execute_reply": "2023-08-15T11:16:09.460899Z",
     "shell.execute_reply.started": "2023-08-15T11:16:09.43944Z"
    }
   },
   "outputs": [],
   "source": [
    "train.isnull().sum()"
   ]
  },
  {
   "cell_type": "code",
   "execution_count": null,
   "metadata": {
    "execution": {
     "iopub.execute_input": "2023-08-15T11:16:09.464929Z",
     "iopub.status.busy": "2023-08-15T11:16:09.464158Z",
     "iopub.status.idle": "2023-08-15T11:16:09.484344Z",
     "shell.execute_reply": "2023-08-15T11:16:09.482872Z",
     "shell.execute_reply.started": "2023-08-15T11:16:09.464888Z"
    }
   },
   "outputs": [],
   "source": [
    "train.duplicated().sum()"
   ]
  },
  {
   "cell_type": "markdown",
   "metadata": {},
   "source": [
    "# test data"
   ]
  },
  {
   "cell_type": "code",
   "execution_count": null,
   "metadata": {
    "execution": {
     "iopub.execute_input": "2023-08-15T11:16:09.486528Z",
     "iopub.status.busy": "2023-08-15T11:16:09.486025Z",
     "iopub.status.idle": "2023-08-15T11:16:09.515829Z",
     "shell.execute_reply": "2023-08-15T11:16:09.514518Z",
     "shell.execute_reply.started": "2023-08-15T11:16:09.486486Z"
    }
   },
   "outputs": [],
   "source": [
    "test.info()"
   ]
  },
  {
   "cell_type": "code",
   "execution_count": null,
   "metadata": {
    "execution": {
     "iopub.execute_input": "2023-08-15T11:16:09.519898Z",
     "iopub.status.busy": "2023-08-15T11:16:09.518488Z",
     "iopub.status.idle": "2023-08-15T11:16:09.540162Z",
     "shell.execute_reply": "2023-08-15T11:16:09.53865Z",
     "shell.execute_reply.started": "2023-08-15T11:16:09.519845Z"
    }
   },
   "outputs": [],
   "source": [
    "test.isnull().sum()"
   ]
  },
  {
   "cell_type": "code",
   "execution_count": null,
   "metadata": {
    "execution": {
     "iopub.execute_input": "2023-08-15T11:16:09.542922Z",
     "iopub.status.busy": "2023-08-15T11:16:09.542107Z",
     "iopub.status.idle": "2023-08-15T11:16:09.552408Z",
     "shell.execute_reply": "2023-08-15T11:16:09.551234Z",
     "shell.execute_reply.started": "2023-08-15T11:16:09.542859Z"
    }
   },
   "outputs": [],
   "source": [
    "test['Age'].fillna(test['Age'].mean().round(0),inplace=True)"
   ]
  },
  {
   "cell_type": "code",
   "execution_count": null,
   "metadata": {
    "execution": {
     "iopub.execute_input": "2023-08-15T11:16:09.554683Z",
     "iopub.status.busy": "2023-08-15T11:16:09.554256Z",
     "iopub.status.idle": "2023-08-15T11:16:09.568124Z",
     "shell.execute_reply": "2023-08-15T11:16:09.566745Z",
     "shell.execute_reply.started": "2023-08-15T11:16:09.554649Z"
    }
   },
   "outputs": [],
   "source": [
    "test['FoodCourt'].fillna(test['FoodCourt'].mean(),inplace=True)"
   ]
  },
  {
   "cell_type": "code",
   "execution_count": null,
   "metadata": {
    "execution": {
     "iopub.execute_input": "2023-08-15T11:16:09.570287Z",
     "iopub.status.busy": "2023-08-15T11:16:09.569803Z",
     "iopub.status.idle": "2023-08-15T11:16:09.58273Z",
     "shell.execute_reply": "2023-08-15T11:16:09.58107Z",
     "shell.execute_reply.started": "2023-08-15T11:16:09.570248Z"
    }
   },
   "outputs": [],
   "source": [
    "test['RoomService'].fillna(test['RoomService'].mean(),inplace=True)"
   ]
  },
  {
   "cell_type": "code",
   "execution_count": null,
   "metadata": {
    "execution": {
     "iopub.execute_input": "2023-08-15T11:16:09.586108Z",
     "iopub.status.busy": "2023-08-15T11:16:09.584636Z",
     "iopub.status.idle": "2023-08-15T11:16:09.598496Z",
     "shell.execute_reply": "2023-08-15T11:16:09.597304Z",
     "shell.execute_reply.started": "2023-08-15T11:16:09.58605Z"
    }
   },
   "outputs": [],
   "source": [
    "test['ShoppingMall'].fillna(test['ShoppingMall'].mean(),inplace=True)"
   ]
  },
  {
   "cell_type": "code",
   "execution_count": null,
   "metadata": {
    "execution": {
     "iopub.execute_input": "2023-08-15T11:16:09.603195Z",
     "iopub.status.busy": "2023-08-15T11:16:09.6024Z",
     "iopub.status.idle": "2023-08-15T11:16:09.612555Z",
     "shell.execute_reply": "2023-08-15T11:16:09.611109Z",
     "shell.execute_reply.started": "2023-08-15T11:16:09.603154Z"
    }
   },
   "outputs": [],
   "source": [
    "test['Spa'].fillna(test['Spa'].mean(),inplace=True)"
   ]
  },
  {
   "cell_type": "code",
   "execution_count": null,
   "metadata": {
    "execution": {
     "iopub.execute_input": "2023-08-15T11:16:09.615004Z",
     "iopub.status.busy": "2023-08-15T11:16:09.614226Z",
     "iopub.status.idle": "2023-08-15T11:16:09.62784Z",
     "shell.execute_reply": "2023-08-15T11:16:09.626485Z",
     "shell.execute_reply.started": "2023-08-15T11:16:09.614944Z"
    }
   },
   "outputs": [],
   "source": [
    "test['VRDeck'].fillna(test['VRDeck'].mean(),inplace=True)"
   ]
  },
  {
   "cell_type": "code",
   "execution_count": null,
   "metadata": {
    "execution": {
     "iopub.execute_input": "2023-08-15T11:16:09.630351Z",
     "iopub.status.busy": "2023-08-15T11:16:09.629757Z",
     "iopub.status.idle": "2023-08-15T11:16:09.656154Z",
     "shell.execute_reply": "2023-08-15T11:16:09.65465Z",
     "shell.execute_reply.started": "2023-08-15T11:16:09.630311Z"
    }
   },
   "outputs": [],
   "source": [
    "test.isnull().sum()"
   ]
  },
  {
   "cell_type": "code",
   "execution_count": null,
   "metadata": {
    "execution": {
     "iopub.execute_input": "2023-08-15T11:16:09.659153Z",
     "iopub.status.busy": "2023-08-15T11:16:09.658192Z",
     "iopub.status.idle": "2023-08-15T11:16:09.667716Z",
     "shell.execute_reply": "2023-08-15T11:16:09.666437Z",
     "shell.execute_reply.started": "2023-08-15T11:16:09.659095Z"
    }
   },
   "outputs": [],
   "source": [
    "test.drop(columns=['HomePlanet','CryoSleep','Cabin','Destination','VIP','Name'],axis=1,inplace=True)"
   ]
  },
  {
   "cell_type": "code",
   "execution_count": null,
   "metadata": {
    "execution": {
     "iopub.execute_input": "2023-08-15T11:16:09.670674Z",
     "iopub.status.busy": "2023-08-15T11:16:09.669641Z",
     "iopub.status.idle": "2023-08-15T11:16:09.688805Z",
     "shell.execute_reply": "2023-08-15T11:16:09.687301Z",
     "shell.execute_reply.started": "2023-08-15T11:16:09.670616Z"
    }
   },
   "outputs": [],
   "source": [
    "test.isnull().sum()"
   ]
  },
  {
   "cell_type": "code",
   "execution_count": null,
   "metadata": {
    "execution": {
     "iopub.execute_input": "2023-08-15T11:16:09.691685Z",
     "iopub.status.busy": "2023-08-15T11:16:09.69084Z",
     "iopub.status.idle": "2023-08-15T11:16:09.703462Z",
     "shell.execute_reply": "2023-08-15T11:16:09.702096Z",
     "shell.execute_reply.started": "2023-08-15T11:16:09.691632Z"
    }
   },
   "outputs": [],
   "source": [
    "test.duplicated().sum()"
   ]
  },
  {
   "cell_type": "markdown",
   "metadata": {},
   "source": [
    "# analysis"
   ]
  },
  {
   "cell_type": "code",
   "execution_count": null,
   "metadata": {
    "execution": {
     "iopub.execute_input": "2023-08-15T11:16:09.705943Z",
     "iopub.status.busy": "2023-08-15T11:16:09.705417Z",
     "iopub.status.idle": "2023-08-15T11:16:09.725659Z",
     "shell.execute_reply": "2023-08-15T11:16:09.724292Z",
     "shell.execute_reply.started": "2023-08-15T11:16:09.705893Z"
    }
   },
   "outputs": [],
   "source": [
    "train.head(2)"
   ]
  },
  {
   "cell_type": "code",
   "execution_count": null,
   "metadata": {
    "execution": {
     "iopub.execute_input": "2023-08-15T11:16:09.72794Z",
     "iopub.status.busy": "2023-08-15T11:16:09.727519Z",
     "iopub.status.idle": "2023-08-15T11:16:10.090342Z",
     "shell.execute_reply": "2023-08-15T11:16:10.08914Z",
     "shell.execute_reply.started": "2023-08-15T11:16:09.727904Z"
    }
   },
   "outputs": [],
   "source": [
    "px.imshow(train.corr(numeric_only=True),aspect=True,text_auto=True,color_continuous_scale='Blues')"
   ]
  },
  {
   "cell_type": "code",
   "execution_count": null,
   "metadata": {
    "execution": {
     "iopub.execute_input": "2023-08-15T11:16:10.092431Z",
     "iopub.status.busy": "2023-08-15T11:16:10.091951Z",
     "iopub.status.idle": "2023-08-15T11:16:10.209249Z",
     "shell.execute_reply": "2023-08-15T11:16:10.207941Z",
     "shell.execute_reply.started": "2023-08-15T11:16:10.092389Z"
    }
   },
   "outputs": [],
   "source": [
    "px.bar(train.pivot_table(index='Age',columns='Transported',values='PassengerId',aggfunc='count'),barmode='group',height=400)"
   ]
  },
  {
   "cell_type": "code",
   "execution_count": null,
   "metadata": {
    "execution": {
     "iopub.execute_input": "2023-08-15T11:16:10.211616Z",
     "iopub.status.busy": "2023-08-15T11:16:10.21118Z",
     "iopub.status.idle": "2023-08-15T11:16:10.317111Z",
     "shell.execute_reply": "2023-08-15T11:16:10.31566Z",
     "shell.execute_reply.started": "2023-08-15T11:16:10.211577Z"
    }
   },
   "outputs": [],
   "source": [
    "px.bar(train.pivot_table(index='Age',columns='Transported',values='PassengerId',aggfunc='count'),barmode='group',height=400)"
   ]
  },
  {
   "cell_type": "code",
   "execution_count": null,
   "metadata": {
    "execution": {
     "iopub.execute_input": "2023-08-15T11:16:10.319336Z",
     "iopub.status.busy": "2023-08-15T11:16:10.318583Z",
     "iopub.status.idle": "2023-08-15T11:16:10.431381Z",
     "shell.execute_reply": "2023-08-15T11:16:10.430092Z",
     "shell.execute_reply.started": "2023-08-15T11:16:10.319295Z"
    }
   },
   "outputs": [],
   "source": [
    "px.scatter(data_frame=train,x='Transported',y='FoodCourt')"
   ]
  },
  {
   "cell_type": "markdown",
   "metadata": {},
   "source": [
    "# prepare train data"
   ]
  },
  {
   "cell_type": "code",
   "execution_count": null,
   "metadata": {
    "execution": {
     "iopub.execute_input": "2023-08-15T11:16:10.433307Z",
     "iopub.status.busy": "2023-08-15T11:16:10.432793Z",
     "iopub.status.idle": "2023-08-15T11:16:10.455467Z",
     "shell.execute_reply": "2023-08-15T11:16:10.45412Z",
     "shell.execute_reply.started": "2023-08-15T11:16:10.433252Z"
    }
   },
   "outputs": [],
   "source": [
    "train.head()"
   ]
  },
  {
   "cell_type": "markdown",
   "metadata": {},
   "source": [
    "# prepare test data"
   ]
  },
  {
   "cell_type": "code",
   "execution_count": null,
   "metadata": {
    "execution": {
     "iopub.execute_input": "2023-08-15T11:16:10.458287Z",
     "iopub.status.busy": "2023-08-15T11:16:10.457715Z",
     "iopub.status.idle": "2023-08-15T11:16:10.478508Z",
     "shell.execute_reply": "2023-08-15T11:16:10.477087Z",
     "shell.execute_reply.started": "2023-08-15T11:16:10.458237Z"
    }
   },
   "outputs": [],
   "source": [
    "test.head()"
   ]
  },
  {
   "cell_type": "markdown",
   "metadata": {},
   "source": [
    "# building model"
   ]
  },
  {
   "cell_type": "code",
   "execution_count": null,
   "metadata": {
    "execution": {
     "iopub.execute_input": "2023-08-15T11:16:10.480705Z",
     "iopub.status.busy": "2023-08-15T11:16:10.480239Z",
     "iopub.status.idle": "2023-08-15T11:16:10.496595Z",
     "shell.execute_reply": "2023-08-15T11:16:10.495467Z",
     "shell.execute_reply.started": "2023-08-15T11:16:10.480668Z"
    }
   },
   "outputs": [],
   "source": [
    "y_train = train['Transported']\n",
    "y_train"
   ]
  },
  {
   "cell_type": "code",
   "execution_count": null,
   "metadata": {
    "execution": {
     "iopub.execute_input": "2023-08-15T11:16:10.498688Z",
     "iopub.status.busy": "2023-08-15T11:16:10.498163Z",
     "iopub.status.idle": "2023-08-15T11:16:10.521837Z",
     "shell.execute_reply": "2023-08-15T11:16:10.520434Z",
     "shell.execute_reply.started": "2023-08-15T11:16:10.498655Z"
    }
   },
   "outputs": [],
   "source": [
    "X_train = train.drop(columns='Transported',axis=1)\n",
    "X_train.head()"
   ]
  },
  {
   "cell_type": "markdown",
   "metadata": {},
   "source": [
    "# LinearRegression"
   ]
  },
  {
   "cell_type": "code",
   "execution_count": null,
   "metadata": {
    "execution": {
     "iopub.execute_input": "2023-08-15T11:16:10.523613Z",
     "iopub.status.busy": "2023-08-15T11:16:10.523251Z",
     "iopub.status.idle": "2023-08-15T11:16:10.591262Z",
     "shell.execute_reply": "2023-08-15T11:16:10.589949Z",
     "shell.execute_reply.started": "2023-08-15T11:16:10.523584Z"
    }
   },
   "outputs": [],
   "source": [
    "from sklearn.linear_model import LinearRegression"
   ]
  },
  {
   "cell_type": "code",
   "execution_count": null,
   "metadata": {
    "execution": {
     "iopub.execute_input": "2023-08-15T11:16:10.593847Z",
     "iopub.status.busy": "2023-08-15T11:16:10.592968Z",
     "iopub.status.idle": "2023-08-15T11:16:10.59986Z",
     "shell.execute_reply": "2023-08-15T11:16:10.598644Z",
     "shell.execute_reply.started": "2023-08-15T11:16:10.593794Z"
    }
   },
   "outputs": [],
   "source": [
    "model = LinearRegression()"
   ]
  },
  {
   "cell_type": "code",
   "execution_count": null,
   "metadata": {
    "execution": {
     "iopub.execute_input": "2023-08-15T11:16:10.610387Z",
     "iopub.status.busy": "2023-08-15T11:16:10.609347Z",
     "iopub.status.idle": "2023-08-15T11:16:10.640312Z",
     "shell.execute_reply": "2023-08-15T11:16:10.638804Z",
     "shell.execute_reply.started": "2023-08-15T11:16:10.61034Z"
    }
   },
   "outputs": [],
   "source": [
    "model.fit(X_train,y_train)"
   ]
  },
  {
   "cell_type": "markdown",
   "metadata": {},
   "source": [
    "# test model"
   ]
  },
  {
   "cell_type": "code",
   "execution_count": null,
   "metadata": {
    "execution": {
     "iopub.execute_input": "2023-08-15T11:16:10.644232Z",
     "iopub.status.busy": "2023-08-15T11:16:10.643222Z",
     "iopub.status.idle": "2023-08-15T11:16:10.665119Z",
     "shell.execute_reply": "2023-08-15T11:16:10.662899Z",
     "shell.execute_reply.started": "2023-08-15T11:16:10.644183Z"
    }
   },
   "outputs": [],
   "source": [
    "y_predict = model.predict(test)\n",
    "y_predict"
   ]
  },
  {
   "cell_type": "markdown",
   "metadata": {},
   "source": [
    "# model evaluation"
   ]
  },
  {
   "cell_type": "code",
   "execution_count": null,
   "metadata": {
    "execution": {
     "iopub.execute_input": "2023-08-15T11:16:10.669619Z",
     "iopub.status.busy": "2023-08-15T11:16:10.66842Z",
     "iopub.status.idle": "2023-08-15T11:16:10.714632Z",
     "shell.execute_reply": "2023-08-15T11:16:10.712646Z",
     "shell.execute_reply.started": "2023-08-15T11:16:10.669533Z"
    }
   },
   "outputs": [],
   "source": [
    "model.score(X_train,y_train)"
   ]
  },
  {
   "cell_type": "markdown",
   "metadata": {},
   "source": [
    "# KNeighborsClassifier"
   ]
  },
  {
   "cell_type": "code",
   "execution_count": null,
   "metadata": {
    "execution": {
     "iopub.execute_input": "2023-08-15T11:16:10.718941Z",
     "iopub.status.busy": "2023-08-15T11:16:10.717498Z",
     "iopub.status.idle": "2023-08-15T11:16:10.760896Z",
     "shell.execute_reply": "2023-08-15T11:16:10.759143Z",
     "shell.execute_reply.started": "2023-08-15T11:16:10.718862Z"
    }
   },
   "outputs": [],
   "source": [
    "from sklearn.neighbors import KNeighborsClassifier"
   ]
  },
  {
   "cell_type": "code",
   "execution_count": null,
   "metadata": {
    "execution": {
     "iopub.execute_input": "2023-08-15T11:16:10.765014Z",
     "iopub.status.busy": "2023-08-15T11:16:10.763689Z",
     "iopub.status.idle": "2023-08-15T11:16:10.777955Z",
     "shell.execute_reply": "2023-08-15T11:16:10.776204Z",
     "shell.execute_reply.started": "2023-08-15T11:16:10.764905Z"
    }
   },
   "outputs": [],
   "source": [
    "model = KNeighborsClassifier(n_neighbors=2)"
   ]
  },
  {
   "cell_type": "code",
   "execution_count": null,
   "metadata": {
    "execution": {
     "iopub.execute_input": "2023-08-15T11:16:10.790531Z",
     "iopub.status.busy": "2023-08-15T11:16:10.78401Z",
     "iopub.status.idle": "2023-08-15T11:16:10.838662Z",
     "shell.execute_reply": "2023-08-15T11:16:10.837414Z",
     "shell.execute_reply.started": "2023-08-15T11:16:10.790441Z"
    }
   },
   "outputs": [],
   "source": [
    "model.fit(X_train,y_train)"
   ]
  },
  {
   "cell_type": "code",
   "execution_count": null,
   "metadata": {
    "execution": {
     "iopub.execute_input": "2023-08-15T11:16:25.993926Z",
     "iopub.status.busy": "2023-08-15T11:16:25.993492Z",
     "iopub.status.idle": "2023-08-15T11:16:26.377729Z",
     "shell.execute_reply": "2023-08-15T11:16:26.376313Z",
     "shell.execute_reply.started": "2023-08-15T11:16:25.993894Z"
    }
   },
   "outputs": [],
   "source": [
    "model.score(X_train,y_train)"
   ]
  },
  {
   "cell_type": "markdown",
   "metadata": {},
   "source": [
    "# RandomForestClassifier"
   ]
  },
  {
   "cell_type": "code",
   "execution_count": null,
   "metadata": {
    "execution": {
     "iopub.execute_input": "2023-08-15T11:18:44.483374Z",
     "iopub.status.busy": "2023-08-15T11:18:44.482937Z",
     "iopub.status.idle": "2023-08-15T11:18:44.488276Z",
     "shell.execute_reply": "2023-08-15T11:18:44.487185Z",
     "shell.execute_reply.started": "2023-08-15T11:18:44.48334Z"
    }
   },
   "outputs": [],
   "source": [
    "from sklearn.ensemble import RandomForestClassifier"
   ]
  },
  {
   "cell_type": "code",
   "execution_count": null,
   "metadata": {
    "execution": {
     "iopub.execute_input": "2023-08-15T11:18:55.028817Z",
     "iopub.status.busy": "2023-08-15T11:18:55.027737Z",
     "iopub.status.idle": "2023-08-15T11:18:55.034491Z",
     "shell.execute_reply": "2023-08-15T11:18:55.033236Z",
     "shell.execute_reply.started": "2023-08-15T11:18:55.028777Z"
    }
   },
   "outputs": [],
   "source": [
    "model = RandomForestClassifier()"
   ]
  },
  {
   "cell_type": "code",
   "execution_count": null,
   "metadata": {
    "execution": {
     "iopub.execute_input": "2023-08-15T11:19:12.955004Z",
     "iopub.status.busy": "2023-08-15T11:19:12.954511Z",
     "iopub.status.idle": "2023-08-15T11:19:14.552767Z",
     "shell.execute_reply": "2023-08-15T11:19:14.551501Z",
     "shell.execute_reply.started": "2023-08-15T11:19:12.95495Z"
    }
   },
   "outputs": [],
   "source": [
    "model.fit(X_train,y_train)"
   ]
  },
  {
   "cell_type": "code",
   "execution_count": null,
   "metadata": {
    "execution": {
     "iopub.execute_input": "2023-08-15T11:19:45.291193Z",
     "iopub.status.busy": "2023-08-15T11:19:45.290664Z",
     "iopub.status.idle": "2023-08-15T11:19:45.409646Z",
     "shell.execute_reply": "2023-08-15T11:19:45.4084Z",
     "shell.execute_reply.started": "2023-08-15T11:19:45.291154Z"
    }
   },
   "outputs": [],
   "source": [
    "y_predict = model.predict(test)\n",
    "y_predict"
   ]
  },
  {
   "cell_type": "code",
   "execution_count": null,
   "metadata": {
    "execution": {
     "iopub.execute_input": "2023-08-15T11:20:17.897473Z",
     "iopub.status.busy": "2023-08-15T11:20:17.897049Z",
     "iopub.status.idle": "2023-08-15T11:20:18.091338Z",
     "shell.execute_reply": "2023-08-15T11:20:18.090157Z",
     "shell.execute_reply.started": "2023-08-15T11:20:17.897443Z"
    }
   },
   "outputs": [],
   "source": [
    "model.score(X_train,y_train)"
   ]
  },
  {
   "cell_type": "markdown",
   "metadata": {},
   "source": [
    "# RandomForestClassifier is the best model"
   ]
  },
  {
   "cell_type": "markdown",
   "metadata": {},
   "source": [
    "# output"
   ]
  },
  {
   "cell_type": "code",
   "execution_count": null,
   "metadata": {
    "execution": {
     "iopub.execute_input": "2023-08-15T11:21:26.74967Z",
     "iopub.status.busy": "2023-08-15T11:21:26.749237Z",
     "iopub.status.idle": "2023-08-15T11:21:26.756436Z",
     "shell.execute_reply": "2023-08-15T11:21:26.754967Z",
     "shell.execute_reply.started": "2023-08-15T11:21:26.749639Z"
    }
   },
   "outputs": [],
   "source": [
    "output = pd.DataFrame({\n",
    "    'PassengerId':test.PassengerId,\n",
    "    'Transported':y_predict\n",
    "})"
   ]
  },
  {
   "cell_type": "code",
   "execution_count": null,
   "metadata": {
    "execution": {
     "iopub.execute_input": "2023-08-15T11:21:29.384122Z",
     "iopub.status.busy": "2023-08-15T11:21:29.383131Z",
     "iopub.status.idle": "2023-08-15T11:21:29.390671Z",
     "shell.execute_reply": "2023-08-15T11:21:29.389635Z",
     "shell.execute_reply.started": "2023-08-15T11:21:29.384069Z"
    }
   },
   "outputs": [],
   "source": [
    "output.shape"
   ]
  },
  {
   "cell_type": "code",
   "execution_count": null,
   "metadata": {
    "execution": {
     "iopub.execute_input": "2023-08-15T11:21:50.033925Z",
     "iopub.status.busy": "2023-08-15T11:21:50.032696Z",
     "iopub.status.idle": "2023-08-15T11:21:50.055866Z",
     "shell.execute_reply": "2023-08-15T11:21:50.054415Z",
     "shell.execute_reply.started": "2023-08-15T11:21:50.033861Z"
    }
   },
   "outputs": [],
   "source": [
    "output.to_csv(r'C:\\Users\\roaia\\Desktop\\Anwar\\New folder\\output.csv',index=False)"
   ]
  }
 ],
 "metadata": {
  "kernelspec": {
   "display_name": "Python 3",
   "language": "python",
   "name": "python3"
  },
  "language_info": {
   "codemirror_mode": {
    "name": "ipython",
    "version": 3
   },
   "file_extension": ".py",
   "mimetype": "text/x-python",
   "name": "python",
   "nbconvert_exporter": "python",
   "pygments_lexer": "ipython3",
   "version": "3.6.4"
  }
 },
 "nbformat": 4,
 "nbformat_minor": 4
}
