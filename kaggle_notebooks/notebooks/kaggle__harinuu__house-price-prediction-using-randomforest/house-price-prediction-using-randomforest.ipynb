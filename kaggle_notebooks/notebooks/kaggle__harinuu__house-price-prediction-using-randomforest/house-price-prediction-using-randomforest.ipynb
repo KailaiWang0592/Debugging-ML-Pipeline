{
 "cells": [
  {
   "cell_type": "code",
   "execution_count": null,
   "metadata": {
    "_cell_guid": "b1076dfc-b9ad-4769-8c92-a6c4dae69d19",
    "_uuid": "8f2839f25d086af736a60e9eeb907d3b93b6e0e5"
   },
   "outputs": [],
   "source": [
    "# This Python 3 environment comes with many helpful analytics libraries installed\n",
    "# It is defined by the kaggle/python Docker image: https://github.com/kaggle/docker-python\n",
    "# For example, here's several helpful packages to load\n",
    "\n",
    "import numpy as np # linear algebra\n",
    "import pandas as pd # data processing, CSV file I/O (e.g. pd.read_csv)\n",
    "\n",
    "# Input data files are available in the read-only \"/share/dutta/eyao/dataset/kaggle/\" directory\n",
    "# For example, running this (by clicking run or pressing Shift+Enter) will list all files under the input directory\n",
    "\n",
    "import os\n",
    "for dirname, _, filenames in os.walk('/share/dutta/eyao/dataset/kaggle'):\n",
    "    for filename in filenames:\n",
    "        print(os.path.join(dirname, filename))\n",
    "\n",
    "# You can write up to 20GB to the current directory () that gets preserved as output when you create a version using \"Save & Run All\" \n",
    "# You can also write temporary files to /kaggle/temp/, but they won't be saved outside of the current session"
   ]
  },
  {
   "cell_type": "markdown",
   "metadata": {},
   "source": [
    "# import all the libraries which are required"
   ]
  },
  {
   "cell_type": "code",
   "execution_count": null,
   "metadata": {
    "execution": {
     "iopub.execute_input": "2023-01-12T14:03:36.940224Z",
     "iopub.status.busy": "2023-01-12T14:03:36.939772Z",
     "iopub.status.idle": "2023-01-12T14:03:38.16587Z",
     "shell.execute_reply": "2023-01-12T14:03:38.164307Z",
     "shell.execute_reply.started": "2023-01-12T14:03:36.940138Z"
    }
   },
   "outputs": [],
   "source": [
    "import numpy as np\n",
    "import pandas as pd\n",
    "import seaborn as sns\n",
    "from matplotlib import pyplot as plt"
   ]
  },
  {
   "cell_type": "markdown",
   "metadata": {},
   "source": [
    "# UPLOAD THE DATASET"
   ]
  },
  {
   "cell_type": "code",
   "execution_count": null,
   "metadata": {
    "execution": {
     "iopub.execute_input": "2023-01-12T14:05:13.132797Z",
     "iopub.status.busy": "2023-01-12T14:05:13.132403Z",
     "iopub.status.idle": "2023-01-12T14:05:13.236768Z",
     "shell.execute_reply": "2023-01-12T14:05:13.235753Z",
     "shell.execute_reply.started": "2023-01-12T14:05:13.132755Z"
    }
   },
   "outputs": [],
   "source": [
    "train_data = pd.read_csv(\"/share/dutta/eyao/dataset/kaggle/house-prices-advanced-regression-techniques/train.csv\")\n",
    "test_data = pd.read_csv(\"/share/dutta/eyao/dataset/kaggle/house-prices-advanced-regression-techniques/test.csv\")\n",
    "test_ids = test_data['Id']\n",
    "print(\"Shape:\", train_data.shape)\n",
    "print(\"Duplicated data :\", train_data.duplicated().sum())"
   ]
  },
  {
   "cell_type": "code",
   "execution_count": null,
   "metadata": {
    "execution": {
     "iopub.execute_input": "2023-01-12T14:05:29.760398Z",
     "iopub.status.busy": "2023-01-12T14:05:29.760003Z",
     "iopub.status.idle": "2023-01-12T14:05:31.031603Z",
     "shell.execute_reply": "2023-01-12T14:05:31.0308Z",
     "shell.execute_reply.started": "2023-01-12T14:05:29.760366Z"
    }
   },
   "outputs": [],
   "source": [
    "fig, ax = plt.subplots(figsize=(25,10))\n",
    "sns.heatmap(data=train_data.isnull(), yticklabels=False, ax=ax)"
   ]
  },
  {
   "cell_type": "code",
   "execution_count": null,
   "metadata": {
    "execution": {
     "iopub.execute_input": "2023-01-12T14:05:48.636158Z",
     "iopub.status.busy": "2023-01-12T14:05:48.635787Z",
     "iopub.status.idle": "2023-01-12T14:05:49.160372Z",
     "shell.execute_reply": "2023-01-12T14:05:49.159172Z",
     "shell.execute_reply.started": "2023-01-12T14:05:48.636128Z"
    }
   },
   "outputs": [],
   "source": [
    "fig, ax = plt.subplots(figsize=(25,10))\n",
    "sns.countplot(x=train_data['SaleCondition'])\n",
    "sns.histplot(x=train_data['SaleType'], kde=True, ax=ax)\n",
    "sns.violinplot(x=train_data['HouseStyle'], y=train_data['SalePrice'],ax=ax)\n",
    "sns.scatterplot(x=train_data[\"Foundation\"], y=train_data[\"SalePrice\"], palette='deep', ax=ax)\n",
    "plt.grid()"
   ]
  },
  {
   "cell_type": "markdown",
   "metadata": {},
   "source": [
    "# EDA"
   ]
  },
  {
   "cell_type": "markdown",
   "metadata": {},
   "source": [
    "# FILL THE MISSING VALUES"
   ]
  },
  {
   "cell_type": "code",
   "execution_count": null,
   "metadata": {
    "execution": {
     "iopub.execute_input": "2023-01-12T14:06:05.720992Z",
     "iopub.status.busy": "2023-01-12T14:06:05.720591Z",
     "iopub.status.idle": "2023-01-12T14:06:05.809738Z",
     "shell.execute_reply": "2023-01-12T14:06:05.808379Z",
     "shell.execute_reply.started": "2023-01-12T14:06:05.720956Z"
    }
   },
   "outputs": [],
   "source": [
    "train_data['FireplaceQu'].fillna(\"No\", inplace=True)\n",
    "train_data['BsmtQual'].fillna(\"No\", inplace=True)\n",
    "train_data['BsmtCond'].fillna(\"No\", inplace=True)\n",
    "train_data['BsmtFinType1'].fillna(\"No\", inplace=True)\n",
    "train_data['BsmtFinType2'].fillna(\"No\", inplace=True)\n",
    "train_data['BsmtFinType2'].fillna(\"None\", inplace=True)\n",
    "\n",
    "def fill_all_missing_values(data):\n",
    "    for col in data.columns:\n",
    "        if((data[col].dtype == 'float64') or (data[col].dtype == 'int64')):\n",
    "            data[col].fillna(data[col].mean(), inplace=True)\n",
    "        else:\n",
    "             data[col].fillna(data[col].mode()[0], inplace=True)\n",
    "\n",
    "\n",
    "fill_all_missing_values(train_data)\n",
    "fill_all_missing_values(test_data)"
   ]
  },
  {
   "cell_type": "markdown",
   "metadata": {},
   "source": [
    "# DROP UNWANTED DATA"
   ]
  },
  {
   "cell_type": "code",
   "execution_count": null,
   "metadata": {
    "execution": {
     "iopub.execute_input": "2023-01-12T14:06:16.756442Z",
     "iopub.status.busy": "2023-01-12T14:06:16.756055Z",
     "iopub.status.idle": "2023-01-12T14:06:16.768241Z",
     "shell.execute_reply": "2023-01-12T14:06:16.766608Z",
     "shell.execute_reply.started": "2023-01-12T14:06:16.756412Z"
    }
   },
   "outputs": [],
   "source": [
    "drop_col = ['Id', 'Alley', 'PoolQC', 'MiscFeature', 'Fence', 'MoSold', 'YrSold', 'MSSubClass',\n",
    "            'GarageType', 'GarageArea', 'GarageYrBlt', 'GarageFinish', 'YearRemodAdd', 'LandSlope',\n",
    "            'BsmtUnfSF', 'BsmtExposure', '2ndFlrSF', 'LowQualFinSF', 'Condition1', 'Condition2', 'Heating',\n",
    "             'Exterior1st', 'Exterior2nd', 'HouseStyle', 'LotShape', 'LandContour', 'LotConfig', 'Functional',\n",
    "             'BsmtFinSF1', 'BsmtFinSF2', 'FireplaceQu', 'WoodDeckSF', 'GarageQual', 'GarageCond', 'OverallCond'\n",
    "           ]\n",
    "\n",
    "train_data.drop(drop_col, axis=1, inplace=True)\n",
    "test_data.drop(drop_col, axis=1, inplace=True)\n"
   ]
  },
  {
   "cell_type": "markdown",
   "metadata": {},
   "source": [
    "# PREPROCESSING"
   ]
  },
  {
   "cell_type": "code",
   "execution_count": null,
   "metadata": {
    "execution": {
     "iopub.execute_input": "2023-01-12T14:06:35.252012Z",
     "iopub.status.busy": "2023-01-12T14:06:35.251Z",
     "iopub.status.idle": "2023-01-12T14:06:35.410812Z",
     "shell.execute_reply": "2023-01-12T14:06:35.409692Z",
     "shell.execute_reply.started": "2023-01-12T14:06:35.25195Z"
    }
   },
   "outputs": [],
   "source": [
    "from sklearn.preprocessing import OrdinalEncoder\n",
    "\n",
    "ordinal_col = ['GarageQual', 'GarageCond', 'BsmtQual', 'BsmtCond', 'ExterQual', 'ExterCond', 'KitchenQual', 'FireplaceQu',\n",
    "               'PavedDrive', 'Functional', 'Electrical', 'Heating', 'BsmtFinType1', 'BsmtFinType2', 'Utilities']\n",
    "\n",
    "OE = OrdinalEncoder(categories=[['No', 'Po', 'Fa', 'TA', 'Gd', 'Ex']])\n",
    "train_data['BsmtQual'] = OE.fit_transform(train_data[['BsmtQual']])\n",
    "test_data['BsmtQual'] = OE.transform(test_data[['BsmtQual']])\n",
    "\n",
    "\n",
    "OE = OrdinalEncoder(categories=[['No', 'Po', 'Fa', 'TA', 'Gd', 'Ex']])\n",
    "train_data['BsmtCond'] = OE.fit_transform(train_data[['BsmtCond']])\n",
    "test_data['BsmtCond'] = OE.transform(test_data[['BsmtCond']])\n",
    "\n",
    "\n",
    "OE = OrdinalEncoder(categories=[['Po', 'Fa', 'TA', 'Gd', 'Ex']])\n",
    "train_data['ExterQual'] = OE.fit_transform(train_data[['ExterQual']])\n",
    "test_data['ExterQual'] = OE.transform(test_data[['ExterQual']])\n",
    "\n",
    "\n",
    "OE = OrdinalEncoder(categories=[['Po', 'Fa', 'TA', 'Gd', 'Ex']])\n",
    "train_data['ExterCond'] = OE.fit_transform(train_data[['ExterCond']])\n",
    "test_data['ExterCond'] = OE.transform(test_data[['ExterCond']])\n",
    "\n",
    "\n",
    "OE = OrdinalEncoder(categories=[['Po', 'Fa', 'TA', 'Gd', 'Ex']])\n",
    "train_data['KitchenQual'] = OE.fit_transform(train_data[['KitchenQual']])\n",
    "test_data['KitchenQual'] = OE.transform(test_data[['KitchenQual']])\n",
    "OE = OrdinalEncoder(categories=[['N', 'P', 'Y']])\n",
    "train_data['PavedDrive'] = OE.fit_transform(train_data[['PavedDrive']])\n",
    "test_data['PavedDrive'] = OE.transform(test_data[['PavedDrive']])\n",
    "\n",
    "\n",
    "OE = OrdinalEncoder(categories=[['Mix', 'FuseP', 'FuseF', 'FuseA', 'SBrkr']])\n",
    "train_data['Electrical'] = OE.fit_transform(train_data[['Electrical']])\n",
    "test_data['Electrical'] = OE.transform(test_data[['Electrical']])\n",
    "\n",
    "OE = OrdinalEncoder(categories=[['No', 'Unf', 'LwQ', 'Rec', 'BLQ', 'ALQ', 'GLQ']])\n",
    "train_data['BsmtFinType1'] = OE.fit_transform(train_data[['BsmtFinType1']])\n",
    "test_data['BsmtFinType1'] = OE.transform(test_data[['BsmtFinType1']])\n",
    "OE = OrdinalEncoder(categories=[['No', 'Unf', 'LwQ', 'Rec', 'BLQ', 'ALQ', 'GLQ']])\n",
    "train_data['BsmtFinType2'] = OE.fit_transform(train_data[['BsmtFinType2']])\n",
    "test_data['BsmtFinType2'] = OE.transform(test_data[['BsmtFinType2']])\n",
    "\n",
    "\n",
    "OE = OrdinalEncoder(categories=[['ELO', 'NoSeWa', 'NoSewr', 'AllPub']])\n",
    "train_data['Utilities'] = OE.fit_transform(train_data[['Utilities']])\n",
    "test_data['Utilities'] = OE.transform(test_data[['Utilities']])\n",
    "\n",
    "OE = OrdinalEncoder(categories=[['C (all)', 'RH', 'RM', 'RL', 'FV']])\n",
    "train_data['MSZoning'] = OE.fit_transform(train_data[['MSZoning']])\n",
    "test_data['MSZoning'] = OE.transform(test_data[['MSZoning']])\n",
    "\n",
    "OE = OrdinalEncoder(categories=[['Slab', 'BrkTil', 'Stone', 'CBlock', 'Wood', 'PConc']])\n",
    "train_data['Foundation'] = OE.fit_transform(train_data[['Foundation']])\n",
    "test_data['Foundation'] = OE.transform(test_data[['Foundation']])\n",
    "\n",
    "OE = OrdinalEncoder(categories=[['MeadowV', 'IDOTRR', 'BrDale', 'Edwards', 'BrkSide', 'OldTown', 'NAmes', 'Sawyer', 'Mitchel', 'NPkVill', 'SWISU', 'Blueste', 'SawyerW', 'NWAmes', 'Gilbert', 'Blmngtn', 'ClearCr', 'Crawfor', 'CollgCr', 'Veenker', 'Timber', 'Somerst', 'NoRidge', 'StoneBr', 'NridgHt']])\n",
    "train_data['Neighborhood'] = OE.fit_transform(train_data[['Neighborhood']])\n",
    "test_data['Neighborhood'] = OE.transform(test_data[['Neighborhood']])\n",
    "\n",
    "OE = OrdinalEncoder(categories=[['None', 'BrkCmn', 'BrkFace', 'Stone']])\n",
    "train_data['MasVnrType'] = OE.fit_transform(train_data[['MasVnrType']])\n",
    "test_data['MasVnrType'] = OE.transform(test_data[['MasVnrType']])\n",
    "OE = OrdinalEncoder(categories=[['AdjLand', 'Abnorml','Alloca', 'Family', 'Normal', 'Partial']])\n",
    "train_data['SaleCondition'] = OE.fit_transform(train_data[['SaleCondition']])\n",
    "test_data['SaleCondition'] = OE.transform(test_data[['SaleCondition']])\n",
    "\n",
    "OE = OrdinalEncoder(categories=[['Gambrel', 'Gable','Hip', 'Mansard', 'Flat', 'Shed']])\n",
    "train_data['RoofStyle'] = OE.fit_transform(train_data[['RoofStyle']])\n",
    "test_data['RoofStyle'] = OE.transform(test_data[['RoofStyle']])\n",
    "\n",
    "OE = OrdinalEncoder(categories=[['ClyTile', 'CompShg', 'Roll','Metal', 'Tar&Grv','Membran', 'WdShake', 'WdShngl']])\n",
    "train_data['RoofMatl'] = OE.fit_transform(train_data[['RoofMatl']])\n",
    "test_data['RoofMatl'] = OE.transform(test_data[['RoofMatl']])"
   ]
  },
  {
   "cell_type": "code",
   "execution_count": null,
   "metadata": {
    "execution": {
     "iopub.execute_input": "2023-01-12T14:06:48.210413Z",
     "iopub.status.busy": "2023-01-12T14:06:48.209001Z",
     "iopub.status.idle": "2023-01-12T14:06:48.225493Z",
     "shell.execute_reply": "2023-01-12T14:06:48.223883Z",
     "shell.execute_reply.started": "2023-01-12T14:06:48.210358Z"
    }
   },
   "outputs": [],
   "source": [
    "Level_col = ['Street' ,'BldgType', 'SaleType', 'CentralAir']\n",
    "\n",
    "from sklearn.preprocessing import LabelEncoder\n",
    "encoder = LabelEncoder()\n",
    "def encode_catagorical_columns(train, test):\n",
    "    for col in Level_col:\n",
    "        train[col] = encoder.fit_transform(train[col])\n",
    "        test[col]  = encoder.transform(test[col])\n",
    "encode_catagorical_columns(train_data, test_data)"
   ]
  },
  {
   "cell_type": "markdown",
   "metadata": {},
   "source": []
  },
  {
   "cell_type": "code",
   "execution_count": null,
   "metadata": {
    "execution": {
     "iopub.execute_input": "2023-01-12T14:07:08.38878Z",
     "iopub.status.busy": "2023-01-12T14:07:08.388353Z",
     "iopub.status.idle": "2023-01-12T14:07:08.412836Z",
     "shell.execute_reply": "2023-01-12T14:07:08.410901Z",
     "shell.execute_reply.started": "2023-01-12T14:07:08.388744Z"
    }
   },
   "outputs": [],
   "source": [
    "train_data['BsmtRating'] = train_data['BsmtCond'] * train_data['BsmtQual']\n",
    "train_data['ExterRating'] = train_data['ExterCond'] * train_data['ExterQual']\n",
    "train_data['BsmtFinTypeRating'] = train_data['BsmtFinType1'] * train_data['BsmtFinType2']\n",
    "\n",
    "train_data['BsmtBath'] = train_data['BsmtFullBath'] + train_data['BsmtHalfBath']\n",
    "train_data['Bath'] = train_data['FullBath'] + train_data['HalfBath']\n",
    "train_data['PorchArea'] = train_data['OpenPorchSF'] + train_data['EnclosedPorch'] + train_data['3SsnPorch'] + train_data['ScreenPorch']\n",
    "\n",
    "test_data['BsmtRating'] = test_data['BsmtCond'] * test_data['BsmtQual']\n",
    "test_data['ExterRating'] = test_data['ExterCond'] * test_data['ExterQual']\n",
    "test_data['BsmtFinTypeRating'] = test_data['BsmtFinType1'] * test_data['BsmtFinType2']\n",
    "\n",
    "test_data['BsmtBath'] = test_data['BsmtFullBath'] + test_data['BsmtHalfBath']\n",
    "test_data['Bath'] = test_data['FullBath'] + test_data['HalfBath']\n",
    "test_data['PorchArea'] = test_data['OpenPorchSF'] + test_data['EnclosedPorch'] + test_data['3SsnPorch'] + test_data['ScreenPorch']"
   ]
  },
  {
   "cell_type": "code",
   "execution_count": null,
   "metadata": {
    "execution": {
     "iopub.execute_input": "2023-01-12T14:07:24.272928Z",
     "iopub.status.busy": "2023-01-12T14:07:24.272517Z",
     "iopub.status.idle": "2023-01-12T14:07:24.285046Z",
     "shell.execute_reply": "2023-01-12T14:07:24.283756Z",
     "shell.execute_reply.started": "2023-01-12T14:07:24.272894Z"
    }
   },
   "outputs": [],
   "source": [
    "drop_col = ['OverallQual', \n",
    "            'ExterCond', 'ExterQual',\n",
    "            'BsmtCond', 'BsmtQual',\n",
    "            'BsmtFinType1', 'BsmtFinType2',\n",
    "            'HeatingQC',\n",
    "            'OpenPorchSF', 'EnclosedPorch', '3SsnPorch', 'ScreenPorch',\n",
    "            'BsmtFullBath', 'BsmtHalfBath',\n",
    "            'FullBath', 'HalfBath',\n",
    "           ]\n",
    "\n",
    "train_data.drop(drop_col, axis=1, inplace=True)\n",
    "test_data.drop(drop_col, axis=1, inplace=True)\n",
    "\n",
    "print(train_data.shape)"
   ]
  },
  {
   "cell_type": "code",
   "execution_count": null,
   "metadata": {
    "execution": {
     "iopub.execute_input": "2023-01-12T14:07:36.635779Z",
     "iopub.status.busy": "2023-01-12T14:07:36.635398Z",
     "iopub.status.idle": "2023-01-12T14:07:36.644821Z",
     "shell.execute_reply": "2023-01-12T14:07:36.643958Z",
     "shell.execute_reply.started": "2023-01-12T14:07:36.635739Z"
    }
   },
   "outputs": [],
   "source": [
    "from sklearn.preprocessing import FunctionTransformer\n",
    "from sklearn.preprocessing import PowerTransformer\n",
    "ft = FunctionTransformer(func=np.log1p)\n",
    "pt = PowerTransformer()\n",
    "\n",
    "train_data['LotArea'] = ft.fit_transform(train_data['LotArea'])\n",
    "test_data['LotArea'] = ft.transform(test_data['LotArea'])"
   ]
  },
  {
   "cell_type": "markdown",
   "metadata": {},
   "source": [
    "# RANDOMFOREST "
   ]
  },
  {
   "cell_type": "code",
   "execution_count": null,
   "metadata": {
    "execution": {
     "iopub.execute_input": "2023-01-12T14:07:47.252744Z",
     "iopub.status.busy": "2023-01-12T14:07:47.252333Z",
     "iopub.status.idle": "2023-01-12T14:07:56.597767Z",
     "shell.execute_reply": "2023-01-12T14:07:56.596698Z",
     "shell.execute_reply.started": "2023-01-12T14:07:47.252705Z"
    }
   },
   "outputs": [],
   "source": [
    "from sklearn.ensemble import RandomForestRegressor\n",
    "from sklearn.model_selection import cross_val_score\n",
    "from sklearn.metrics import mean_squared_error\n",
    "\n",
    "\n",
    "y = train_data['SalePrice']\n",
    "X = train_data.drop(['SalePrice'], axis=1)\n",
    "\n",
    "candidate_max_leaf_nodes = [250]\n",
    "#model = LinearRegression()\n",
    "\n",
    "for node in candidate_max_leaf_nodes:\n",
    "    model = RandomForestRegressor(max_leaf_nodes=node,)\n",
    "    model.fit(X, y)\n",
    "    score = cross_val_score(model, X, y, cv=10)\n",
    "    print(score.mean())"
   ]
  },
  {
   "cell_type": "markdown",
   "metadata": {},
   "source": [
    "# FINAL OUTPUT"
   ]
  },
  {
   "cell_type": "code",
   "execution_count": null,
   "metadata": {
    "execution": {
     "iopub.execute_input": "2023-01-12T14:07:58.961056Z",
     "iopub.status.busy": "2023-01-12T14:07:58.960045Z",
     "iopub.status.idle": "2023-01-12T14:07:59.015224Z",
     "shell.execute_reply": "2023-01-12T14:07:59.014156Z",
     "shell.execute_reply.started": "2023-01-12T14:07:58.960973Z"
    }
   },
   "outputs": [],
   "source": [
    "price = model.predict(test_data)\n",
    "submission = pd.DataFrame({\n",
    "    \"Id\": test_ids,\n",
    "    \"SalePrice\": price\n",
    "})\n",
    "\n",
    "submission.to_csv(\"submission.csv\", index=False)\n",
    "submission.sample(10)"
   ]
  },
  {
   "cell_type": "code",
   "execution_count": null,
   "metadata": {},
   "outputs": [],
   "source": []
  }
 ],
 "metadata": {
  "kernelspec": {
   "display_name": "Python 3",
   "language": "python",
   "name": "python3"
  },
  "language_info": {
   "codemirror_mode": {
    "name": "ipython",
    "version": 3
   },
   "file_extension": ".py",
   "mimetype": "text/x-python",
   "name": "python",
   "nbconvert_exporter": "python",
   "pygments_lexer": "ipython3",
   "version": "3.6.4"
  }
 },
 "nbformat": 4,
 "nbformat_minor": 4
}
