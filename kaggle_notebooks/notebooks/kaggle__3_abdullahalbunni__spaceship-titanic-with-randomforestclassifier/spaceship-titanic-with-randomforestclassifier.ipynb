{
 "cells": [
  {
   "cell_type": "markdown",
   "metadata": {},
   "source": [
    "### Import Libraries"
   ]
  },
  {
   "cell_type": "code",
   "execution_count": null,
   "metadata": {
    "execution": {
     "iopub.execute_input": "2024-09-13T22:09:21.348623Z",
     "iopub.status.busy": "2024-09-13T22:09:21.347992Z",
     "iopub.status.idle": "2024-09-13T22:09:22.287687Z",
     "shell.execute_reply": "2024-09-13T22:09:22.286651Z",
     "shell.execute_reply.started": "2024-09-13T22:09:21.348571Z"
    }
   },
   "outputs": [],
   "source": [
    "import pandas as pd\n",
    "from sklearn.model_selection import train_test_split\n",
    "from sklearn.ensemble import RandomForestClassifier\n",
    "from sklearn.preprocessing import OneHotEncoder, StandardScaler\n",
    "from sklearn.metrics import accuracy_score\n",
    "from sklearn.impute import SimpleImputer"
   ]
  },
  {
   "cell_type": "markdown",
   "metadata": {},
   "source": [
    "### Load Data"
   ]
  },
  {
   "cell_type": "code",
   "execution_count": null,
   "metadata": {
    "execution": {
     "iopub.execute_input": "2024-09-13T22:09:22.289872Z",
     "iopub.status.busy": "2024-09-13T22:09:22.289461Z",
     "iopub.status.idle": "2024-09-13T22:09:22.351232Z",
     "shell.execute_reply": "2024-09-13T22:09:22.350342Z",
     "shell.execute_reply.started": "2024-09-13T22:09:22.289838Z"
    }
   },
   "outputs": [],
   "source": [
    "train = pd.read_csv('/share/dutta/eyao/dataset/kaggle/spaceship-titanic/train.csv')\n",
    "train"
   ]
  },
  {
   "cell_type": "code",
   "execution_count": null,
   "metadata": {
    "execution": {
     "iopub.execute_input": "2024-09-13T22:09:22.352849Z",
     "iopub.status.busy": "2024-09-13T22:09:22.352507Z",
     "iopub.status.idle": "2024-09-13T22:09:22.39276Z",
     "shell.execute_reply": "2024-09-13T22:09:22.391891Z",
     "shell.execute_reply.started": "2024-09-13T22:09:22.352817Z"
    }
   },
   "outputs": [],
   "source": [
    "test = pd.read_csv('/share/dutta/eyao/dataset/kaggle/spaceship-titanic/test.csv')\n",
    "test"
   ]
  },
  {
   "cell_type": "markdown",
   "metadata": {},
   "source": [
    "### Data Preprocessing"
   ]
  },
  {
   "cell_type": "code",
   "execution_count": null,
   "metadata": {
    "execution": {
     "iopub.execute_input": "2024-09-13T22:09:22.395123Z",
     "iopub.status.busy": "2024-09-13T22:09:22.39483Z",
     "iopub.status.idle": "2024-09-13T22:09:22.404285Z",
     "shell.execute_reply": "2024-09-13T22:09:22.403537Z",
     "shell.execute_reply.started": "2024-09-13T22:09:22.395091Z"
    }
   },
   "outputs": [],
   "source": [
    "imputer = SimpleImputer(strategy='median')\n",
    "train[['Age']] = imputer.fit_transform(train[['Age']])"
   ]
  },
  {
   "cell_type": "markdown",
   "metadata": {},
   "source": [
    "### Fill missing values"
   ]
  },
  {
   "cell_type": "code",
   "execution_count": null,
   "metadata": {
    "execution": {
     "iopub.execute_input": "2024-09-13T22:09:22.405808Z",
     "iopub.status.busy": "2024-09-13T22:09:22.40532Z",
     "iopub.status.idle": "2024-09-13T22:09:22.422041Z",
     "shell.execute_reply": "2024-09-13T22:09:22.421319Z",
     "shell.execute_reply.started": "2024-09-13T22:09:22.405772Z"
    }
   },
   "outputs": [],
   "source": [
    "train['Age'].fillna(train['Age'].median())\n",
    "train['HomePlanet'].fillna('Unknown')\n",
    "train['CryoSleep'].fillna(False)"
   ]
  },
  {
   "cell_type": "markdown",
   "metadata": {},
   "source": [
    "### One-Hot Encoding for Categorical Features"
   ]
  },
  {
   "cell_type": "code",
   "execution_count": null,
   "metadata": {
    "execution": {
     "iopub.execute_input": "2024-09-13T22:09:22.423329Z",
     "iopub.status.busy": "2024-09-13T22:09:22.423044Z",
     "iopub.status.idle": "2024-09-13T22:09:22.44111Z",
     "shell.execute_reply": "2024-09-13T22:09:22.440402Z",
     "shell.execute_reply.started": "2024-09-13T22:09:22.423299Z"
    }
   },
   "outputs": [],
   "source": [
    "categorical_cols = ['HomePlanet', 'CryoSleep', 'Destination', 'VIP']\n",
    "train = pd.get_dummies(train, columns=categorical_cols)"
   ]
  },
  {
   "cell_type": "markdown",
   "metadata": {},
   "source": [
    "### Feature Engineering"
   ]
  },
  {
   "cell_type": "code",
   "execution_count": null,
   "metadata": {
    "execution": {
     "iopub.execute_input": "2024-09-13T22:09:22.442343Z",
     "iopub.status.busy": "2024-09-13T22:09:22.44209Z",
     "iopub.status.idle": "2024-09-13T22:09:22.451236Z",
     "shell.execute_reply": "2024-09-13T22:09:22.450397Z",
     "shell.execute_reply.started": "2024-09-13T22:09:22.442314Z"
    }
   },
   "outputs": [],
   "source": [
    "train['Total_Billed'] = train[['RoomService', 'FoodCourt', 'ShoppingMall', 'Spa', 'VRDeck']].sum(axis=1)"
   ]
  },
  {
   "cell_type": "markdown",
   "metadata": {},
   "source": [
    "### Features and Target"
   ]
  },
  {
   "cell_type": "code",
   "execution_count": null,
   "metadata": {
    "execution": {
     "iopub.execute_input": "2024-09-13T22:09:22.452657Z",
     "iopub.status.busy": "2024-09-13T22:09:22.452339Z",
     "iopub.status.idle": "2024-09-13T22:09:22.45868Z",
     "shell.execute_reply": "2024-09-13T22:09:22.457793Z",
     "shell.execute_reply.started": "2024-09-13T22:09:22.452626Z"
    }
   },
   "outputs": [],
   "source": [
    "X = train.drop(['PassengerId', 'Name', 'Cabin', 'Transported'], axis=1)\n",
    "y = train['Transported'].astype(int)"
   ]
  },
  {
   "cell_type": "markdown",
   "metadata": {},
   "source": [
    "### Check for any remaining NaN values and handle them"
   ]
  },
  {
   "cell_type": "code",
   "execution_count": null,
   "metadata": {
    "execution": {
     "iopub.execute_input": "2024-09-13T22:09:22.460035Z",
     "iopub.status.busy": "2024-09-13T22:09:22.459752Z",
     "iopub.status.idle": "2024-09-13T22:09:22.467648Z",
     "shell.execute_reply": "2024-09-13T22:09:22.466618Z",
     "shell.execute_reply.started": "2024-09-13T22:09:22.460005Z"
    }
   },
   "outputs": [],
   "source": [
    "X.fillna(0, inplace=True)"
   ]
  },
  {
   "cell_type": "markdown",
   "metadata": {},
   "source": [
    "### Split Data"
   ]
  },
  {
   "cell_type": "code",
   "execution_count": null,
   "metadata": {
    "execution": {
     "iopub.execute_input": "2024-09-13T22:09:22.470951Z",
     "iopub.status.busy": "2024-09-13T22:09:22.470638Z",
     "iopub.status.idle": "2024-09-13T22:09:22.47871Z",
     "shell.execute_reply": "2024-09-13T22:09:22.477809Z",
     "shell.execute_reply.started": "2024-09-13T22:09:22.470918Z"
    }
   },
   "outputs": [],
   "source": [
    "X_train, X_val, y_train, y_val = train_test_split(X, y, test_size=0.2, random_state=42)"
   ]
  },
  {
   "cell_type": "markdown",
   "metadata": {},
   "source": [
    "### Model Training"
   ]
  },
  {
   "cell_type": "code",
   "execution_count": null,
   "metadata": {
    "execution": {
     "iopub.execute_input": "2024-09-13T22:09:22.479911Z",
     "iopub.status.busy": "2024-09-13T22:09:22.479621Z",
     "iopub.status.idle": "2024-09-13T22:09:23.354297Z",
     "shell.execute_reply": "2024-09-13T22:09:23.353339Z",
     "shell.execute_reply.started": "2024-09-13T22:09:22.47988Z"
    }
   },
   "outputs": [],
   "source": [
    "model = RandomForestClassifier(n_estimators=100, random_state=42)\n",
    "model.fit(X_train, y_train)"
   ]
  },
  {
   "cell_type": "markdown",
   "metadata": {},
   "source": [
    "### Validation"
   ]
  },
  {
   "cell_type": "code",
   "execution_count": null,
   "metadata": {
    "execution": {
     "iopub.execute_input": "2024-09-13T22:09:23.355777Z",
     "iopub.status.busy": "2024-09-13T22:09:23.355446Z",
     "iopub.status.idle": "2024-09-13T22:09:23.398468Z",
     "shell.execute_reply": "2024-09-13T22:09:23.3976Z",
     "shell.execute_reply.started": "2024-09-13T22:09:23.355727Z"
    }
   },
   "outputs": [],
   "source": [
    "y_pred = model.predict(X_val)\n",
    "print(f\"Validation Accuracy: {accuracy_score(y_val, y_pred)}\")"
   ]
  },
  {
   "cell_type": "markdown",
   "metadata": {},
   "source": [
    "### Test Prediction"
   ]
  },
  {
   "cell_type": "markdown",
   "metadata": {},
   "source": [
    "### Data Preprocessing for Test Data"
   ]
  },
  {
   "cell_type": "code",
   "execution_count": null,
   "metadata": {
    "execution": {
     "iopub.execute_input": "2024-09-13T22:09:36.369246Z",
     "iopub.status.busy": "2024-09-13T22:09:36.368334Z",
     "iopub.status.idle": "2024-09-13T22:09:36.385055Z",
     "shell.execute_reply": "2024-09-13T22:09:36.384101Z",
     "shell.execute_reply.started": "2024-09-13T22:09:36.369205Z"
    }
   },
   "outputs": [],
   "source": [
    "test[['Age']] = imputer.transform(test[['Age']])\n",
    "test['HomePlanet'].fillna('Unknown')\n",
    "test['CryoSleep'].fillna(False)\n",
    "test['VIP'].fillna(False)"
   ]
  },
  {
   "cell_type": "markdown",
   "metadata": {},
   "source": [
    "### One-Hot Encoding for Categorical Features"
   ]
  },
  {
   "cell_type": "code",
   "execution_count": null,
   "metadata": {
    "execution": {
     "iopub.execute_input": "2024-09-13T22:09:39.953311Z",
     "iopub.status.busy": "2024-09-13T22:09:39.952438Z",
     "iopub.status.idle": "2024-09-13T22:09:39.967571Z",
     "shell.execute_reply": "2024-09-13T22:09:39.966488Z",
     "shell.execute_reply.started": "2024-09-13T22:09:39.953258Z"
    }
   },
   "outputs": [],
   "source": [
    "test = pd.get_dummies(test, columns=categorical_cols)"
   ]
  },
  {
   "cell_type": "markdown",
   "metadata": {},
   "source": [
    "### Feature Engineering for Test Data"
   ]
  },
  {
   "cell_type": "code",
   "execution_count": null,
   "metadata": {
    "execution": {
     "iopub.execute_input": "2024-09-13T22:09:41.785249Z",
     "iopub.status.busy": "2024-09-13T22:09:41.784331Z",
     "iopub.status.idle": "2024-09-13T22:09:41.792982Z",
     "shell.execute_reply": "2024-09-13T22:09:41.79208Z",
     "shell.execute_reply.started": "2024-09-13T22:09:41.785206Z"
    }
   },
   "outputs": [],
   "source": [
    "test['Total_Billed'] = test[['RoomService', 'FoodCourt', 'ShoppingMall', 'Spa', 'VRDeck']].sum(axis=1)"
   ]
  },
  {
   "cell_type": "markdown",
   "metadata": {},
   "source": [
    "### Align test data with train data columns"
   ]
  },
  {
   "cell_type": "code",
   "execution_count": null,
   "metadata": {
    "execution": {
     "iopub.execute_input": "2024-09-13T22:09:44.476851Z",
     "iopub.status.busy": "2024-09-13T22:09:44.475985Z",
     "iopub.status.idle": "2024-09-13T22:09:44.484519Z",
     "shell.execute_reply": "2024-09-13T22:09:44.483591Z",
     "shell.execute_reply.started": "2024-09-13T22:09:44.47681Z"
    }
   },
   "outputs": [],
   "source": [
    "X_test = test.drop(['PassengerId', 'Name', 'Cabin'], axis=1)\n",
    "X_test = X_test.reindex(columns=X.columns, fill_value=0)\n",
    "\n",
    "# Check for any remaining NaN values in X_test and handle them\n",
    "X_test.fillna(0, inplace=True)"
   ]
  },
  {
   "cell_type": "markdown",
   "metadata": {},
   "source": [
    "### Test predictions"
   ]
  },
  {
   "cell_type": "code",
   "execution_count": null,
   "metadata": {
    "execution": {
     "iopub.execute_input": "2024-09-13T22:09:46.554932Z",
     "iopub.status.busy": "2024-09-13T22:09:46.55415Z",
     "iopub.status.idle": "2024-09-13T22:09:46.630917Z",
     "shell.execute_reply": "2024-09-13T22:09:46.629924Z",
     "shell.execute_reply.started": "2024-09-13T22:09:46.554888Z"
    }
   },
   "outputs": [],
   "source": [
    "test_preds = model.predict(X_test)"
   ]
  },
  {
   "cell_type": "markdown",
   "metadata": {},
   "source": [
    "### Create Submission"
   ]
  },
  {
   "cell_type": "code",
   "execution_count": null,
   "metadata": {
    "execution": {
     "iopub.execute_input": "2024-09-13T22:09:50.195144Z",
     "iopub.status.busy": "2024-09-13T22:09:50.194202Z",
     "iopub.status.idle": "2024-09-13T22:09:50.208126Z",
     "shell.execute_reply": "2024-09-13T22:09:50.20689Z",
     "shell.execute_reply.started": "2024-09-13T22:09:50.1951Z"
    }
   },
   "outputs": [],
   "source": [
    "submission = pd.DataFrame({'PassengerId': test['PassengerId'], 'Transported': test_preds})\n",
    "submission.to_csv('submission.csv', index=False)"
   ]
  }
 ],
 "metadata": {
  "kaggle": {
   "accelerator": "gpu",
   "dataSources": [
    {
     "databundleVersionId": 3220602,
     "sourceId": 34377,
     "sourceType": "competition"
    }
   ],
   "dockerImageVersionId": 30762,
   "isGpuEnabled": true,
   "isInternetEnabled": true,
   "language": "python",
   "sourceType": "notebook"
  },
  "kernelspec": {
   "display_name": "Python 3",
   "language": "python",
   "name": "python3"
  },
  "language_info": {
   "codemirror_mode": {
    "name": "ipython",
    "version": 3
   },
   "file_extension": ".py",
   "mimetype": "text/x-python",
   "name": "python",
   "nbconvert_exporter": "python",
   "pygments_lexer": "ipython3",
   "version": "3.10.14"
  }
 },
 "nbformat": 4,
 "nbformat_minor": 4
}
